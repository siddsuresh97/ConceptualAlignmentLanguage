{
 "cells": [
  {
   "cell_type": "code",
   "execution_count": 2,
   "metadata": {},
   "outputs": [],
   "source": [
    "import os\n",
    "# base_dir = os.path.abspath('/mnt/ws/home/xyu/ConceptualAlignmentLanguage/tripletNCE')\n",
    "base_dir = os.path.abspath('/mnt/dv/wid/projects3/Rogers-nsf-ind-diff/sid/Projects/ConceptualAlignmentLanguage/tripletNCE')\n",
    "save_dir = os.path.join(base_dir,'results')\n",
    "data_dir = os.path.join(base_dir,'data')"
   ]
  },
  {
   "cell_type": "code",
   "execution_count": 3,
   "metadata": {},
   "outputs": [],
   "source": [
    "import torch\n",
    "# torch.manual_seed(0)\n",
    "import wandb\n",
    "import os\n",
    "import torch.nn as nn\n",
    "import torch.nn.functional as F\n",
    "import torch.utils\n",
    "import torch.distributions\n",
    "from torch.utils.data import TensorDataset,Dataset, random_split\n",
    "from torch.utils.data.sampler import SubsetRandomSampler\n",
    "from torchvision.transforms import Resize\n",
    "\n",
    "import torchvision\n",
    "from tqdm import tqdm\n",
    "import random\n",
    "import numpy as np\n",
    "import matplotlib.pyplot as plt; plt.rcParams['figure.dpi'] = 200\n",
    "\n",
    "\n",
    "from sklearn import linear_model\n",
    "from sklearn.preprocessing import StandardScaler\n",
    "\n",
    "# from neurora.rdm_corr import rdm_correlation_spearman"
   ]
  },
  {
   "cell_type": "code",
   "execution_count": 4,
   "metadata": {},
   "outputs": [],
   "source": [
    "device = 'cuda' if torch.cuda.is_available() else 'cpu'"
   ]
  },
  {
   "attachments": {},
   "cell_type": "markdown",
   "metadata": {},
   "source": [
    "## Define model"
   ]
  },
  {
   "cell_type": "code",
   "execution_count": 5,
   "metadata": {},
   "outputs": [],
   "source": [
    "class TripletLabelModel(nn.Module):\n",
    "    def __init__(self, encoded_space_dim=64, num_classes=10):\n",
    "        super().__init__()\n",
    "        \"\"\n",
    "        ### Convolutional section\n",
    "       ### Convolutional section\n",
    "        self.encoder_cnn = nn.Sequential(\n",
    "            nn.Conv2d(3, 8, 3, stride=2, padding=1),\n",
    "            nn.ReLU(True),\n",
    "            nn.Conv2d(8, 16, 3, stride=2, padding=1),\n",
    "            nn.BatchNorm2d(16),\n",
    "            nn.ReLU(True),\n",
    "            nn.Conv2d(16, 32, 3, stride=2, padding=1),\n",
    "            nn.ReLU(True),\n",
    "            nn.MaxPool2d(kernel_size=2, stride=2),\n",
    "        )\n",
    "        \n",
    "    \n",
    "        ### Flatten layer\n",
    "        self.flatten = nn.Flatten(start_dim=1)\n",
    "        ### Linear section\n",
    "        ## changed 32*4*4 to 32*2*2\n",
    "        self.encoder_lin = nn.Sequential(\n",
    "            nn.Linear(32*2*2, 256),\n",
    "            nn.BatchNorm1d(256),\n",
    "            nn.ReLU(True),\n",
    "            nn.Linear(256, 128),\n",
    "            nn.BatchNorm1d(128),\n",
    "            nn.ReLU(True),\n",
    "            nn.Linear(128, encoded_space_dim)\n",
    "        )\n",
    "\n",
    "        ## triplet projection module\n",
    "        self.decoder_triplet_lin = nn.Sequential(\n",
    "            nn.Linear(encoded_space_dim, 32),\n",
    "            nn.ReLU(True)\n",
    "         \n",
    "        )\n",
    "        ##labeling module\n",
    "        self.decoder_labels_lin = nn.Sequential(\n",
    "            nn.Linear(encoded_space_dim, 32),\n",
    "            nn.ReLU(True),\n",
    "            nn.Linear(32, 16),\n",
    "            nn.ReLU(True),\n",
    "            nn.Linear(16, num_classes),\n",
    "        )\n",
    "\n",
    "        ### initialize weights using xavier initialization\n",
    "        for m in self.modules():\n",
    "            if isinstance(m, nn.Conv2d):\n",
    "                nn.init.xavier_uniform_(m.weight)\n",
    "                if m.bias is not None:\n",
    "                    nn.init.constant_(m.bias, 0)\n",
    "            elif isinstance(m, nn.BatchNorm2d):\n",
    "                nn.init.constant_(m.weight, 1)\n",
    "                nn.init.constant_(m.bias, 0)\n",
    "            elif isinstance(m, nn.Linear):\n",
    "                nn.init.xavier_uniform_(m.weight)\n",
    "                nn.init.constant_(m.bias, 0)\n",
    "    \n",
    "        \n",
    "    def forward(self, x, y=None):\n",
    "        batch_s = x.size(0)\n",
    "        img_features = self.encoder_cnn(x)\n",
    "        img_features = self.flatten(img_features)\n",
    "        \n",
    "        enc_latent = self.encoder_lin(img_features)\n",
    "\n",
    "        triplet_latent = self.decoder_triplet_lin(enc_latent)\n",
    "        label = self.decoder_labels_lin(enc_latent)\n",
    "        # label = F.softmax(label,dim=1)\n",
    "        return enc_latent, label"
   ]
  },
  {
   "cell_type": "code",
   "execution_count": 6,
   "metadata": {},
   "outputs": [],
   "source": [
    "### custom loss computing triplet loss and labeling loss\n",
    "\n",
    "\n",
    "class CustomLoss(nn.Module):\n",
    "    def __init__(self, margin=10):\n",
    "        super(CustomLoss, self).__init__()\n",
    "        self.margin = margin\n",
    "        self.cross_entropy = nn.CrossEntropyLoss()\n",
    "\n",
    "    def forward(self, anchor, positive, negative, label, pred_label):\n",
    "        cosine_sim = torch.nn.CosineSimilarity(1)\n",
    "        # distance_positive = torch.tensor(1)-cosine_sim(anchor,positive)\n",
    "   \n",
    "        # distance_negative = torch.tensor(1)-cosine_sim(anchor,negative)\n",
    "\n",
    "        # triplet_loss = torch.maximum(distance_positive - distance_negative + self.margin, torch.tensor(0))\n",
    "        # triplet_loss = torch.sum(triplet_loss)\n",
    "        triplet_loss = (nn.TripletMarginWithDistanceLoss( distance_function=lambda x, y: 1.0 - F.cosine_similarity(x, y)))\n",
    "        triplet_loss = triplet_loss(anchor, positive, negative)\n",
    "        label_loss = self.cross_entropy(pred_label.float().softmax(dim = 1), label.float())\n",
    "        total_loss = triplet_loss + label_loss\n",
    "        return triplet_loss, label_loss, total_loss"
   ]
  },
  {
   "cell_type": "code",
   "execution_count": 7,
   "metadata": {},
   "outputs": [],
   "source": [
    "# t = TripletLabelModel()\n",
    "# cifar_model_path = '../../data/CIFAR10_NCE_i_1e-05_50.pth'\n",
    "# t.load_state_dict(torch.load(cifar_model_path))"
   ]
  },
  {
   "attachments": {},
   "cell_type": "markdown",
   "metadata": {},
   "source": [
    "### Training functions"
   ]
  },
  {
   "cell_type": "code",
   "execution_count": 8,
   "metadata": {},
   "outputs": [],
   "source": [
    "\n",
    "\n",
    "class TrainModels(nn.Module):\n",
    "    def __init__(self, latent_dims, num_classes, weights_path=None):\n",
    "        super(TrainModels, self).__init__()\n",
    "        self.triplet_lab_model = TripletLabelModel(latent_dims, 10) ### load cifar model\n",
    "        if weights_path!=None:\n",
    "            cifar_model_path = '/mnt/dv/wid/projects3/Rogers-nsf-ind-diff/sid/Projects/ConceptualAlignmentLanguage/tripletNCE/data/CIFAR10_NCE_i_1e-05_50.pth'\n",
    "            self.triplet_lab_model.load_state_dict(torch.load(cifar_model_path))\n",
    "            self.triplet_lab_model.decoder_labels_lin[4] = nn.Linear(16, num_classes)\n",
    "        self.custom_loss = CustomLoss()\n",
    "        self.num_classes = num_classes\n",
    "    \n",
    "    def forward(self, anchor_im, positive_im, negative_im):\n",
    "        anchor_latent, anchor_label = self.triplet_lab_model(anchor_im)\n",
    "        positive_latent, _ = self.triplet_lab_model(positive_im)\n",
    "        negative_latent, _ = self.triplet_lab_model(negative_im)\n",
    "\n",
    "        return anchor_latent, positive_latent, negative_latent, anchor_label\n",
    "\n",
    "    def test_epoch(self, test_data):\n",
    "    # Set evaluation mode for encoder and decoder\n",
    "        self.eval()\n",
    "        with torch.no_grad(): # No need to track the gradients\n",
    "            # Define the lists to store the outputs for each batch\n",
    "            test_triplet_loss = []\n",
    "            test_label_loss = []\n",
    "            test_total_loss = []\n",
    "            total = 0\n",
    "            correct = 0\n",
    "            for anchor_ims, contrast_ims, labels in test_data:\n",
    "                # Move tensor to the proper device\n",
    "                anchor_ims = anchor_ims.to(device)\n",
    "                contrast_ims = contrast_ims.to(device)\n",
    "                labels = F.one_hot(labels, num_classes=self.num_classes)\n",
    "                labels = labels.to(device)\n",
    "                anchor_latent, positive_latent, negative_latent, pred_label = self.forward(anchor_ims, anchor_ims,contrast_ims) \n",
    "                # Append the network output and the original image to the lists\n",
    "                triplet_loss, label_loss, total_loss = self.custom_loss(anchor_latent,\n",
    "                                                                positive_latent, \n",
    "                                                                negative_latent, \n",
    "                                                                labels,\n",
    "                                                                pred_label)\n",
    "                total += labels.size(0)\n",
    "                correct += (torch.argmax(pred_label, dim = 1) == torch.argmax(labels, dim = 1)).sum().item()\n",
    "                test_triplet_loss.append(triplet_loss.item())\n",
    "                test_label_loss.append(label_loss.item())\n",
    "                test_total_loss.append(total_loss.item())\n",
    "        test_triplet_loss = sum(test_triplet_loss)/len(test_triplet_loss)\n",
    "        test_label_loss = sum(test_label_loss)/len(test_label_loss)\n",
    "        test_total_loss = sum(test_total_loss)/len(test_total_loss)\n",
    "        test_accuracy = correct/total\n",
    "        return test_triplet_loss, test_label_loss, test_total_loss, test_accuracy\n",
    "\n",
    "    def test_epoch_calculate_representation_separation(self, test_data):\n",
    "    # Set evaluation mode for encoder and decoder\n",
    "        self.eval()\n",
    "        with torch.no_grad(): # No need to track the gradients\n",
    "            accuracies = []\n",
    "            for anchor_ims, contrast_ims, labels in test_data:\n",
    "                # Move tensor to the proper device\n",
    "                anchor_ims = anchor_ims.to(device)\n",
    "                contrast_ims = contrast_ims.to(device)\n",
    "                # labels = F.one_hot(labels, num_classes=self.num_classes)\n",
    "                # labels = labels.to(device)\n",
    "                anchor_latent, _, _, _ = self.forward(anchor_ims, anchor_ims,contrast_ims) \n",
    "                # use sklearn to predict labels from anchor_latent\n",
    "                # calculate accuracy\n",
    "                # x's are anchor_latent and y's are labels\n",
    "                # append accuracy to list\n",
    "                # put anchor_latent and labels on cpu and convert to numpy\n",
    "\n",
    "          \n",
    "                anchor_latent = anchor_latent.cpu().numpy()\n",
    "                ### standard scale the data in anchor_latent before fitting to the model\n",
    "                anchor_latent = StandardScaler().fit_transform(anchor_latent)\n",
    "                labels = labels.cpu().numpy()\n",
    "                \n",
    "                lm = linear_model.LogisticRegression()\n",
    "                lm.fit(anchor_latent, labels)\n",
    "                # convert labels to sklearn format\n",
    "                accuracies.append(lm.score(anchor_latent, labels))\n",
    "        accuracy = sum(accuracies)/len(accuracies)\n",
    "        return accuracy\n",
    "\n",
    "    def train_epoch(self, train_data, optimizer, train_mode):\n",
    "        self.train()\n",
    "        train_triplet_loss = []\n",
    "        train_label_loss = []\n",
    "        train_total_loss = []\n",
    "        correct = 0\n",
    "        total = 0\n",
    "        for anchor_ims, contrast_ims, labels in train_data:\n",
    "            \n",
    "            anchor_ims = anchor_ims.to(device)\n",
    "            contrast_ims = contrast_ims.to(device)\n",
    "            labels = F.one_hot(labels, num_classes=self.num_classes)\n",
    "            labels = labels.to(device)\n",
    "\n",
    "            optimizer.zero_grad()\n",
    "            anchor_latent, positive_latent, negative_latent, pred_label = self.forward(anchor_ims, anchor_ims,contrast_ims) \n",
    "           \n",
    "           \n",
    "           \n",
    "            triplet_loss, label_loss, total_loss = self.custom_loss(anchor_latent,\n",
    "                                                                positive_latent, \n",
    "                                                                negative_latent, \n",
    "                                                                labels,\n",
    "                                                                pred_label)\n",
    "            \n",
    "            \n",
    "            if train_mode==0:\n",
    "                triplet_loss.backward()\n",
    "            elif train_mode==1:\n",
    "                label_loss.backward()\n",
    "            elif train_mode==2:\n",
    "                total_loss.backward()\n",
    "\n",
    "            optimizer.step()\n",
    "            train_triplet_loss.append(triplet_loss.item())\n",
    "            train_label_loss.append(label_loss.item())\n",
    "            train_total_loss.append(total_loss.item())\n",
    "            total += labels.size(0)\n",
    "            correct += (torch.argmax(pred_label, dim = 1) == torch.argmax(labels, dim = 1)).sum().item()\n",
    "        train_triplet_loss = sum(train_triplet_loss)/len(train_triplet_loss)\n",
    "        train_label_loss = sum(train_label_loss)/len(train_label_loss)\n",
    "        train_total_loss = sum(train_total_loss)/len(train_total_loss)\n",
    "        train_accuracy = correct/total\n",
    "        return train_triplet_loss, train_label_loss, train_total_loss, train_accuracy\n",
    "\n",
    "    def training_loop(self, train_data, test_data,train_mode,\n",
    "                      epochs, optimizer):\n",
    "        train_losses = []\n",
    "        val_losses = []\n",
    "        train_triplet_losses = []\n",
    "        val_triplet_losses = []\n",
    "        train_label_losses = []\n",
    "        val_label_losses = []\n",
    "        train_accuracies = []\n",
    "        val_accuracies = []\n",
    "        latent_separation_accuracy = 0\n",
    "        for epoch in tqdm(range(epochs)):\n",
    "          train_triplet_loss, train_label_loss, train_total_loss, train_accuracy =self.train_epoch(train_data, optimizer, \n",
    "                                             train_mode)\n",
    "          test_triplet_loss, test_label_loss, test_total_loss, test_accuracy = self.test_epoch(test_data)\n",
    "          separation_accuracy = self.test_epoch_calculate_representation_separation(test_data)\n",
    "          train_losses.append(train_total_loss)\n",
    "          val_losses.append(test_total_loss)\n",
    "          train_triplet_losses.append(train_triplet_loss)\n",
    "          val_triplet_losses.append(test_triplet_loss)\n",
    "          train_label_losses.append(train_label_loss)\n",
    "          val_label_losses.append(test_label_loss)\n",
    "          train_accuracies.append(train_accuracy)\n",
    "          val_accuracies.append(test_accuracy)\n",
    "          wandb.log({\"train triplet loss\": train_triplet_loss, \n",
    "            \"train label loss\":train_label_loss, \n",
    "            \"validation triplet loss\":test_triplet_loss, \n",
    "            \"validation label loss\":test_label_loss, \n",
    "            \"total train loss\":train_total_loss, \n",
    "            \"total validation loss\":test_total_loss, \n",
    "            \"train label accuracy\":train_accuracy, \n",
    "            \"validation label accuracy\":test_accuracy,\n",
    "            'latent separation accuracy':separation_accuracy})\n",
    "        return train_triplet_losses, train_label_losses, val_triplet_losses, val_label_losses ,train_losses, val_losses, train_accuracies, val_accuracies\n"
   ]
  },
  {
   "cell_type": "code",
   "execution_count": 9,
   "metadata": {},
   "outputs": [],
   "source": [
    "set_A_ims = np.load(os.path.join(data_dir, 'set_A.npy'))\n",
    "set_B_ims = np.load(os.path.join(data_dir, 'set_B.npy'))\n",
    "set_C_ims = np.load(os.path.join(data_dir, 'set_C.npy'))\n",
    "set_A_labs = np.load(os.path.join(data_dir, 'set_A_labs.npy'))\n",
    "set_B_labs = np.load(os.path.join(data_dir, 'set_B_labs.npy'))\n",
    "set_C_labs = np.load(os.path.join(data_dir, 'set_C_labs.npy'))\n"
   ]
  },
  {
   "cell_type": "code",
   "execution_count": 10,
   "metadata": {},
   "outputs": [],
   "source": [
    "\n",
    "set_A_sub_ims =[]\n",
    "set_B_sub_ims =[]\n",
    "\n",
    "set_C_sub_ims =[]\n",
    "\n",
    "set_A_sub_labs =[]\n",
    "set_B_sub_labs =[]\n",
    "set_C_sub_labs =[]\n",
    "\n",
    "\n",
    "for i in range (4):\n",
    "    sub_main = set_A_ims[i*600:(i*600)+600]\n",
    "    labels_main = set_A_labs[i*600:(i*600)+600]\n",
    "    np.random.seed(711)\n",
    "    np.random.shuffle(sub_main)\n",
    "    np.random.seed(711)\n",
    "    np.random.shuffle(labels_main)\n",
    "\n",
    "    set_A_sub_ims.append(sub_main[:30])\n",
    "    set_B_sub_ims.append(sub_main[:15])\n",
    "    set_B_sub_ims.append(sub_main[30:45])\n",
    "    set_C_sub_ims.append(sub_main[35:65])\n",
    "\n",
    "    set_A_sub_labs.append(labels_main[:30])\n",
    "    set_B_sub_labs.append(labels_main[:15])\n",
    "    set_B_sub_labs.append(labels_main[30:45])\n",
    "    set_C_sub_labs.append(labels_main[35:65])\n",
    "\n",
    "\n",
    "    \n",
    "\n",
    "\n",
    "\n",
    "\n",
    "##flatten set_A_sub_ims into an array of shape 120,64,64,3\n",
    "set_A_sub_ims = np.concatenate(set_A_sub_ims)\n",
    "set_B_sub_ims = np.concatenate(set_B_sub_ims)\n",
    "set_C_sub_ims = np.concatenate(set_C_sub_ims)\n",
    "\n",
    "set_A_sub_labs = np.concatenate(set_A_sub_labs)\n",
    "set_B_sub_labs = np.concatenate(set_B_sub_labs)\n",
    "set_C_sub_labs = np.concatenate(set_C_sub_labs)\n"
   ]
  },
  {
   "cell_type": "markdown",
   "metadata": {},
   "source": [
    "A-B: 50% \\\n",
    "A-C: 0% \\\n",
    "B-C: 33.33%"
   ]
  },
  {
   "cell_type": "code",
   "execution_count": null,
   "metadata": {},
   "outputs": [],
   "source": []
  },
  {
   "cell_type": "code",
   "execution_count": 11,
   "metadata": {},
   "outputs": [],
   "source": [
    "\n",
    "###initialize weights and bias tracking\n",
    "def wandb_init(epochs, lr, train_mode, batch_size, model_number,data_set):\n",
    "    wandb.init(project=\"ConceptualAlignment\", settings=wandb.Settings(start_method=\"thread\"))\n",
    "    wandb.config = {\n",
    "      \"learning_rate\": lr,\n",
    "      \"epochs\": epochs,\n",
    "      \"batch_size\": batch_size, \n",
    "      # \"label_ratio\":label_ratio, \n",
    "      \"model_number\": model_number,\n",
    "      \"dataset\": data_set,\n",
    "      \"train_mode\":train_mode,\n",
    "    }\n",
    "    train_mode_dict = {0:'triplet', 1:'label', 2:'label_and_triplet'}\n",
    "    wandb.run.name = f'{data_set}_{train_mode_dict[train_mode]}_{model_number}'\n",
    "    wandb.run.save()\n",
    "     "
   ]
  },
  {
   "cell_type": "code",
   "execution_count": 16,
   "metadata": {},
   "outputs": [],
   "source": [
    "\n",
    "def main_code(save_dir, num_models, epochs, num_classes, batch_size,\n",
    "             lr, latent_dims):\n",
    "  if os.path.isdir(save_dir):\n",
    "    pass\n",
    "  else:\n",
    "    os.mkdir(save_dir)\n",
    "  random.seed(42)\n",
    "  np.random.seed(42)\n",
    "  torch.manual_seed(42)\n",
    "  \n",
    "  # test_intervals = [(540, 600), (1140, 1200), (1740, 1800), (2340, 2400)]\n",
    "  test_intervals = [(25, 30), (55, 60), (85, 90), (115, 120)]\n",
    "  # initialize an empty list to hold the indices\n",
    "  val_indices = []\n",
    "\n",
    "  # loop through the intervals and append the indices to the list\n",
    "  for start, stop in test_intervals:\n",
    "      val_indices.extend(list(range(start, stop)))\n",
    "\n",
    "  # train_indices = (np.setdiff1d(np.arange(2400),np.array(val_indices)))\n",
    "  train_indices = (np.setdiff1d(np.arange(120),np.array(val_indices)))\n",
    "\n",
    "  # np.random.seed(56)\n",
    "  # contrast_indices  = np.concatenate((np.random.choice(np.arange(start=600, stop=2400), 600, replace=False),\n",
    "  #               np.random.choice(np.concatenate((np.arange(start=0, stop=600), np.arange(start=1200, stop=2400))), 600, replace=False),\n",
    "  #               np.random.choice(np.concatenate((np.arange(start=0, stop=1200), np.arange(start=1800, stop=2400))), 600, replace=False),\n",
    "  #               np.random.choice(np.arange(start=1800, stop=2400), 600, replace=False)))\n",
    "  contrast_indices  = np.concatenate((np.random.choice(np.arange(start=30, stop=120), 30, replace=False),\n",
    "                np.random.choice(np.concatenate((np.arange(start=0, stop=30), np.arange(start=60, stop=120))), 30, replace=False),\n",
    "                np.random.choice(np.concatenate((np.arange(start=0, stop=60), np.arange(start=90, stop=120))), 30, replace=False),\n",
    "                np.random.choice(np.arange(start=0, stop=90), 30, replace=False)))\n",
    "\n",
    "  # for data_set in ['set_A','set_A2','set_B','set_C']:\n",
    "  for data_set in ['set_A']:\n",
    "    for train_mode in tqdm(range(2, 3)):\n",
    "     # torch.manual_seed(0)\n",
    "      for model in range(num_models):\n",
    "        wandb_init(epochs, lr, train_mode, batch_size, model,data_set)\n",
    "        weights_path = f'../../data/cifar_models/m{model}.pth'\n",
    "\n",
    "        if data_set=='set_A':\n",
    "          train_data = TensorDataset(Resize(32)(torch.tensor(set_A_sub_ims.transpose(0,3,1,2)/255).float()), Resize(32)(torch.tensor(set_A_sub_ims[contrast_indices].transpose(0,3,1,2)/255).float()),\\\n",
    "                                     torch.tensor(set_A_sub_labs).to(torch.int64))\n",
    "          # train_data = TensorDataset(Resize(32)(torch.tensor(set_A_ims.transpose(0,3,1,2)/255).float()), Resize(32)(torch.tensor(set_A_ims.transpose(0,3,1,2)/255).float()),\\\n",
    "          #                            torch.tensor(set_A_labs).to(torch.int64))\n",
    "        else:\n",
    "          exit()\n",
    "        train_size = int(0.7 * len(train_data))\n",
    "        val_size = len(train_data) - train_size\n",
    "        \n",
    "        train_data, val_data = random_split(train_data, [train_size, val_size], generator=torch.Generator().manual_seed(42))\n",
    "       \n",
    "\n",
    "        train_data = torch.utils.data.DataLoader(train_data, \n",
    "                                                batch_size=batch_size,\n",
    "                                              shuffle=True)\n",
    "        val_data = torch.utils.data.DataLoader(val_data, \n",
    "                                                batch_size=batch_size,\n",
    "                                              shuffle=False)\n",
    "        \n",
    "        \n",
    "        # assert(len(test_data.dataset) == test_size)\n",
    "        assert(len(train_data.dataset) == train_size)\n",
    "        assert(len(val_data.dataset) == val_size)\n",
    "\n",
    "        train_obj = TrainModels(latent_dims, num_classes, weights_path).to(device) # GPU\n",
    "        optimizer = torch.optim.Adam(train_obj.parameters(), lr=lr, weight_decay=1e-05)\n",
    "        train_triplet_losses, train_label_losses, \\\n",
    "          val_triplet_losses, val_label_losses, \\\n",
    "            train_losses, val_losses, train_accuracies, val_accuracies= train_obj.training_loop(train_data = train_data,\n",
    "                                                            test_data = val_data,\n",
    "                                                            epochs = epochs,\n",
    "                                                            optimizer = optimizer, \n",
    "                                                            train_mode = train_mode)\n",
    "\n",
    "\n",
    "        \n",
    "\n",
    "        print('validation triplet loss:',val_triplet_losses[-1],'validation total loss:',val_losses[-1],'validation accuracy:',val_accuracies[-1])\n",
    "        # wandb.log({\"train_img_loss\": train_img_loss, \n",
    "        #           \"train_label_loss\":train_label_loss, \n",
    "        #           \"val_img_loss\":val_img_loss, \n",
    "        #           \"val_label_loss\":val_label_loss, \n",
    "        #           \"train_losses\":train_losses, \n",
    "        #           \"val_losses\":val_losses, \n",
    "        #           \"train_accuracy\":train_accuracy, \n",
    "        #           \"val_accuracy\":val_accuracy})\n",
    "        train_mode_dict = {0:'triplet', 1:'label',2:'label_and_triplet' }\n",
    "        torch.save(train_obj.triplet_lab_model.state_dict(), os.path.join(save_dir,'sid_checkpoints', 'before_self_talk_all_set_A',f'{model}_{data_set}_{train_mode_dict[train_mode]}_{round(val_accuracies[-1], 3)}_sid_ce.pth'))\n",
    "  return val_data\n",
    "        \n",
    "\n"
   ]
  },
  {
   "cell_type": "code",
   "execution_count": 17,
   "metadata": {},
   "outputs": [
    {
     "name": "stderr",
     "output_type": "stream",
     "text": [
      "wandb: WARNING Source type is set to 'repo' but some required information is missing from the environment. A job will not be created from this run. See https://docs.wandb.ai/guides/launch/create-job\n"
     ]
    },
    {
     "data": {
      "text/html": [
       " View run <strong style=\"color:#cdcd00\">wobbly-haze-61</strong> at: <a href='https://wandb.ai/sid-academic-team/ConceptualAlignment/runs/84htnmh8' target=\"_blank\">https://wandb.ai/sid-academic-team/ConceptualAlignment/runs/84htnmh8</a><br/>Synced 6 W&B file(s), 0 media file(s), 0 artifact file(s) and 0 other file(s)"
      ],
      "text/plain": [
       "<IPython.core.display.HTML object>"
      ]
     },
     "metadata": {},
     "output_type": "display_data"
    },
    {
     "data": {
      "text/html": [
       "Find logs at: <code>./wandb/run-20240125_181204-84htnmh8/logs</code>"
      ],
      "text/plain": [
       "<IPython.core.display.HTML object>"
      ]
     },
     "metadata": {},
     "output_type": "display_data"
    },
    {
     "name": "stderr",
     "output_type": "stream",
     "text": [
      "  0%|          | 0/1 [00:00<?, ?it/s]"
     ]
    },
    {
     "data": {
      "text/html": [
       "Tracking run with wandb version 0.16.2"
      ],
      "text/plain": [
       "<IPython.core.display.HTML object>"
      ]
     },
     "metadata": {},
     "output_type": "display_data"
    },
    {
     "data": {
      "text/html": [
       "Run data is saved locally in <code>/mnt/dv/wid/projects3/Rogers-nsf-ind-diff/sid/Projects/ConceptualAlignmentLanguage/tripletNCE/wandb/run-20240125_181311-2dvsjb7y</code>"
      ],
      "text/plain": [
       "<IPython.core.display.HTML object>"
      ]
     },
     "metadata": {},
     "output_type": "display_data"
    },
    {
     "data": {
      "text/html": [
       "Syncing run <strong><a href='https://wandb.ai/sid-academic-team/ConceptualAlignment/runs/2dvsjb7y' target=\"_blank\">genial-shape-62</a></strong> to <a href='https://wandb.ai/sid-academic-team/ConceptualAlignment' target=\"_blank\">Weights & Biases</a> (<a href='https://wandb.me/run' target=\"_blank\">docs</a>)<br/>"
      ],
      "text/plain": [
       "<IPython.core.display.HTML object>"
      ]
     },
     "metadata": {},
     "output_type": "display_data"
    },
    {
     "data": {
      "text/html": [
       " View project at <a href='https://wandb.ai/sid-academic-team/ConceptualAlignment' target=\"_blank\">https://wandb.ai/sid-academic-team/ConceptualAlignment</a>"
      ],
      "text/plain": [
       "<IPython.core.display.HTML object>"
      ]
     },
     "metadata": {},
     "output_type": "display_data"
    },
    {
     "data": {
      "text/html": [
       " View run at <a href='https://wandb.ai/sid-academic-team/ConceptualAlignment/runs/2dvsjb7y' target=\"_blank\">https://wandb.ai/sid-academic-team/ConceptualAlignment/runs/2dvsjb7y</a>"
      ],
      "text/plain": [
       "<IPython.core.display.HTML object>"
      ]
     },
     "metadata": {},
     "output_type": "display_data"
    },
    {
     "name": "stderr",
     "output_type": "stream",
     "text": [
      "/mnt/dv/wid/projects3/Rogers-muri-human-ai/sid/tmp/envs/alignment2/lib/python3.8/site-packages/torchvision/transforms/functional.py:1603: UserWarning: The default value of the antialias parameter of all the resizing transforms (Resize(), RandomResizedCrop(), etc.) will change from None to True in v0.17, in order to be consistent across the PIL and Tensor backends. To suppress this warning, directly pass antialias=True (recommended, future default), antialias=None (current default, which means False for Tensors and True for PIL), or antialias=False (only works on Tensors - PIL will still use antialiasing). This also applies if you are using the inference transforms from the models weights: update the call to weights.transforms(antialias=True).\n",
      "  warnings.warn(\n",
      "100%|██████████| 1/1 [00:01<00:00,  1.26s/it]\n",
      "100%|██████████| 1/1 [00:09<00:00,  9.46s/it]\n"
     ]
    },
    {
     "name": "stdout",
     "output_type": "stream",
     "text": [
      "validation triplet loss: 0.6189886927604675 validation total loss: 2.012028932571411 validation accuracy: 0.08333333333333333\n"
     ]
    },
    {
     "name": "stderr",
     "output_type": "stream",
     "text": [
      "  0%|          | 0/1 [00:00<?, ?it/s]"
     ]
    },
    {
     "data": {
      "text/html": [
       "Finishing last run (ID:2dvsjb7y) before initializing another..."
      ],
      "text/plain": [
       "<IPython.core.display.HTML object>"
      ]
     },
     "metadata": {},
     "output_type": "display_data"
    },
    {
     "name": "stderr",
     "output_type": "stream",
     "text": [
      "wandb: WARNING Source type is set to 'repo' but some required information is missing from the environment. A job will not be created from this run. See https://docs.wandb.ai/guides/launch/create-job\n"
     ]
    },
    {
     "data": {
      "text/html": [
       "<style>\n",
       "    table.wandb td:nth-child(1) { padding: 0 10px; text-align: left ; width: auto;} td:nth-child(2) {text-align: left ; width: 100%}\n",
       "    .wandb-row { display: flex; flex-direction: row; flex-wrap: wrap; justify-content: flex-start; width: 100% }\n",
       "    .wandb-col { display: flex; flex-direction: column; flex-basis: 100%; flex: 1; padding: 10px; }\n",
       "    </style>\n",
       "<div class=\"wandb-row\"><div class=\"wandb-col\"><h3>Run history:</h3><br/><table class=\"wandb\"><tr><td>latent separation accuracy</td><td>▁</td></tr><tr><td>total train loss</td><td>▁</td></tr><tr><td>total validation loss</td><td>▁</td></tr><tr><td>train label accuracy</td><td>▁</td></tr><tr><td>train label loss</td><td>▁</td></tr><tr><td>train triplet loss</td><td>▁</td></tr><tr><td>validation label accuracy</td><td>▁</td></tr><tr><td>validation label loss</td><td>▁</td></tr><tr><td>validation triplet loss</td><td>▁</td></tr></table><br/></div><div class=\"wandb-col\"><h3>Run summary:</h3><br/><table class=\"wandb\"><tr><td>latent separation accuracy</td><td>1.0</td></tr><tr><td>total train loss</td><td>1.66787</td></tr><tr><td>total validation loss</td><td>2.01203</td></tr><tr><td>train label accuracy</td><td>0.28571</td></tr><tr><td>train label loss</td><td>1.38737</td></tr><tr><td>train triplet loss</td><td>0.2805</td></tr><tr><td>validation label accuracy</td><td>0.08333</td></tr><tr><td>validation label loss</td><td>1.39304</td></tr><tr><td>validation triplet loss</td><td>0.61899</td></tr></table><br/></div></div>"
      ],
      "text/plain": [
       "<IPython.core.display.HTML object>"
      ]
     },
     "metadata": {},
     "output_type": "display_data"
    },
    {
     "data": {
      "text/html": [
       " View run <strong style=\"color:#cdcd00\">genial-shape-62</strong> at: <a href='https://wandb.ai/sid-academic-team/ConceptualAlignment/runs/2dvsjb7y' target=\"_blank\">https://wandb.ai/sid-academic-team/ConceptualAlignment/runs/2dvsjb7y</a><br/>Synced 6 W&B file(s), 0 media file(s), 0 artifact file(s) and 0 other file(s)"
      ],
      "text/plain": [
       "<IPython.core.display.HTML object>"
      ]
     },
     "metadata": {},
     "output_type": "display_data"
    },
    {
     "data": {
      "text/html": [
       "Find logs at: <code>./wandb/run-20240125_181311-2dvsjb7y/logs</code>"
      ],
      "text/plain": [
       "<IPython.core.display.HTML object>"
      ]
     },
     "metadata": {},
     "output_type": "display_data"
    },
    {
     "data": {
      "text/html": [
       "Successfully finished last run (ID:2dvsjb7y). Initializing new run:<br/>"
      ],
      "text/plain": [
       "<IPython.core.display.HTML object>"
      ]
     },
     "metadata": {},
     "output_type": "display_data"
    },
    {
     "data": {
      "text/html": [
       "Tracking run with wandb version 0.16.2"
      ],
      "text/plain": [
       "<IPython.core.display.HTML object>"
      ]
     },
     "metadata": {},
     "output_type": "display_data"
    },
    {
     "data": {
      "text/html": [
       "Run data is saved locally in <code>/mnt/dv/wid/projects3/Rogers-nsf-ind-diff/sid/Projects/ConceptualAlignmentLanguage/tripletNCE/wandb/run-20240125_181321-j250abx8</code>"
      ],
      "text/plain": [
       "<IPython.core.display.HTML object>"
      ]
     },
     "metadata": {},
     "output_type": "display_data"
    },
    {
     "data": {
      "text/html": [
       "Syncing run <strong><a href='https://wandb.ai/sid-academic-team/ConceptualAlignment/runs/j250abx8' target=\"_blank\">solar-snowball-63</a></strong> to <a href='https://wandb.ai/sid-academic-team/ConceptualAlignment' target=\"_blank\">Weights & Biases</a> (<a href='https://wandb.me/run' target=\"_blank\">docs</a>)<br/>"
      ],
      "text/plain": [
       "<IPython.core.display.HTML object>"
      ]
     },
     "metadata": {},
     "output_type": "display_data"
    },
    {
     "data": {
      "text/html": [
       " View project at <a href='https://wandb.ai/sid-academic-team/ConceptualAlignment' target=\"_blank\">https://wandb.ai/sid-academic-team/ConceptualAlignment</a>"
      ],
      "text/plain": [
       "<IPython.core.display.HTML object>"
      ]
     },
     "metadata": {},
     "output_type": "display_data"
    },
    {
     "data": {
      "text/html": [
       " View run at <a href='https://wandb.ai/sid-academic-team/ConceptualAlignment/runs/j250abx8' target=\"_blank\">https://wandb.ai/sid-academic-team/ConceptualAlignment/runs/j250abx8</a>"
      ],
      "text/plain": [
       "<IPython.core.display.HTML object>"
      ]
     },
     "metadata": {},
     "output_type": "display_data"
    },
    {
     "name": "stderr",
     "output_type": "stream",
     "text": [
      "/mnt/dv/wid/projects3/Rogers-muri-human-ai/sid/tmp/envs/alignment2/lib/python3.8/site-packages/torchvision/transforms/functional.py:1603: UserWarning: The default value of the antialias parameter of all the resizing transforms (Resize(), RandomResizedCrop(), etc.) will change from None to True in v0.17, in order to be consistent across the PIL and Tensor backends. To suppress this warning, directly pass antialias=True (recommended, future default), antialias=None (current default, which means False for Tensors and True for PIL), or antialias=False (only works on Tensors - PIL will still use antialiasing). This also applies if you are using the inference transforms from the models weights: update the call to weights.transforms(antialias=True).\n",
      "  warnings.warn(\n",
      "100%|██████████| 2/2 [00:00<00:00, 10.65it/s]\n",
      "100%|██████████| 1/1 [00:12<00:00, 12.93s/it]/mnt/dv/wid/projects3/Rogers-muri-human-ai/sid/tmp/envs/alignment2/lib/python3.8/site-packages/wandb/sdk/wandb_run.py:2163: UserWarning: Run (2dvsjb7y) is finished. The call to `_console_raw_callback` will be ignored. Please make sure that you are using an active run.\n",
      "  lambda data: self._console_raw_callback(\"stderr\", data),\n",
      "100%|██████████| 1/1 [00:12<00:00, 12.94s/it]\n"
     ]
    },
    {
     "name": "stdout",
     "output_type": "stream",
     "text": [
      "validation triplet loss: 0.6196682453155518 validation total loss: 2.009838104248047 validation accuracy: 0.16666666666666666\n"
     ]
    },
    {
     "name": "stderr",
     "output_type": "stream",
     "text": [
      "  0%|          | 0/1 [00:00<?, ?it/s]"
     ]
    },
    {
     "data": {
      "text/html": [
       "Finishing last run (ID:j250abx8) before initializing another..."
      ],
      "text/plain": [
       "<IPython.core.display.HTML object>"
      ]
     },
     "metadata": {},
     "output_type": "display_data"
    },
    {
     "name": "stderr",
     "output_type": "stream",
     "text": [
      "wandb: WARNING Source type is set to 'repo' but some required information is missing from the environment. A job will not be created from this run. See https://docs.wandb.ai/guides/launch/create-job\n"
     ]
    },
    {
     "data": {
      "text/html": [
       "<style>\n",
       "    table.wandb td:nth-child(1) { padding: 0 10px; text-align: left ; width: auto;} td:nth-child(2) {text-align: left ; width: 100%}\n",
       "    .wandb-row { display: flex; flex-direction: row; flex-wrap: wrap; justify-content: flex-start; width: 100% }\n",
       "    .wandb-col { display: flex; flex-direction: column; flex-basis: 100%; flex: 1; padding: 10px; }\n",
       "    </style>\n",
       "<div class=\"wandb-row\"><div class=\"wandb-col\"><h3>Run history:</h3><br/><table class=\"wandb\"><tr><td>latent separation accuracy</td><td>▁▁</td></tr><tr><td>total train loss</td><td>█▁</td></tr><tr><td>total validation loss</td><td>█▁</td></tr><tr><td>train label accuracy</td><td>▁█</td></tr><tr><td>train label loss</td><td>█▁</td></tr><tr><td>train triplet loss</td><td>█▁</td></tr><tr><td>validation label accuracy</td><td>▁█</td></tr><tr><td>validation label loss</td><td>█▁</td></tr><tr><td>validation triplet loss</td><td>▁█</td></tr></table><br/></div><div class=\"wandb-col\"><h3>Run summary:</h3><br/><table class=\"wandb\"><tr><td>latent separation accuracy</td><td>1.0</td></tr><tr><td>total train loss</td><td>1.41522</td></tr><tr><td>total validation loss</td><td>2.00984</td></tr><tr><td>train label accuracy</td><td>0.33333</td></tr><tr><td>train label loss</td><td>1.37645</td></tr><tr><td>train triplet loss</td><td>0.03876</td></tr><tr><td>validation label accuracy</td><td>0.16667</td></tr><tr><td>validation label loss</td><td>1.39017</td></tr><tr><td>validation triplet loss</td><td>0.61967</td></tr></table><br/></div></div>"
      ],
      "text/plain": [
       "<IPython.core.display.HTML object>"
      ]
     },
     "metadata": {},
     "output_type": "display_data"
    },
    {
     "data": {
      "text/html": [
       " View run <strong style=\"color:#cdcd00\">solar-snowball-63</strong> at: <a href='https://wandb.ai/sid-academic-team/ConceptualAlignment/runs/j250abx8' target=\"_blank\">https://wandb.ai/sid-academic-team/ConceptualAlignment/runs/j250abx8</a><br/>Synced 6 W&B file(s), 0 media file(s), 0 artifact file(s) and 0 other file(s)"
      ],
      "text/plain": [
       "<IPython.core.display.HTML object>"
      ]
     },
     "metadata": {},
     "output_type": "display_data"
    },
    {
     "data": {
      "text/html": [
       "Find logs at: <code>./wandb/run-20240125_181321-j250abx8/logs</code>"
      ],
      "text/plain": [
       "<IPython.core.display.HTML object>"
      ]
     },
     "metadata": {},
     "output_type": "display_data"
    },
    {
     "data": {
      "text/html": [
       "Successfully finished last run (ID:j250abx8). Initializing new run:<br/>"
      ],
      "text/plain": [
       "<IPython.core.display.HTML object>"
      ]
     },
     "metadata": {},
     "output_type": "display_data"
    },
    {
     "data": {
      "text/html": [
       "Tracking run with wandb version 0.16.2"
      ],
      "text/plain": [
       "<IPython.core.display.HTML object>"
      ]
     },
     "metadata": {},
     "output_type": "display_data"
    },
    {
     "data": {
      "text/html": [
       "Run data is saved locally in <code>/mnt/dv/wid/projects3/Rogers-nsf-ind-diff/sid/Projects/ConceptualAlignmentLanguage/tripletNCE/wandb/run-20240125_181334-6facy121</code>"
      ],
      "text/plain": [
       "<IPython.core.display.HTML object>"
      ]
     },
     "metadata": {},
     "output_type": "display_data"
    },
    {
     "data": {
      "text/html": [
       "Syncing run <strong><a href='https://wandb.ai/sid-academic-team/ConceptualAlignment/runs/6facy121' target=\"_blank\">fast-dust-64</a></strong> to <a href='https://wandb.ai/sid-academic-team/ConceptualAlignment' target=\"_blank\">Weights & Biases</a> (<a href='https://wandb.me/run' target=\"_blank\">docs</a>)<br/>"
      ],
      "text/plain": [
       "<IPython.core.display.HTML object>"
      ]
     },
     "metadata": {},
     "output_type": "display_data"
    },
    {
     "data": {
      "text/html": [
       " View project at <a href='https://wandb.ai/sid-academic-team/ConceptualAlignment' target=\"_blank\">https://wandb.ai/sid-academic-team/ConceptualAlignment</a>"
      ],
      "text/plain": [
       "<IPython.core.display.HTML object>"
      ]
     },
     "metadata": {},
     "output_type": "display_data"
    },
    {
     "data": {
      "text/html": [
       " View run at <a href='https://wandb.ai/sid-academic-team/ConceptualAlignment/runs/6facy121' target=\"_blank\">https://wandb.ai/sid-academic-team/ConceptualAlignment/runs/6facy121</a>"
      ],
      "text/plain": [
       "<IPython.core.display.HTML object>"
      ]
     },
     "metadata": {},
     "output_type": "display_data"
    },
    {
     "name": "stderr",
     "output_type": "stream",
     "text": [
      "/mnt/dv/wid/projects3/Rogers-muri-human-ai/sid/tmp/envs/alignment2/lib/python3.8/site-packages/torchvision/transforms/functional.py:1603: UserWarning: The default value of the antialias parameter of all the resizing transforms (Resize(), RandomResizedCrop(), etc.) will change from None to True in v0.17, in order to be consistent across the PIL and Tensor backends. To suppress this warning, directly pass antialias=True (recommended, future default), antialias=None (current default, which means False for Tensors and True for PIL), or antialias=False (only works on Tensors - PIL will still use antialiasing). This also applies if you are using the inference transforms from the models weights: update the call to weights.transforms(antialias=True).\n",
      "  warnings.warn(\n",
      "100%|██████████| 3/3 [00:00<00:00, 36.26it/s]\n",
      "100%|██████████| 1/1 [00:12<00:00, 12.78s/it]/mnt/dv/wid/projects3/Rogers-muri-human-ai/sid/tmp/envs/alignment2/lib/python3.8/site-packages/wandb/sdk/wandb_run.py:2163: UserWarning: Run (j250abx8) is finished. The call to `_console_raw_callback` will be ignored. Please make sure that you are using an active run.\n",
      "  lambda data: self._console_raw_callback(\"stderr\", data),\n",
      "100%|██████████| 1/1 [00:12<00:00, 12.78s/it]\n"
     ]
    },
    {
     "name": "stdout",
     "output_type": "stream",
     "text": [
      "validation triplet loss: 0.606200098991394 validation total loss: 1.9964025020599365 validation accuracy: 0.2777777777777778\n"
     ]
    },
    {
     "name": "stderr",
     "output_type": "stream",
     "text": [
      "  0%|          | 0/1 [00:00<?, ?it/s]"
     ]
    },
    {
     "data": {
      "text/html": [
       "Finishing last run (ID:6facy121) before initializing another..."
      ],
      "text/plain": [
       "<IPython.core.display.HTML object>"
      ]
     },
     "metadata": {},
     "output_type": "display_data"
    },
    {
     "name": "stderr",
     "output_type": "stream",
     "text": [
      "wandb: WARNING Source type is set to 'repo' but some required information is missing from the environment. A job will not be created from this run. See https://docs.wandb.ai/guides/launch/create-job\n"
     ]
    },
    {
     "data": {
      "text/html": [
       "<style>\n",
       "    table.wandb td:nth-child(1) { padding: 0 10px; text-align: left ; width: auto;} td:nth-child(2) {text-align: left ; width: 100%}\n",
       "    .wandb-row { display: flex; flex-direction: row; flex-wrap: wrap; justify-content: flex-start; width: 100% }\n",
       "    .wandb-col { display: flex; flex-direction: column; flex-basis: 100%; flex: 1; padding: 10px; }\n",
       "    </style>\n",
       "<div class=\"wandb-row\"><div class=\"wandb-col\"><h3>Run history:</h3><br/><table class=\"wandb\"><tr><td>latent separation accuracy</td><td>▁▁▁</td></tr><tr><td>total train loss</td><td>█▂▁</td></tr><tr><td>total validation loss</td><td>█▇▁</td></tr><tr><td>train label accuracy</td><td>▁▂█</td></tr><tr><td>train label loss</td><td>█▅▁</td></tr><tr><td>train triplet loss</td><td>█▁▁</td></tr><tr><td>validation label accuracy</td><td>▁▄█</td></tr><tr><td>validation label loss</td><td>█▁▁</td></tr><tr><td>validation triplet loss</td><td>██▁</td></tr></table><br/></div><div class=\"wandb-col\"><h3>Run summary:</h3><br/><table class=\"wandb\"><tr><td>latent separation accuracy</td><td>1.0</td></tr><tr><td>total train loss</td><td>1.38504</td></tr><tr><td>total validation loss</td><td>1.9964</td></tr><tr><td>train label accuracy</td><td>0.5119</td></tr><tr><td>train label loss</td><td>1.36139</td></tr><tr><td>train triplet loss</td><td>0.02365</td></tr><tr><td>validation label accuracy</td><td>0.27778</td></tr><tr><td>validation label loss</td><td>1.3902</td></tr><tr><td>validation triplet loss</td><td>0.6062</td></tr></table><br/></div></div>"
      ],
      "text/plain": [
       "<IPython.core.display.HTML object>"
      ]
     },
     "metadata": {},
     "output_type": "display_data"
    },
    {
     "data": {
      "text/html": [
       " View run <strong style=\"color:#cdcd00\">fast-dust-64</strong> at: <a href='https://wandb.ai/sid-academic-team/ConceptualAlignment/runs/6facy121' target=\"_blank\">https://wandb.ai/sid-academic-team/ConceptualAlignment/runs/6facy121</a><br/>Synced 6 W&B file(s), 0 media file(s), 0 artifact file(s) and 0 other file(s)"
      ],
      "text/plain": [
       "<IPython.core.display.HTML object>"
      ]
     },
     "metadata": {},
     "output_type": "display_data"
    },
    {
     "data": {
      "text/html": [
       "Find logs at: <code>./wandb/run-20240125_181334-6facy121/logs</code>"
      ],
      "text/plain": [
       "<IPython.core.display.HTML object>"
      ]
     },
     "metadata": {},
     "output_type": "display_data"
    },
    {
     "data": {
      "text/html": [
       "Successfully finished last run (ID:6facy121). Initializing new run:<br/>"
      ],
      "text/plain": [
       "<IPython.core.display.HTML object>"
      ]
     },
     "metadata": {},
     "output_type": "display_data"
    },
    {
     "data": {
      "text/html": [
       "Tracking run with wandb version 0.16.2"
      ],
      "text/plain": [
       "<IPython.core.display.HTML object>"
      ]
     },
     "metadata": {},
     "output_type": "display_data"
    },
    {
     "data": {
      "text/html": [
       "Run data is saved locally in <code>/mnt/dv/wid/projects3/Rogers-nsf-ind-diff/sid/Projects/ConceptualAlignmentLanguage/tripletNCE/wandb/run-20240125_181347-clg05gqh</code>"
      ],
      "text/plain": [
       "<IPython.core.display.HTML object>"
      ]
     },
     "metadata": {},
     "output_type": "display_data"
    },
    {
     "data": {
      "text/html": [
       "Syncing run <strong><a href='https://wandb.ai/sid-academic-team/ConceptualAlignment/runs/clg05gqh' target=\"_blank\">exalted-dust-65</a></strong> to <a href='https://wandb.ai/sid-academic-team/ConceptualAlignment' target=\"_blank\">Weights & Biases</a> (<a href='https://wandb.me/run' target=\"_blank\">docs</a>)<br/>"
      ],
      "text/plain": [
       "<IPython.core.display.HTML object>"
      ]
     },
     "metadata": {},
     "output_type": "display_data"
    },
    {
     "data": {
      "text/html": [
       " View project at <a href='https://wandb.ai/sid-academic-team/ConceptualAlignment' target=\"_blank\">https://wandb.ai/sid-academic-team/ConceptualAlignment</a>"
      ],
      "text/plain": [
       "<IPython.core.display.HTML object>"
      ]
     },
     "metadata": {},
     "output_type": "display_data"
    },
    {
     "data": {
      "text/html": [
       " View run at <a href='https://wandb.ai/sid-academic-team/ConceptualAlignment/runs/clg05gqh' target=\"_blank\">https://wandb.ai/sid-academic-team/ConceptualAlignment/runs/clg05gqh</a>"
      ],
      "text/plain": [
       "<IPython.core.display.HTML object>"
      ]
     },
     "metadata": {},
     "output_type": "display_data"
    },
    {
     "name": "stderr",
     "output_type": "stream",
     "text": [
      "/mnt/dv/wid/projects3/Rogers-muri-human-ai/sid/tmp/envs/alignment2/lib/python3.8/site-packages/torchvision/transforms/functional.py:1603: UserWarning: The default value of the antialias parameter of all the resizing transforms (Resize(), RandomResizedCrop(), etc.) will change from None to True in v0.17, in order to be consistent across the PIL and Tensor backends. To suppress this warning, directly pass antialias=True (recommended, future default), antialias=None (current default, which means False for Tensors and True for PIL), or antialias=False (only works on Tensors - PIL will still use antialiasing). This also applies if you are using the inference transforms from the models weights: update the call to weights.transforms(antialias=True).\n",
      "  warnings.warn(\n",
      "100%|██████████| 4/4 [00:00<00:00, 38.11it/s]\n",
      "100%|██████████| 1/1 [00:13<00:00, 13.46s/it]/mnt/dv/wid/projects3/Rogers-muri-human-ai/sid/tmp/envs/alignment2/lib/python3.8/site-packages/wandb/sdk/wandb_run.py:2163: UserWarning: Run (6facy121) is finished. The call to `_console_raw_callback` will be ignored. Please make sure that you are using an active run.\n",
      "  lambda data: self._console_raw_callback(\"stderr\", data),\n",
      "100%|██████████| 1/1 [00:13<00:00, 13.46s/it]\n"
     ]
    },
    {
     "name": "stdout",
     "output_type": "stream",
     "text": [
      "validation triplet loss: 0.622480571269989 validation total loss: 2.0152742862701416 validation accuracy: 0.2222222222222222\n"
     ]
    },
    {
     "name": "stderr",
     "output_type": "stream",
     "text": [
      "  0%|          | 0/1 [00:00<?, ?it/s]"
     ]
    },
    {
     "data": {
      "text/html": [
       "Finishing last run (ID:clg05gqh) before initializing another..."
      ],
      "text/plain": [
       "<IPython.core.display.HTML object>"
      ]
     },
     "metadata": {},
     "output_type": "display_data"
    },
    {
     "name": "stderr",
     "output_type": "stream",
     "text": [
      "wandb: WARNING Source type is set to 'repo' but some required information is missing from the environment. A job will not be created from this run. See https://docs.wandb.ai/guides/launch/create-job\n"
     ]
    },
    {
     "data": {
      "text/html": [
       "<style>\n",
       "    table.wandb td:nth-child(1) { padding: 0 10px; text-align: left ; width: auto;} td:nth-child(2) {text-align: left ; width: 100%}\n",
       "    .wandb-row { display: flex; flex-direction: row; flex-wrap: wrap; justify-content: flex-start; width: 100% }\n",
       "    .wandb-col { display: flex; flex-direction: column; flex-basis: 100%; flex: 1; padding: 10px; }\n",
       "    </style>\n",
       "<div class=\"wandb-row\"><div class=\"wandb-col\"><h3>Run history:</h3><br/><table class=\"wandb\"><tr><td>latent separation accuracy</td><td>▁▁▁▁</td></tr><tr><td>total train loss</td><td>█▂▂▁</td></tr><tr><td>total validation loss</td><td>▇▆▁█</td></tr><tr><td>train label accuracy</td><td>▁▂▆█</td></tr><tr><td>train label loss</td><td>█▆▄▁</td></tr><tr><td>train triplet loss</td><td>█▂▁▁</td></tr><tr><td>validation label accuracy</td><td>▁▄█▅</td></tr><tr><td>validation label loss</td><td>█▁▁▇</td></tr><tr><td>validation triplet loss</td><td>▆▇▁█</td></tr></table><br/></div><div class=\"wandb-col\"><h3>Run summary:</h3><br/><table class=\"wandb\"><tr><td>latent separation accuracy</td><td>1.0</td></tr><tr><td>total train loss</td><td>1.34712</td></tr><tr><td>total validation loss</td><td>2.01527</td></tr><tr><td>train label accuracy</td><td>0.60714</td></tr><tr><td>train label loss</td><td>1.33829</td></tr><tr><td>train triplet loss</td><td>0.00883</td></tr><tr><td>validation label accuracy</td><td>0.22222</td></tr><tr><td>validation label loss</td><td>1.39279</td></tr><tr><td>validation triplet loss</td><td>0.62248</td></tr></table><br/></div></div>"
      ],
      "text/plain": [
       "<IPython.core.display.HTML object>"
      ]
     },
     "metadata": {},
     "output_type": "display_data"
    },
    {
     "data": {
      "text/html": [
       " View run <strong style=\"color:#cdcd00\">exalted-dust-65</strong> at: <a href='https://wandb.ai/sid-academic-team/ConceptualAlignment/runs/clg05gqh' target=\"_blank\">https://wandb.ai/sid-academic-team/ConceptualAlignment/runs/clg05gqh</a><br/>Synced 6 W&B file(s), 0 media file(s), 0 artifact file(s) and 0 other file(s)"
      ],
      "text/plain": [
       "<IPython.core.display.HTML object>"
      ]
     },
     "metadata": {},
     "output_type": "display_data"
    },
    {
     "data": {
      "text/html": [
       "Find logs at: <code>./wandb/run-20240125_181347-clg05gqh/logs</code>"
      ],
      "text/plain": [
       "<IPython.core.display.HTML object>"
      ]
     },
     "metadata": {},
     "output_type": "display_data"
    },
    {
     "data": {
      "text/html": [
       "Successfully finished last run (ID:clg05gqh). Initializing new run:<br/>"
      ],
      "text/plain": [
       "<IPython.core.display.HTML object>"
      ]
     },
     "metadata": {},
     "output_type": "display_data"
    },
    {
     "data": {
      "text/html": [
       "Tracking run with wandb version 0.16.2"
      ],
      "text/plain": [
       "<IPython.core.display.HTML object>"
      ]
     },
     "metadata": {},
     "output_type": "display_data"
    },
    {
     "data": {
      "text/html": [
       "Run data is saved locally in <code>/mnt/dv/wid/projects3/Rogers-nsf-ind-diff/sid/Projects/ConceptualAlignmentLanguage/tripletNCE/wandb/run-20240125_181400-jphb22bl</code>"
      ],
      "text/plain": [
       "<IPython.core.display.HTML object>"
      ]
     },
     "metadata": {},
     "output_type": "display_data"
    },
    {
     "data": {
      "text/html": [
       "Syncing run <strong><a href='https://wandb.ai/sid-academic-team/ConceptualAlignment/runs/jphb22bl' target=\"_blank\">easy-galaxy-66</a></strong> to <a href='https://wandb.ai/sid-academic-team/ConceptualAlignment' target=\"_blank\">Weights & Biases</a> (<a href='https://wandb.me/run' target=\"_blank\">docs</a>)<br/>"
      ],
      "text/plain": [
       "<IPython.core.display.HTML object>"
      ]
     },
     "metadata": {},
     "output_type": "display_data"
    },
    {
     "data": {
      "text/html": [
       " View project at <a href='https://wandb.ai/sid-academic-team/ConceptualAlignment' target=\"_blank\">https://wandb.ai/sid-academic-team/ConceptualAlignment</a>"
      ],
      "text/plain": [
       "<IPython.core.display.HTML object>"
      ]
     },
     "metadata": {},
     "output_type": "display_data"
    },
    {
     "data": {
      "text/html": [
       " View run at <a href='https://wandb.ai/sid-academic-team/ConceptualAlignment/runs/jphb22bl' target=\"_blank\">https://wandb.ai/sid-academic-team/ConceptualAlignment/runs/jphb22bl</a>"
      ],
      "text/plain": [
       "<IPython.core.display.HTML object>"
      ]
     },
     "metadata": {},
     "output_type": "display_data"
    },
    {
     "name": "stderr",
     "output_type": "stream",
     "text": [
      "/mnt/dv/wid/projects3/Rogers-muri-human-ai/sid/tmp/envs/alignment2/lib/python3.8/site-packages/torchvision/transforms/functional.py:1603: UserWarning: The default value of the antialias parameter of all the resizing transforms (Resize(), RandomResizedCrop(), etc.) will change from None to True in v0.17, in order to be consistent across the PIL and Tensor backends. To suppress this warning, directly pass antialias=True (recommended, future default), antialias=None (current default, which means False for Tensors and True for PIL), or antialias=False (only works on Tensors - PIL will still use antialiasing). This also applies if you are using the inference transforms from the models weights: update the call to weights.transforms(antialias=True).\n",
      "  warnings.warn(\n",
      "100%|██████████| 5/5 [00:00<00:00, 37.05it/s]\n",
      "100%|██████████| 1/1 [00:26<00:00, 26.79s/it]/mnt/dv/wid/projects3/Rogers-muri-human-ai/sid/tmp/envs/alignment2/lib/python3.8/site-packages/wandb/sdk/wandb_run.py:2163: UserWarning: Run (clg05gqh) is finished. The call to `_console_raw_callback` will be ignored. Please make sure that you are using an active run.\n",
      "  lambda data: self._console_raw_callback(\"stderr\", data),\n",
      "100%|██████████| 1/1 [00:26<00:00, 26.79s/it]\n"
     ]
    },
    {
     "name": "stdout",
     "output_type": "stream",
     "text": [
      "validation triplet loss: 0.6387975811958313 validation total loss: 2.041337251663208 validation accuracy: 0.2222222222222222\n"
     ]
    },
    {
     "name": "stderr",
     "output_type": "stream",
     "text": [
      "  0%|          | 0/1 [00:00<?, ?it/s]"
     ]
    },
    {
     "data": {
      "text/html": [
       "Finishing last run (ID:jphb22bl) before initializing another..."
      ],
      "text/plain": [
       "<IPython.core.display.HTML object>"
      ]
     },
     "metadata": {},
     "output_type": "display_data"
    },
    {
     "name": "stderr",
     "output_type": "stream",
     "text": [
      "wandb: WARNING Source type is set to 'repo' but some required information is missing from the environment. A job will not be created from this run. See https://docs.wandb.ai/guides/launch/create-job\n"
     ]
    },
    {
     "data": {
      "text/html": [
       "<style>\n",
       "    table.wandb td:nth-child(1) { padding: 0 10px; text-align: left ; width: auto;} td:nth-child(2) {text-align: left ; width: 100%}\n",
       "    .wandb-row { display: flex; flex-direction: row; flex-wrap: wrap; justify-content: flex-start; width: 100% }\n",
       "    .wandb-col { display: flex; flex-direction: column; flex-basis: 100%; flex: 1; padding: 10px; }\n",
       "    </style>\n",
       "<div class=\"wandb-row\"><div class=\"wandb-col\"><h3>Run history:</h3><br/><table class=\"wandb\"><tr><td>latent separation accuracy</td><td>▁▁▁▁▁</td></tr><tr><td>total train loss</td><td>█▃▂▂▁</td></tr><tr><td>total validation loss</td><td>▃▃▁▄█</td></tr><tr><td>train label accuracy</td><td>▁▂▆██</td></tr><tr><td>train label loss</td><td>█▇▆▄▁</td></tr><tr><td>train triplet loss</td><td>█▂▁▁▁</td></tr><tr><td>validation label accuracy</td><td>▁▄█▅▅</td></tr><tr><td>validation label loss</td><td>▃▁▁▂█</td></tr><tr><td>validation triplet loss</td><td>▄▄▁▄█</td></tr></table><br/></div><div class=\"wandb-col\"><h3>Run summary:</h3><br/><table class=\"wandb\"><tr><td>latent separation accuracy</td><td>1.0</td></tr><tr><td>total train loss</td><td>1.31469</td></tr><tr><td>total validation loss</td><td>2.04134</td></tr><tr><td>train label accuracy</td><td>0.61905</td></tr><tr><td>train label loss</td><td>1.30744</td></tr><tr><td>train triplet loss</td><td>0.00725</td></tr><tr><td>validation label accuracy</td><td>0.22222</td></tr><tr><td>validation label loss</td><td>1.40254</td></tr><tr><td>validation triplet loss</td><td>0.6388</td></tr></table><br/></div></div>"
      ],
      "text/plain": [
       "<IPython.core.display.HTML object>"
      ]
     },
     "metadata": {},
     "output_type": "display_data"
    },
    {
     "data": {
      "text/html": [
       " View run <strong style=\"color:#cdcd00\">easy-galaxy-66</strong> at: <a href='https://wandb.ai/sid-academic-team/ConceptualAlignment/runs/jphb22bl' target=\"_blank\">https://wandb.ai/sid-academic-team/ConceptualAlignment/runs/jphb22bl</a><br/>Synced 6 W&B file(s), 0 media file(s), 0 artifact file(s) and 0 other file(s)"
      ],
      "text/plain": [
       "<IPython.core.display.HTML object>"
      ]
     },
     "metadata": {},
     "output_type": "display_data"
    },
    {
     "data": {
      "text/html": [
       "Find logs at: <code>./wandb/run-20240125_181400-jphb22bl/logs</code>"
      ],
      "text/plain": [
       "<IPython.core.display.HTML object>"
      ]
     },
     "metadata": {},
     "output_type": "display_data"
    },
    {
     "data": {
      "text/html": [
       "Successfully finished last run (ID:jphb22bl). Initializing new run:<br/>"
      ],
      "text/plain": [
       "<IPython.core.display.HTML object>"
      ]
     },
     "metadata": {},
     "output_type": "display_data"
    },
    {
     "data": {
      "text/html": [
       "Tracking run with wandb version 0.16.2"
      ],
      "text/plain": [
       "<IPython.core.display.HTML object>"
      ]
     },
     "metadata": {},
     "output_type": "display_data"
    },
    {
     "data": {
      "text/html": [
       "Run data is saved locally in <code>/mnt/dv/wid/projects3/Rogers-nsf-ind-diff/sid/Projects/ConceptualAlignmentLanguage/tripletNCE/wandb/run-20240125_181427-6i3p0rd0</code>"
      ],
      "text/plain": [
       "<IPython.core.display.HTML object>"
      ]
     },
     "metadata": {},
     "output_type": "display_data"
    },
    {
     "data": {
      "text/html": [
       "Syncing run <strong><a href='https://wandb.ai/sid-academic-team/ConceptualAlignment/runs/6i3p0rd0' target=\"_blank\">wobbly-frost-67</a></strong> to <a href='https://wandb.ai/sid-academic-team/ConceptualAlignment' target=\"_blank\">Weights & Biases</a> (<a href='https://wandb.me/run' target=\"_blank\">docs</a>)<br/>"
      ],
      "text/plain": [
       "<IPython.core.display.HTML object>"
      ]
     },
     "metadata": {},
     "output_type": "display_data"
    },
    {
     "data": {
      "text/html": [
       " View project at <a href='https://wandb.ai/sid-academic-team/ConceptualAlignment' target=\"_blank\">https://wandb.ai/sid-academic-team/ConceptualAlignment</a>"
      ],
      "text/plain": [
       "<IPython.core.display.HTML object>"
      ]
     },
     "metadata": {},
     "output_type": "display_data"
    },
    {
     "data": {
      "text/html": [
       " View run at <a href='https://wandb.ai/sid-academic-team/ConceptualAlignment/runs/6i3p0rd0' target=\"_blank\">https://wandb.ai/sid-academic-team/ConceptualAlignment/runs/6i3p0rd0</a>"
      ],
      "text/plain": [
       "<IPython.core.display.HTML object>"
      ]
     },
     "metadata": {},
     "output_type": "display_data"
    },
    {
     "name": "stderr",
     "output_type": "stream",
     "text": [
      "/mnt/dv/wid/projects3/Rogers-muri-human-ai/sid/tmp/envs/alignment2/lib/python3.8/site-packages/torchvision/transforms/functional.py:1603: UserWarning: The default value of the antialias parameter of all the resizing transforms (Resize(), RandomResizedCrop(), etc.) will change from None to True in v0.17, in order to be consistent across the PIL and Tensor backends. To suppress this warning, directly pass antialias=True (recommended, future default), antialias=None (current default, which means False for Tensors and True for PIL), or antialias=False (only works on Tensors - PIL will still use antialiasing). This also applies if you are using the inference transforms from the models weights: update the call to weights.transforms(antialias=True).\n",
      "  warnings.warn(\n",
      "100%|██████████| 10/10 [00:00<00:00, 37.52it/s]\n",
      "100%|██████████| 1/1 [00:13<00:00, 13.44s/it]/mnt/dv/wid/projects3/Rogers-muri-human-ai/sid/tmp/envs/alignment2/lib/python3.8/site-packages/wandb/sdk/wandb_run.py:2163: UserWarning: Run (jphb22bl) is finished. The call to `_console_raw_callback` will be ignored. Please make sure that you are using an active run.\n",
      "  lambda data: self._console_raw_callback(\"stderr\", data),\n",
      "100%|██████████| 1/1 [00:13<00:00, 13.44s/it]\n"
     ]
    },
    {
     "name": "stdout",
     "output_type": "stream",
     "text": [
      "validation triplet loss: 0.7250034809112549 validation total loss: 2.2734451293945312 validation accuracy: 0.16666666666666666\n"
     ]
    },
    {
     "name": "stderr",
     "output_type": "stream",
     "text": [
      "  0%|          | 0/1 [00:00<?, ?it/s]"
     ]
    },
    {
     "data": {
      "text/html": [
       "Finishing last run (ID:6i3p0rd0) before initializing another..."
      ],
      "text/plain": [
       "<IPython.core.display.HTML object>"
      ]
     },
     "metadata": {},
     "output_type": "display_data"
    },
    {
     "name": "stderr",
     "output_type": "stream",
     "text": [
      "wandb: WARNING Source type is set to 'repo' but some required information is missing from the environment. A job will not be created from this run. See https://docs.wandb.ai/guides/launch/create-job\n"
     ]
    },
    {
     "data": {
      "text/html": [
       "<style>\n",
       "    table.wandb td:nth-child(1) { padding: 0 10px; text-align: left ; width: auto;} td:nth-child(2) {text-align: left ; width: 100%}\n",
       "    .wandb-row { display: flex; flex-direction: row; flex-wrap: wrap; justify-content: flex-start; width: 100% }\n",
       "    .wandb-col { display: flex; flex-direction: column; flex-basis: 100%; flex: 1; padding: 10px; }\n",
       "    </style>\n",
       "<div class=\"wandb-row\"><div class=\"wandb-col\"><h3>Run history:</h3><br/><table class=\"wandb\"><tr><td>latent separation accuracy</td><td>▁▁▁▁▁▁▁▁▁▁</td></tr><tr><td>total train loss</td><td>█▅▅▄▄▃▃▂▁▁</td></tr><tr><td>total validation loss</td><td>▁▁▁▁▂▄▅▆██</td></tr><tr><td>train label accuracy</td><td>▁▂▅▆▇▇▇▇██</td></tr><tr><td>train label loss</td><td>██▇▇▆▅▄▃▂▁</td></tr><tr><td>train triplet loss</td><td>█▂▂▁▁▁▁▁▁▁</td></tr><tr><td>validation label accuracy</td><td>▁▄█▆▆▆▄▄▄▄</td></tr><tr><td>validation label loss</td><td>▁▁▁▁▂▂▄▆██</td></tr><tr><td>validation triplet loss</td><td>▂▂▁▂▃▅▆▇██</td></tr></table><br/></div><div class=\"wandb-col\"><h3>Run summary:</h3><br/><table class=\"wandb\"><tr><td>latent separation accuracy</td><td>1.0</td></tr><tr><td>total train loss</td><td>1.06491</td></tr><tr><td>total validation loss</td><td>2.27345</td></tr><tr><td>train label accuracy</td><td>0.70238</td></tr><tr><td>train label loss</td><td>1.06214</td></tr><tr><td>train triplet loss</td><td>0.00277</td></tr><tr><td>validation label accuracy</td><td>0.16667</td></tr><tr><td>validation label loss</td><td>1.54844</td></tr><tr><td>validation triplet loss</td><td>0.725</td></tr></table><br/></div></div>"
      ],
      "text/plain": [
       "<IPython.core.display.HTML object>"
      ]
     },
     "metadata": {},
     "output_type": "display_data"
    },
    {
     "data": {
      "text/html": [
       " View run <strong style=\"color:#cdcd00\">wobbly-frost-67</strong> at: <a href='https://wandb.ai/sid-academic-team/ConceptualAlignment/runs/6i3p0rd0' target=\"_blank\">https://wandb.ai/sid-academic-team/ConceptualAlignment/runs/6i3p0rd0</a><br/>Synced 6 W&B file(s), 0 media file(s), 0 artifact file(s) and 0 other file(s)"
      ],
      "text/plain": [
       "<IPython.core.display.HTML object>"
      ]
     },
     "metadata": {},
     "output_type": "display_data"
    },
    {
     "data": {
      "text/html": [
       "Find logs at: <code>./wandb/run-20240125_181427-6i3p0rd0/logs</code>"
      ],
      "text/plain": [
       "<IPython.core.display.HTML object>"
      ]
     },
     "metadata": {},
     "output_type": "display_data"
    },
    {
     "data": {
      "text/html": [
       "Successfully finished last run (ID:6i3p0rd0). Initializing new run:<br/>"
      ],
      "text/plain": [
       "<IPython.core.display.HTML object>"
      ]
     },
     "metadata": {},
     "output_type": "display_data"
    },
    {
     "data": {
      "text/html": [
       "Tracking run with wandb version 0.16.2"
      ],
      "text/plain": [
       "<IPython.core.display.HTML object>"
      ]
     },
     "metadata": {},
     "output_type": "display_data"
    },
    {
     "data": {
      "text/html": [
       "Run data is saved locally in <code>/mnt/dv/wid/projects3/Rogers-nsf-ind-diff/sid/Projects/ConceptualAlignmentLanguage/tripletNCE/wandb/run-20240125_181440-7d2bbws1</code>"
      ],
      "text/plain": [
       "<IPython.core.display.HTML object>"
      ]
     },
     "metadata": {},
     "output_type": "display_data"
    },
    {
     "data": {
      "text/html": [
       "Syncing run <strong><a href='https://wandb.ai/sid-academic-team/ConceptualAlignment/runs/7d2bbws1' target=\"_blank\">pleasant-bush-68</a></strong> to <a href='https://wandb.ai/sid-academic-team/ConceptualAlignment' target=\"_blank\">Weights & Biases</a> (<a href='https://wandb.me/run' target=\"_blank\">docs</a>)<br/>"
      ],
      "text/plain": [
       "<IPython.core.display.HTML object>"
      ]
     },
     "metadata": {},
     "output_type": "display_data"
    },
    {
     "data": {
      "text/html": [
       " View project at <a href='https://wandb.ai/sid-academic-team/ConceptualAlignment' target=\"_blank\">https://wandb.ai/sid-academic-team/ConceptualAlignment</a>"
      ],
      "text/plain": [
       "<IPython.core.display.HTML object>"
      ]
     },
     "metadata": {},
     "output_type": "display_data"
    },
    {
     "data": {
      "text/html": [
       " View run at <a href='https://wandb.ai/sid-academic-team/ConceptualAlignment/runs/7d2bbws1' target=\"_blank\">https://wandb.ai/sid-academic-team/ConceptualAlignment/runs/7d2bbws1</a>"
      ],
      "text/plain": [
       "<IPython.core.display.HTML object>"
      ]
     },
     "metadata": {},
     "output_type": "display_data"
    },
    {
     "name": "stderr",
     "output_type": "stream",
     "text": [
      "/mnt/dv/wid/projects3/Rogers-muri-human-ai/sid/tmp/envs/alignment2/lib/python3.8/site-packages/torchvision/transforms/functional.py:1603: UserWarning: The default value of the antialias parameter of all the resizing transforms (Resize(), RandomResizedCrop(), etc.) will change from None to True in v0.17, in order to be consistent across the PIL and Tensor backends. To suppress this warning, directly pass antialias=True (recommended, future default), antialias=None (current default, which means False for Tensors and True for PIL), or antialias=False (only works on Tensors - PIL will still use antialiasing). This also applies if you are using the inference transforms from the models weights: update the call to weights.transforms(antialias=True).\n",
      "  warnings.warn(\n",
      "100%|██████████| 20/20 [00:00<00:00, 36.88it/s]\n",
      "100%|██████████| 1/1 [00:13<00:00, 13.71s/it]/mnt/dv/wid/projects3/Rogers-muri-human-ai/sid/tmp/envs/alignment2/lib/python3.8/site-packages/wandb/sdk/wandb_run.py:2163: UserWarning: Run (6i3p0rd0) is finished. The call to `_console_raw_callback` will be ignored. Please make sure that you are using an active run.\n",
      "  lambda data: self._console_raw_callback(\"stderr\", data),\n",
      "100%|██████████| 1/1 [00:13<00:00, 13.71s/it]\n"
     ]
    },
    {
     "name": "stdout",
     "output_type": "stream",
     "text": [
      "validation triplet loss: 0.24147076904773712 validation total loss: 1.4086817502975464 validation accuracy: 0.5555555555555556\n"
     ]
    },
    {
     "name": "stderr",
     "output_type": "stream",
     "text": [
      "  0%|          | 0/1 [00:00<?, ?it/s]"
     ]
    },
    {
     "data": {
      "text/html": [
       "Finishing last run (ID:7d2bbws1) before initializing another..."
      ],
      "text/plain": [
       "<IPython.core.display.HTML object>"
      ]
     },
     "metadata": {},
     "output_type": "display_data"
    },
    {
     "name": "stderr",
     "output_type": "stream",
     "text": [
      "wandb: WARNING Source type is set to 'repo' but some required information is missing from the environment. A job will not be created from this run. See https://docs.wandb.ai/guides/launch/create-job\n"
     ]
    },
    {
     "data": {
      "text/html": [
       "<style>\n",
       "    table.wandb td:nth-child(1) { padding: 0 10px; text-align: left ; width: auto;} td:nth-child(2) {text-align: left ; width: 100%}\n",
       "    .wandb-row { display: flex; flex-direction: row; flex-wrap: wrap; justify-content: flex-start; width: 100% }\n",
       "    .wandb-col { display: flex; flex-direction: column; flex-basis: 100%; flex: 1; padding: 10px; }\n",
       "    </style>\n",
       "<div class=\"wandb-row\"><div class=\"wandb-col\"><h3>Run history:</h3><br/><table class=\"wandb\"><tr><td>latent separation accuracy</td><td>▁▁▁▁▁▁▁▁▁▁▁▁▁▁▁▁▁▁▁▁</td></tr><tr><td>total train loss</td><td>█▆▆▅▅▅▄▄▃▃▃▂▂▂▂▂▂▁▁▁</td></tr><tr><td>total validation loss</td><td>▆▆▆▆▆▇▇▇███▇▇▆▅▄▃▃▂▁</td></tr><tr><td>train label accuracy</td><td>▁▁▃▄▅▅▅▅▅▅▆▆▆▆▇▇▇▇██</td></tr><tr><td>train label loss</td><td>███▇▇▆▆▅▄▄▄▃▃▃▃▂▂▂▁▁</td></tr><tr><td>train triplet loss</td><td>█▂▂▁▁▁▁▁▁▁▁▁▁▁▁▁▁▁▁▁</td></tr><tr><td>validation label accuracy</td><td>▁▂▄▃▃▃▂▂▂▂▂▂▃▄▄▅▆▆▇█</td></tr><tr><td>validation label loss</td><td>▅▅▅▅▅▆▆▇████▇▆▅▄▃▃▂▁</td></tr><tr><td>validation triplet loss</td><td>▆▆▆▆▇▇▇████▇▆▅▅▄▃▂▁▁</td></tr></table><br/></div><div class=\"wandb-col\"><h3>Run summary:</h3><br/><table class=\"wandb\"><tr><td>latent separation accuracy</td><td>1.0</td></tr><tr><td>total train loss</td><td>0.83984</td></tr><tr><td>total validation loss</td><td>1.40868</td></tr><tr><td>train label accuracy</td><td>0.95238</td></tr><tr><td>train label loss</td><td>0.8367</td></tr><tr><td>train triplet loss</td><td>0.00313</td></tr><tr><td>validation label accuracy</td><td>0.55556</td></tr><tr><td>validation label loss</td><td>1.16721</td></tr><tr><td>validation triplet loss</td><td>0.24147</td></tr></table><br/></div></div>"
      ],
      "text/plain": [
       "<IPython.core.display.HTML object>"
      ]
     },
     "metadata": {},
     "output_type": "display_data"
    },
    {
     "data": {
      "text/html": [
       " View run <strong style=\"color:#cdcd00\">pleasant-bush-68</strong> at: <a href='https://wandb.ai/sid-academic-team/ConceptualAlignment/runs/7d2bbws1' target=\"_blank\">https://wandb.ai/sid-academic-team/ConceptualAlignment/runs/7d2bbws1</a><br/>Synced 6 W&B file(s), 0 media file(s), 0 artifact file(s) and 0 other file(s)"
      ],
      "text/plain": [
       "<IPython.core.display.HTML object>"
      ]
     },
     "metadata": {},
     "output_type": "display_data"
    },
    {
     "data": {
      "text/html": [
       "Find logs at: <code>./wandb/run-20240125_181440-7d2bbws1/logs</code>"
      ],
      "text/plain": [
       "<IPython.core.display.HTML object>"
      ]
     },
     "metadata": {},
     "output_type": "display_data"
    },
    {
     "data": {
      "text/html": [
       "Successfully finished last run (ID:7d2bbws1). Initializing new run:<br/>"
      ],
      "text/plain": [
       "<IPython.core.display.HTML object>"
      ]
     },
     "metadata": {},
     "output_type": "display_data"
    },
    {
     "data": {
      "text/html": [
       "Tracking run with wandb version 0.16.2"
      ],
      "text/plain": [
       "<IPython.core.display.HTML object>"
      ]
     },
     "metadata": {},
     "output_type": "display_data"
    },
    {
     "data": {
      "text/html": [
       "Run data is saved locally in <code>/mnt/dv/wid/projects3/Rogers-nsf-ind-diff/sid/Projects/ConceptualAlignmentLanguage/tripletNCE/wandb/run-20240125_181454-g8h5txl9</code>"
      ],
      "text/plain": [
       "<IPython.core.display.HTML object>"
      ]
     },
     "metadata": {},
     "output_type": "display_data"
    },
    {
     "data": {
      "text/html": [
       "Syncing run <strong><a href='https://wandb.ai/sid-academic-team/ConceptualAlignment/runs/g8h5txl9' target=\"_blank\">lilac-glitter-69</a></strong> to <a href='https://wandb.ai/sid-academic-team/ConceptualAlignment' target=\"_blank\">Weights & Biases</a> (<a href='https://wandb.me/run' target=\"_blank\">docs</a>)<br/>"
      ],
      "text/plain": [
       "<IPython.core.display.HTML object>"
      ]
     },
     "metadata": {},
     "output_type": "display_data"
    },
    {
     "data": {
      "text/html": [
       " View project at <a href='https://wandb.ai/sid-academic-team/ConceptualAlignment' target=\"_blank\">https://wandb.ai/sid-academic-team/ConceptualAlignment</a>"
      ],
      "text/plain": [
       "<IPython.core.display.HTML object>"
      ]
     },
     "metadata": {},
     "output_type": "display_data"
    },
    {
     "data": {
      "text/html": [
       " View run at <a href='https://wandb.ai/sid-academic-team/ConceptualAlignment/runs/g8h5txl9' target=\"_blank\">https://wandb.ai/sid-academic-team/ConceptualAlignment/runs/g8h5txl9</a>"
      ],
      "text/plain": [
       "<IPython.core.display.HTML object>"
      ]
     },
     "metadata": {},
     "output_type": "display_data"
    },
    {
     "name": "stderr",
     "output_type": "stream",
     "text": [
      "/mnt/dv/wid/projects3/Rogers-muri-human-ai/sid/tmp/envs/alignment2/lib/python3.8/site-packages/torchvision/transforms/functional.py:1603: UserWarning: The default value of the antialias parameter of all the resizing transforms (Resize(), RandomResizedCrop(), etc.) will change from None to True in v0.17, in order to be consistent across the PIL and Tensor backends. To suppress this warning, directly pass antialias=True (recommended, future default), antialias=None (current default, which means False for Tensors and True for PIL), or antialias=False (only works on Tensors - PIL will still use antialiasing). This also applies if you are using the inference transforms from the models weights: update the call to weights.transforms(antialias=True).\n",
      "  warnings.warn(\n",
      "100%|██████████| 50/50 [00:01<00:00, 38.74it/s]\n",
      "100%|██████████| 1/1 [00:14<00:00, 14.60s/it]/mnt/dv/wid/projects3/Rogers-muri-human-ai/sid/tmp/envs/alignment2/lib/python3.8/site-packages/wandb/sdk/wandb_run.py:2163: UserWarning: Run (7d2bbws1) is finished. The call to `_console_raw_callback` will be ignored. Please make sure that you are using an active run.\n",
      "  lambda data: self._console_raw_callback(\"stderr\", data),\n",
      "100%|██████████| 1/1 [00:14<00:00, 14.60s/it]\n"
     ]
    },
    {
     "name": "stdout",
     "output_type": "stream",
     "text": [
      "validation triplet loss: 0.15564759075641632 validation total loss: 1.1976622343063354 validation accuracy: 0.6944444444444444\n"
     ]
    },
    {
     "name": "stderr",
     "output_type": "stream",
     "text": [
      "wandb: WARNING Source type is set to 'repo' but some required information is missing from the environment. A job will not be created from this run. See https://docs.wandb.ai/guides/launch/create-job\n"
     ]
    },
    {
     "data": {
      "text/html": [
       "<style>\n",
       "    table.wandb td:nth-child(1) { padding: 0 10px; text-align: left ; width: auto;} td:nth-child(2) {text-align: left ; width: 100%}\n",
       "    .wandb-row { display: flex; flex-direction: row; flex-wrap: wrap; justify-content: flex-start; width: 100% }\n",
       "    .wandb-col { display: flex; flex-direction: column; flex-basis: 100%; flex: 1; padding: 10px; }\n",
       "    </style>\n",
       "<div class=\"wandb-row\"><div class=\"wandb-col\"><h3>Run history:</h3><br/><table class=\"wandb\"><tr><td>latent separation accuracy</td><td>▁▁▁▁▁▁▁▁▁▁▁▁▁▁▁▁▁▁▁▁▁▁▁▁▁▁▁▁▁▁▁▁▁▁▁▁▁▁▁▁</td></tr><tr><td>total train loss</td><td>█▆▆▆▅▅▄▄▃▃▃▃▂▂▂▂▂▁▁▁▁▁▁▁▁▁▁▁▁▁▁▁▁▁▁▁▁▁▁▁</td></tr><tr><td>total validation loss</td><td>▆▆▆▆▇▇████▇▆▅▄▄▃▂▁▂▂▂▂▂▂▂▂▂▁▁▁▁▁▁▁▁▁▁▁▁▁</td></tr><tr><td>train label accuracy</td><td>▁▁▃▄▄▅▅▅▅▅▅▆▆▆▇▇████████████████████████</td></tr><tr><td>train label loss</td><td>███▇▇▆▅▅▄▄▄▄▃▃▃▂▂▁▁▁▁▁▁▁▁▁▁▁▁▁▁▁▁▁▁▁▁▁▁▁</td></tr><tr><td>train triplet loss</td><td>█▂▂▁▁▁▁▁▁▁▁▁▁▁▁▁▁▁▁▁▁▁▁▁▁▁▁▁▁▁▁▁▁▁▁▁▁▁▁▁</td></tr><tr><td>validation label accuracy</td><td>▁▂▃▂▂▂▂▂▂▂▂▃▅▅▅▅██▇▇▇▇▇▆▇▇▇▇▇▇▇▇▇▇▇▇▇▇▇▇</td></tr><tr><td>validation label loss</td><td>▆▆▆▆▆▇▇████▇▅▄▄▄▂▁▁▂▂▂▂▂▂▂▂▂▂▂▁▁▁▁▁▁▁▁▁▁</td></tr><tr><td>validation triplet loss</td><td>▇▇▇▇▇█████▇▆▄▄▃▃▂▂▂▂▂▂▂▂▁▁▁▁▁▁▁▁▁▁▁▁▁▁▁▁</td></tr></table><br/></div><div class=\"wandb-col\"><h3>Run summary:</h3><br/><table class=\"wandb\"><tr><td>latent separation accuracy</td><td>1.0</td></tr><tr><td>total train loss</td><td>0.74373</td></tr><tr><td>total validation loss</td><td>1.19766</td></tr><tr><td>train label accuracy</td><td>1.0</td></tr><tr><td>train label loss</td><td>0.74373</td></tr><tr><td>train triplet loss</td><td>0.0</td></tr><tr><td>validation label accuracy</td><td>0.69444</td></tr><tr><td>validation label loss</td><td>1.04201</td></tr><tr><td>validation triplet loss</td><td>0.15565</td></tr></table><br/></div></div>"
      ],
      "text/plain": [
       "<IPython.core.display.HTML object>"
      ]
     },
     "metadata": {},
     "output_type": "display_data"
    },
    {
     "data": {
      "text/html": [
       " View run <strong style=\"color:#cdcd00\">lilac-glitter-69</strong> at: <a href='https://wandb.ai/sid-academic-team/ConceptualAlignment/runs/g8h5txl9' target=\"_blank\">https://wandb.ai/sid-academic-team/ConceptualAlignment/runs/g8h5txl9</a><br/>Synced 6 W&B file(s), 0 media file(s), 0 artifact file(s) and 0 other file(s)"
      ],
      "text/plain": [
       "<IPython.core.display.HTML object>"
      ]
     },
     "metadata": {},
     "output_type": "display_data"
    },
    {
     "data": {
      "text/html": [
       "Find logs at: <code>./wandb/run-20240125_181454-g8h5txl9/logs</code>"
      ],
      "text/plain": [
       "<IPython.core.display.HTML object>"
      ]
     },
     "metadata": {},
     "output_type": "display_data"
    }
   ],
   "source": [
    "wandb.finish()\n",
    "\n",
    "num_classes = 4 # Number of unique class labels in the dataset\n",
    "latent_dims = 64\n",
    "epochs = 1\n",
    "lr = 0.005\n",
    "num_models = 1\n",
    "batch_size = 256\n",
    "save_dir = save_dir\n",
    "# to check if dataset is the same\n",
    "val_datas = []\n",
    "for epochs in [1, 2, 3, 4, 5, 10, 20, 50]:\n",
    "    val_datas.extend([main_code(save_dir, num_models, epochs, num_classes, batch_size,\n",
    "                lr, latent_dims)])\n",
    "wandb.finish()"
   ]
  },
  {
   "cell_type": "markdown",
   "metadata": {},
   "source": []
  },
  {
   "cell_type": "code",
   "execution_count": null,
   "metadata": {},
   "outputs": [],
   "source": [
    "# want the final layer logits , compute error based on the maximum logits ground truth "
   ]
  },
  {
   "cell_type": "markdown",
   "metadata": {},
   "source": [
    "# sid changes"
   ]
  },
  {
   "cell_type": "code",
   "execution_count": 21,
   "metadata": {},
   "outputs": [],
   "source": [
    "import pickle\n",
    "import pandas as pd"
   ]
  },
  {
   "cell_type": "code",
   "execution_count": 21,
   "metadata": {},
   "outputs": [],
   "source": [
    "batch_size = 256\n",
    "random.seed(42)\n",
    "np.random.seed(42)\n",
    "torch.manual_seed(42)\n",
    "contrast_indices  = np.concatenate((np.random.choice(np.arange(start=30, stop=120), 30, replace=False),\n",
    "                np.random.choice(np.concatenate((np.arange(start=0, stop=30), np.arange(start=60, stop=120))), 30, replace=False),\n",
    "                np.random.choice(np.concatenate((np.arange(start=0, stop=60), np.arange(start=90, stop=120))), 30, replace=False),\n",
    "                np.random.choice(np.arange(start=0, stop=90), 30, replace=False)))\n",
    "# train_data = TensorDataset(Resize(32)(torch.tensor(set_A_sub_ims.transpose(0,3,1,2)/255).float()), Resize(32)(torch.tensor(set_A_sub_ims[contrast_indices].transpose(0,3,1,2)/255).float()),\\\n",
    "#                                      torch.tensor(set_A_sub_labs).to(torch.int64))\n",
    "train_data = TensorDataset(Resize(32)(torch.tensor(set_C_ims.transpose(0,3,1,2)/255).float()), Resize(32)(torch.tensor(set_C_ims.transpose(0,3,1,2)/255).float()),\\\n",
    "                                     torch.tensor(set_C_labs).to(torch.int64))\n",
    "train_size = int(0.7 * len(train_data))\n",
    "val_size = len(train_data) - train_size\n",
    "# test_size = len(train_data) - train_size - val_size\n",
    "\n",
    "train_data, val_data = random_split(train_data, [train_size, val_size], generator=torch.Generator().manual_seed(42))\n",
    "\n",
    "train_data = torch.utils.data.DataLoader(train_data,\n",
    "                                                batch_size=batch_size,\n",
    "                                              shuffle=True) \n",
    "val_data = torch.utils.data.DataLoader(val_data,\n",
    "                                                batch_size=batch_size,\n",
    "                                                shuffle=False)\n",
    "# test_data = torch.utils.data.DataLoader(test_data,\n",
    "#                                                 batch_size=batch_size,\n",
    "#                                               shuffle=False)                       "
   ]
  },
  {
   "cell_type": "code",
   "execution_count": 22,
   "metadata": {},
   "outputs": [
    {
     "data": {
      "text/plain": [
       "(1680, 720)"
      ]
     },
     "execution_count": 22,
     "metadata": {},
     "output_type": "execute_result"
    }
   ],
   "source": [
    "train_size, val_size"
   ]
  },
  {
   "cell_type": "code",
   "execution_count": 23,
   "metadata": {},
   "outputs": [
    {
     "name": "stdout",
     "output_type": "stream",
     "text": [
      "===================================================\n",
      "Epoch 0, Loss: 0.6636428833007812, Accuracy: 37.916666666666664%\n",
      "Epoch 20, Loss: 0.00100385257974267, Accuracy: 27.55952380952381%\n",
      "Epoch 40, Loss: 6.923260662006214e-05, Accuracy: 27.738095238095237%\n",
      "Epoch 60, Loss: 4.833959974348545e-05, Accuracy: 27.738095238095237%\n",
      "Epoch 80, Loss: 3.9166287024272606e-05, Accuracy: 27.738095238095237%\n",
      "Epoch 100, Loss: 1.7539585314807482e-05, Accuracy: 27.738095238095237%\n",
      "Epoch 120, Loss: 1.245966359419981e-05, Accuracy: 27.738095238095237%\n",
      "Epoch 140, Loss: 2.1402658603619784e-05, Accuracy: 27.738095238095237%\n",
      "Epoch 160, Loss: 5.995202172925929e-06, Accuracy: 27.738095238095237%\n",
      "Epoch 180, Loss: 6.452137768064858e-06, Accuracy: 27.738095238095237%\n",
      "Pretrained Model: 0.278, Epoch 199, Loss: 2.7835872970172204e-05, Accuracy: 27.738095238095237%\n",
      "===================================================\n",
      "===================================================\n",
      "Epoch 0, Loss: 0.1951259970664978, Accuracy: 52.916666666666664%\n",
      "Epoch 20, Loss: 0.009456049650907516, Accuracy: 33.51190476190476%\n",
      "Epoch 40, Loss: 0.007158354856073856, Accuracy: 23.333333333333332%\n",
      "Epoch 60, Loss: 0.0019370377995073795, Accuracy: 24.404761904761905%\n",
      "Epoch 80, Loss: 2.4835264955669345e-09, Accuracy: 25.892857142857142%\n",
      "Epoch 100, Loss: 0.00041971958125941455, Accuracy: 27.738095238095237%\n",
      "Epoch 120, Loss: 3.311368734770781e-09, Accuracy: 26.428571428571427%\n",
      "Epoch 140, Loss: 0.0021961622405797243, Accuracy: 27.44047619047619%\n",
      "Epoch 160, Loss: 8.806278492556885e-05, Accuracy: 31.25%\n",
      "Epoch 180, Loss: 0.0, Accuracy: 30.833333333333332%\n",
      "Pretrained Model: 0.167, Epoch 199, Loss: 0.0, Accuracy: 30.833333333333332%\n",
      "===================================================\n",
      "===================================================\n",
      "Epoch 0, Loss: 0.026131656020879745, Accuracy: 72.97619047619048%\n",
      "Epoch 20, Loss: 0.012275105342268944, Accuracy: 61.726190476190474%\n",
      "Epoch 40, Loss: 0.0007124135736376047, Accuracy: 52.55952380952381%\n",
      "Epoch 60, Loss: 0.007894732058048248, Accuracy: 50.05952380952381%\n",
      "Epoch 80, Loss: 0.003051579697057605, Accuracy: 39.82142857142857%\n",
      "Epoch 100, Loss: 0.0054671564139425755, Accuracy: 32.55952380952381%\n",
      "Epoch 120, Loss: 0.00016844080528244376, Accuracy: 25.833333333333332%\n",
      "Epoch 140, Loss: 1.1811144759121817e-05, Accuracy: 24.226190476190474%\n",
      "Epoch 160, Loss: 0.00018487167835701257, Accuracy: 26.607142857142858%\n",
      "Epoch 180, Loss: 0.0004323518951423466, Accuracy: 27.738095238095237%\n",
      "Pretrained Model: 0.694, Epoch 199, Loss: 8.278417951146366e-09, Accuracy: 27.083333333333332%\n",
      "===================================================\n",
      "===================================================\n",
      "Epoch 0, Loss: 0.6041291952133179, Accuracy: 26.19047619047619%\n",
      "Epoch 20, Loss: 0.0006423339364118874, Accuracy: 24.88095238095238%\n",
      "Epoch 40, Loss: 6.493373803095892e-05, Accuracy: 25.05952380952381%\n",
      "Epoch 60, Loss: 2.0525365471257828e-05, Accuracy: 25.05952380952381%\n",
      "Epoch 80, Loss: 2.4435010345769115e-05, Accuracy: 25.05952380952381%\n",
      "Epoch 100, Loss: 9.91578144748928e-06, Accuracy: 25.05952380952381%\n",
      "Epoch 120, Loss: 1.2443072591850068e-05, Accuracy: 25.05952380952381%\n",
      "Epoch 140, Loss: 5.438802872959059e-06, Accuracy: 25.05952380952381%\n",
      "Epoch 160, Loss: 7.530798939114902e-06, Accuracy: 25.05952380952381%\n",
      "Epoch 180, Loss: 3.791482413362246e-06, Accuracy: 25.05952380952381%\n",
      "Pretrained Model: 0.083, Epoch 199, Loss: 3.2136726986209396e-06, Accuracy: 25.05952380952381%\n",
      "===================================================\n",
      "===================================================\n",
      "Epoch 0, Loss: 0.09844392538070679, Accuracy: 72.14285714285714%\n",
      "Epoch 20, Loss: 0.017619626596570015, Accuracy: 64.52380952380952%\n",
      "Epoch 40, Loss: 0.012715722434222698, Accuracy: 42.79761904761905%\n",
      "Epoch 60, Loss: 0.005597997922450304, Accuracy: 33.333333333333336%\n",
      "Epoch 80, Loss: 0.0062617347575724125, Accuracy: 30.595238095238095%\n",
      "Epoch 100, Loss: 0.005938241723924875, Accuracy: 31.547619047619047%\n",
      "Epoch 120, Loss: 0.005702518858015537, Accuracy: 28.273809523809526%\n",
      "Epoch 140, Loss: 0.0013903822982683778, Accuracy: 27.797619047619047%\n",
      "Epoch 160, Loss: 1.655684478407693e-09, Accuracy: 24.702380952380953%\n",
      "Epoch 180, Loss: 0.0007068144041113555, Accuracy: 26.547619047619047%\n",
      "Pretrained Model: 0.556, Epoch 199, Loss: 3.2864883792171895e-07, Accuracy: 25.952380952380953%\n",
      "===================================================\n",
      "===================================================\n",
      "Epoch 0, Loss: 0.44306814670562744, Accuracy: 41.904761904761905%\n",
      "Epoch 20, Loss: 6.905480404384434e-05, Accuracy: 33.095238095238095%\n",
      "Epoch 40, Loss: 0.00017630442744120955, Accuracy: 33.095238095238095%\n",
      "Epoch 60, Loss: 2.954287083412055e-05, Accuracy: 33.095238095238095%\n",
      "Epoch 80, Loss: 1.4526704944728408e-05, Accuracy: 33.095238095238095%\n",
      "Epoch 100, Loss: 9.7485572041478e-06, Accuracy: 33.095238095238095%\n",
      "Epoch 120, Loss: 1.4968717550800648e-05, Accuracy: 33.095238095238095%\n",
      "Epoch 140, Loss: 8.42485223984113e-06, Accuracy: 33.095238095238095%\n",
      "Epoch 160, Loss: 9.984251846617553e-06, Accuracy: 33.095238095238095%\n",
      "Epoch 180, Loss: 6.146668965811841e-06, Accuracy: 33.095238095238095%\n",
      "Pretrained Model: 0.222, Epoch 199, Loss: 2.9967789032525616e-06, Accuracy: 33.095238095238095%\n",
      "===================================================\n"
     ]
    }
   ],
   "source": [
    "# class MaxLogitsLoss(torch.nn.Module):\n",
    "#     def __init__(self):\n",
    "#         super(MaxLogitsLoss, self).__init__()\n",
    "\n",
    "#     def forward(self, logits, targets):\n",
    "#         max_logits = torch.sum(logits * targets, dim=1)\n",
    "#         loss = -max_logits.mean()\n",
    "#         return loss\n",
    "latent_dims = 64\n",
    "\n",
    "# model_path = {38: \"./results/sid_checkpoints/0_set_A_label_and_triplet_0.389_sid_ce.pth\",\n",
    "#               44: \"./results/sid_checkpoints/0_set_A_label_and_triplet_0.444_sid_ce.pth\",\n",
    "#               50: \"./results/sid_checkpoints/0_set_A_label_and_triplet_0.5_sid_ce.pth\",\n",
    "#               55: \"./results/sid_checkpoints/0_set_A_label_and_triplet_0.556_sid_ce.pth\",\n",
    "#               66: \"./results/sid_checkpoints/0_set_A_label_and_triplet_0.667_sid_ce.pth\",\n",
    "#               72: \"./results/sid_checkpoints/0_set_A_label_and_triplet_0.722_sid_ce.pth\",\n",
    "#               77: \"./results/sid_checkpoints/0_set_A_label_and_triplet_0.778_sid_ce.pth\",\n",
    "#               83: \"./results/sid_checkpoints/0_set_A_label_and_triplet_0.833_sid_ce.pth\"}\n",
    "\n",
    "model_paths = {}\n",
    "for fname in os.listdir(os.path.join(save_dir,'sid_checkpoints', 'before_self_talk_all_set_A')):\n",
    "    if fname.endswith('.pth'):\n",
    "        model_paths[str(fname.split('_')[-3])] = fname\n",
    "model_paths\n",
    "\n",
    "for choose in model_paths.keys():\n",
    "    print('===================================================')\n",
    "    triplet_lab_model = TripletLabelModel(latent_dims, 4)\n",
    "    triplet_lab_model.load_state_dict(torch.load(os.path.join(save_dir,'sid_checkpoints', 'before_self_talk_all_set_A', model_paths[str(choose)])))\n",
    "    triplet_lab_model = triplet_lab_model.to(device)\n",
    "    # criterion = MaxLogitsLoss()\n",
    "    criterion = nn.CrossEntropyLoss()\n",
    "\n",
    "    optimizer = torch.optim.Adam(triplet_lab_model.parameters(), lr=0.001)\n",
    "    num_epochs = 200\n",
    "\n",
    "    for epoch in range(num_epochs):\n",
    "        correct = 0\n",
    "        total = 0\n",
    "        for anchor_ims, contrast_ims, labels in train_data:\n",
    "            anchor_ims = anchor_ims.to(device)\n",
    "            contrast_ims = contrast_ims.to(device)\n",
    "            # labels = F.one_hot(labels, num_classes=4)\n",
    "            # import ipdb;ipdb.set_trace()\n",
    "            labels = labels.to(device)\n",
    "            \n",
    "            optimizer.zero_grad()\n",
    "            _, label_logits = triplet_lab_model(anchor_ims)\n",
    "            predicted_labels = torch.argmax(label_logits, dim=1)\n",
    "            # import ipdb; ipdb.set_trace()\n",
    "            loss = criterion(label_logits, predicted_labels)\n",
    "            loss.backward()\n",
    "            optimizer.step()\n",
    "            \n",
    "            # Calculate accuracy\n",
    "            _, predicted = torch.max(label_logits.data, 1)\n",
    "            # _, labels_max = torch.max(labels.data, 1)\n",
    "            total += labels.size(0)\n",
    "            correct += (predicted == labels).sum().item()\n",
    "\n",
    "            accuracy = 100 * correct / total\n",
    "        if epoch%20==0:\n",
    "            print(f\"Epoch {epoch}, Loss: {loss.item()}, Accuracy: {accuracy}%\")\n",
    "        \n",
    "        # print(f\"Epoch {epoch}, Loss: {loss.item()}, Accuracy: {accuracy}%\")\n",
    "\n",
    "    print(f\"Pretrained Model: {choose}, Epoch {epoch}, Loss: {loss.item()}, Accuracy: {accuracy}%\")\n",
    "    save_path = os.path.join(save_dir,'sid_checkpoints', 'after_self_talk_all_set_A',  f'0_set_A_maxlogits_acc_{choose}.pth')\n",
    "    torch.save(triplet_lab_model.state_dict(), save_path)\n",
    "    print('===================================================')\n",
    "\n"
   ]
  },
  {
   "cell_type": "markdown",
   "metadata": {},
   "source": []
  },
  {
   "cell_type": "markdown",
   "metadata": {},
   "source": [
    "## before after self talk accuracies and saving latents"
   ]
  },
  {
   "cell_type": "code",
   "execution_count": 24,
   "metadata": {},
   "outputs": [],
   "source": [
    "import pandas as pd\n",
    "latent_dims = 64\n",
    "\n",
    "# model_path = {38: \"./results/sid_checkpoints/0_set_A_label_and_triplet_0.389_sid_ce.pth\",\n",
    "#               44: \"./results/sid_checkpoints/0_set_A_label_and_triplet_0.444_sid_ce.pth\",\n",
    "#               50: \"./results/sid_checkpoints/0_set_A_label_and_triplet_0.5_sid_ce.pth\",\n",
    "#               55: \"./results/sid_checkpoints/0_set_A_label_and_triplet_0.556_sid_ce.pth\",\n",
    "#               66: \"./results/sid_checkpoints/0_set_A_label_and_triplet_0.667_sid_ce.pth\",\n",
    "#               72: \"./results/sid_checkpoints/0_set_A_label_and_triplet_0.722_sid_ce.pth\",\n",
    "#               77: \"./results/sid_checkpoints/0_set_A_label_and_triplet_0.778_sid_ce.pth\",\n",
    "#               83: \"./results/sid_checkpoints/0_set_A_label_and_triplet_0.833_sid_ce.pth\",}\n",
    "\n",
    "# chooses = model_path.keys()\n",
    "# model_paths = {}\n",
    "model_fnames = []\n",
    "for fname in os.listdir(os.path.join(save_dir,'sid_checkpoints', 'before_self_talk_all_set_A')):\n",
    "    if fname.endswith('.pth'):\n",
    "        model_fnames.append(fname.split('_')[-3])\n",
    "df = pd.DataFrame(columns=['model_name', 'type' 'accuracy'])\n",
    "for choose in model_fnames:\n",
    "    for model_type in ['before_self_talk', 'after_self_talk']:\n",
    "        triplet_lab_model = TripletLabelModel(latent_dims, 4)\n",
    "        if model_type == 'before_self_talk':\n",
    "            triplet_lab_model.load_state_dict(torch.load(os.path.join(save_dir,'sid_checkpoints', 'before_self_talk_all_set_A', f'0_set_A_label_and_triplet_{choose}_sid_ce.pth')))\n",
    "        else:\n",
    "            triplet_lab_model.load_state_dict(torch.load(os.path.join(save_dir,'sid_checkpoints', 'after_self_talk_all_set_A', f'0_set_A_maxlogits_acc_{choose}.pth')))\n",
    "        triplet_lab_model = triplet_lab_model.to(device)\n",
    "        total = 0\n",
    "        correct = 0\n",
    "        latent_temp = np.zeros((val_size, latent_dims))\n",
    "        labels_temp = []\n",
    "        for anchor_ims, contrast_ims, labels in val_data:\n",
    "            anchor_ims = anchor_ims.to(device)\n",
    "            contrast_ims = contrast_ims.to(device)\n",
    "            # labels = F.one_hot(labels, num_classes=4)\n",
    "            # import ipdb; ipdb.set_trace()\n",
    "            labels = labels.to(device)\n",
    "            labels_temp.extend(labels.cpu().detach())\n",
    "            # optimizer.zero_grad()\n",
    "            latents, label_logits = triplet_lab_model(anchor_ims)\n",
    "            latent_temp[total:total+labels.size(0)] = latents.cpu().detach().numpy()\n",
    "            # import ipdb; ipdb.set_trace()\n",
    "            predicted_labels = torch.argmax(label_logits, dim=1)\n",
    "            \n",
    "            # Calculate accuracy\n",
    "            _, predicted = torch.max(label_logits.data, 1)\n",
    "            # _, labels_max = torch.max(labels.data, 1)\n",
    "            total += labels.size(0)\n",
    "            correct += (predicted == labels).sum().item()\n",
    "\n",
    "            accuracy = 100 * correct / total\n",
    "        # save latents and labels as a pandas dataframe csv\n",
    "        # import ipdb; ipdb.set_trace()\n",
    "        if model_type == 'before_self_talk':\n",
    "            pd.DataFrame(latent_temp, index=labels_temp).to_csv(os.path.join(save_dir,'latents_self_talk', 'before', f'{choose}.csv'))\n",
    "        else:\n",
    "            pd.DataFrame(latent_temp, index=labels_temp).to_csv(os.path.join(save_dir,'latents_self_talk', 'after', f'{choose}.csv'))\n",
    "        \n",
    "        df = pd.concat([df, pd.DataFrame([[choose, model_type, accuracy]], columns=['model_name', 'type', 'accuracy'])], ignore_index=True)\n",
    "\n",
    "        \n",
    "        # print(f\"Epoch {epoch}, Loss: {loss.item()}, Accuracy: {accuracy}%\")\n",
    "        \n",
    "\n",
    "\n"
   ]
  },
  {
   "cell_type": "code",
   "execution_count": 25,
   "metadata": {},
   "outputs": [
    {
     "data": {
      "text/html": [
       "<div>\n",
       "<style scoped>\n",
       "    .dataframe tbody tr th:only-of-type {\n",
       "        vertical-align: middle;\n",
       "    }\n",
       "\n",
       "    .dataframe tbody tr th {\n",
       "        vertical-align: top;\n",
       "    }\n",
       "\n",
       "    .dataframe thead th {\n",
       "        text-align: right;\n",
       "    }\n",
       "</style>\n",
       "<table border=\"1\" class=\"dataframe\">\n",
       "  <thead>\n",
       "    <tr style=\"text-align: right;\">\n",
       "      <th></th>\n",
       "      <th>model_name</th>\n",
       "      <th>typeaccuracy</th>\n",
       "      <th>type</th>\n",
       "      <th>accuracy</th>\n",
       "    </tr>\n",
       "  </thead>\n",
       "  <tbody>\n",
       "    <tr>\n",
       "      <th>0</th>\n",
       "      <td>0.278</td>\n",
       "      <td>NaN</td>\n",
       "      <td>before_self_talk</td>\n",
       "      <td>44.444444</td>\n",
       "    </tr>\n",
       "    <tr>\n",
       "      <th>1</th>\n",
       "      <td>0.278</td>\n",
       "      <td>NaN</td>\n",
       "      <td>after_self_talk</td>\n",
       "      <td>26.805556</td>\n",
       "    </tr>\n",
       "    <tr>\n",
       "      <th>2</th>\n",
       "      <td>0.167</td>\n",
       "      <td>NaN</td>\n",
       "      <td>before_self_talk</td>\n",
       "      <td>56.944444</td>\n",
       "    </tr>\n",
       "    <tr>\n",
       "      <th>3</th>\n",
       "      <td>0.167</td>\n",
       "      <td>NaN</td>\n",
       "      <td>after_self_talk</td>\n",
       "      <td>32.916667</td>\n",
       "    </tr>\n",
       "    <tr>\n",
       "      <th>4</th>\n",
       "      <td>0.694</td>\n",
       "      <td>NaN</td>\n",
       "      <td>before_self_talk</td>\n",
       "      <td>74.444444</td>\n",
       "    </tr>\n",
       "    <tr>\n",
       "      <th>5</th>\n",
       "      <td>0.694</td>\n",
       "      <td>NaN</td>\n",
       "      <td>after_self_talk</td>\n",
       "      <td>28.194444</td>\n",
       "    </tr>\n",
       "    <tr>\n",
       "      <th>6</th>\n",
       "      <td>0.083</td>\n",
       "      <td>NaN</td>\n",
       "      <td>before_self_talk</td>\n",
       "      <td>30.972222</td>\n",
       "    </tr>\n",
       "    <tr>\n",
       "      <th>7</th>\n",
       "      <td>0.083</td>\n",
       "      <td>NaN</td>\n",
       "      <td>after_self_talk</td>\n",
       "      <td>25.555556</td>\n",
       "    </tr>\n",
       "    <tr>\n",
       "      <th>8</th>\n",
       "      <td>0.556</td>\n",
       "      <td>NaN</td>\n",
       "      <td>before_self_talk</td>\n",
       "      <td>72.777778</td>\n",
       "    </tr>\n",
       "    <tr>\n",
       "      <th>9</th>\n",
       "      <td>0.556</td>\n",
       "      <td>NaN</td>\n",
       "      <td>after_self_talk</td>\n",
       "      <td>25.416667</td>\n",
       "    </tr>\n",
       "    <tr>\n",
       "      <th>10</th>\n",
       "      <td>0.222</td>\n",
       "      <td>NaN</td>\n",
       "      <td>before_self_talk</td>\n",
       "      <td>46.805556</td>\n",
       "    </tr>\n",
       "    <tr>\n",
       "      <th>11</th>\n",
       "      <td>0.222</td>\n",
       "      <td>NaN</td>\n",
       "      <td>after_self_talk</td>\n",
       "      <td>33.888889</td>\n",
       "    </tr>\n",
       "  </tbody>\n",
       "</table>\n",
       "</div>"
      ],
      "text/plain": [
       "   model_name typeaccuracy              type   accuracy\n",
       "0       0.278          NaN  before_self_talk  44.444444\n",
       "1       0.278          NaN   after_self_talk  26.805556\n",
       "2       0.167          NaN  before_self_talk  56.944444\n",
       "3       0.167          NaN   after_self_talk  32.916667\n",
       "4       0.694          NaN  before_self_talk  74.444444\n",
       "5       0.694          NaN   after_self_talk  28.194444\n",
       "6       0.083          NaN  before_self_talk  30.972222\n",
       "7       0.083          NaN   after_self_talk  25.555556\n",
       "8       0.556          NaN  before_self_talk  72.777778\n",
       "9       0.556          NaN   after_self_talk  25.416667\n",
       "10      0.222          NaN  before_self_talk  46.805556\n",
       "11      0.222          NaN   after_self_talk  33.888889"
      ]
     },
     "execution_count": 25,
     "metadata": {},
     "output_type": "execute_result"
    }
   ],
   "source": [
    "df"
   ]
  },
  {
   "cell_type": "code",
   "execution_count": 31,
   "metadata": {},
   "outputs": [
    {
     "name": "stderr",
     "output_type": "stream",
     "text": [
      "/mnt/dv/wid/projects3/Rogers-muri-human-ai/sid/tmp/envs/alignment2/lib/python3.8/site-packages/sklearn/linear_model/_logistic.py:460: ConvergenceWarning: lbfgs failed to converge (status=1):\n",
      "STOP: TOTAL NO. of ITERATIONS REACHED LIMIT.\n",
      "\n",
      "Increase the number of iterations (max_iter) or scale the data as shown in:\n",
      "    https://scikit-learn.org/stable/modules/preprocessing.html\n",
      "Please also refer to the documentation for alternative solver options:\n",
      "    https://scikit-learn.org/stable/modules/linear_model.html#logistic-regression\n",
      "  n_iter_i = _check_optimize_result(\n",
      "/mnt/dv/wid/projects3/Rogers-muri-human-ai/sid/tmp/envs/alignment2/lib/python3.8/site-packages/sklearn/linear_model/_logistic.py:460: ConvergenceWarning: lbfgs failed to converge (status=1):\n",
      "STOP: TOTAL NO. of ITERATIONS REACHED LIMIT.\n",
      "\n",
      "Increase the number of iterations (max_iter) or scale the data as shown in:\n",
      "    https://scikit-learn.org/stable/modules/preprocessing.html\n",
      "Please also refer to the documentation for alternative solver options:\n",
      "    https://scikit-learn.org/stable/modules/linear_model.html#logistic-regression\n",
      "  n_iter_i = _check_optimize_result(\n",
      "/mnt/dv/wid/projects3/Rogers-muri-human-ai/sid/tmp/envs/alignment2/lib/python3.8/site-packages/sklearn/linear_model/_logistic.py:460: ConvergenceWarning: lbfgs failed to converge (status=1):\n",
      "STOP: TOTAL NO. of ITERATIONS REACHED LIMIT.\n",
      "\n",
      "Increase the number of iterations (max_iter) or scale the data as shown in:\n",
      "    https://scikit-learn.org/stable/modules/preprocessing.html\n",
      "Please also refer to the documentation for alternative solver options:\n",
      "    https://scikit-learn.org/stable/modules/linear_model.html#logistic-regression\n",
      "  n_iter_i = _check_optimize_result(\n",
      "/mnt/dv/wid/projects3/Rogers-muri-human-ai/sid/tmp/envs/alignment2/lib/python3.8/site-packages/sklearn/linear_model/_logistic.py:460: ConvergenceWarning: lbfgs failed to converge (status=1):\n",
      "STOP: TOTAL NO. of ITERATIONS REACHED LIMIT.\n",
      "\n",
      "Increase the number of iterations (max_iter) or scale the data as shown in:\n",
      "    https://scikit-learn.org/stable/modules/preprocessing.html\n",
      "Please also refer to the documentation for alternative solver options:\n",
      "    https://scikit-learn.org/stable/modules/linear_model.html#logistic-regression\n",
      "  n_iter_i = _check_optimize_result(\n",
      "/mnt/dv/wid/projects3/Rogers-muri-human-ai/sid/tmp/envs/alignment2/lib/python3.8/site-packages/sklearn/linear_model/_logistic.py:460: ConvergenceWarning: lbfgs failed to converge (status=1):\n",
      "STOP: TOTAL NO. of ITERATIONS REACHED LIMIT.\n",
      "\n",
      "Increase the number of iterations (max_iter) or scale the data as shown in:\n",
      "    https://scikit-learn.org/stable/modules/preprocessing.html\n",
      "Please also refer to the documentation for alternative solver options:\n",
      "    https://scikit-learn.org/stable/modules/linear_model.html#logistic-regression\n",
      "  n_iter_i = _check_optimize_result(\n",
      "/mnt/dv/wid/projects3/Rogers-muri-human-ai/sid/tmp/envs/alignment2/lib/python3.8/site-packages/sklearn/linear_model/_logistic.py:460: ConvergenceWarning: lbfgs failed to converge (status=1):\n",
      "STOP: TOTAL NO. of ITERATIONS REACHED LIMIT.\n",
      "\n",
      "Increase the number of iterations (max_iter) or scale the data as shown in:\n",
      "    https://scikit-learn.org/stable/modules/preprocessing.html\n",
      "Please also refer to the documentation for alternative solver options:\n",
      "    https://scikit-learn.org/stable/modules/linear_model.html#logistic-regression\n",
      "  n_iter_i = _check_optimize_result(\n",
      "/mnt/dv/wid/projects3/Rogers-muri-human-ai/sid/tmp/envs/alignment2/lib/python3.8/site-packages/sklearn/linear_model/_logistic.py:460: ConvergenceWarning: lbfgs failed to converge (status=1):\n",
      "STOP: TOTAL NO. of ITERATIONS REACHED LIMIT.\n",
      "\n",
      "Increase the number of iterations (max_iter) or scale the data as shown in:\n",
      "    https://scikit-learn.org/stable/modules/preprocessing.html\n",
      "Please also refer to the documentation for alternative solver options:\n",
      "    https://scikit-learn.org/stable/modules/linear_model.html#logistic-regression\n",
      "  n_iter_i = _check_optimize_result(\n",
      "/mnt/dv/wid/projects3/Rogers-muri-human-ai/sid/tmp/envs/alignment2/lib/python3.8/site-packages/sklearn/linear_model/_logistic.py:460: ConvergenceWarning: lbfgs failed to converge (status=1):\n",
      "STOP: TOTAL NO. of ITERATIONS REACHED LIMIT.\n",
      "\n",
      "Increase the number of iterations (max_iter) or scale the data as shown in:\n",
      "    https://scikit-learn.org/stable/modules/preprocessing.html\n",
      "Please also refer to the documentation for alternative solver options:\n",
      "    https://scikit-learn.org/stable/modules/linear_model.html#logistic-regression\n",
      "  n_iter_i = _check_optimize_result(\n",
      "/mnt/dv/wid/projects3/Rogers-muri-human-ai/sid/tmp/envs/alignment2/lib/python3.8/site-packages/sklearn/linear_model/_logistic.py:460: ConvergenceWarning: lbfgs failed to converge (status=1):\n",
      "STOP: TOTAL NO. of ITERATIONS REACHED LIMIT.\n",
      "\n",
      "Increase the number of iterations (max_iter) or scale the data as shown in:\n",
      "    https://scikit-learn.org/stable/modules/preprocessing.html\n",
      "Please also refer to the documentation for alternative solver options:\n",
      "    https://scikit-learn.org/stable/modules/linear_model.html#logistic-regression\n",
      "  n_iter_i = _check_optimize_result(\n",
      "/mnt/dv/wid/projects3/Rogers-muri-human-ai/sid/tmp/envs/alignment2/lib/python3.8/site-packages/sklearn/linear_model/_logistic.py:460: ConvergenceWarning: lbfgs failed to converge (status=1):\n",
      "STOP: TOTAL NO. of ITERATIONS REACHED LIMIT.\n",
      "\n",
      "Increase the number of iterations (max_iter) or scale the data as shown in:\n",
      "    https://scikit-learn.org/stable/modules/preprocessing.html\n",
      "Please also refer to the documentation for alternative solver options:\n",
      "    https://scikit-learn.org/stable/modules/linear_model.html#logistic-regression\n",
      "  n_iter_i = _check_optimize_result(\n",
      "/mnt/dv/wid/projects3/Rogers-muri-human-ai/sid/tmp/envs/alignment2/lib/python3.8/site-packages/sklearn/linear_model/_logistic.py:460: ConvergenceWarning: lbfgs failed to converge (status=1):\n",
      "STOP: TOTAL NO. of ITERATIONS REACHED LIMIT.\n",
      "\n",
      "Increase the number of iterations (max_iter) or scale the data as shown in:\n",
      "    https://scikit-learn.org/stable/modules/preprocessing.html\n",
      "Please also refer to the documentation for alternative solver options:\n",
      "    https://scikit-learn.org/stable/modules/linear_model.html#logistic-regression\n",
      "  n_iter_i = _check_optimize_result(\n"
     ]
    }
   ],
   "source": [
    "latent_separation_df = pd.DataFrame(columns=['model_name', 'type', 'accuracy'])\n",
    "\n",
    "# use latents to predict labels by training a logistic regression model\n",
    "# calculate accuracy of the model\n",
    "\n",
    "fnames = os.listdir(os.path.join(save_dir,'latents_self_talk', 'before'))\n",
    "\n",
    "for type in ['before', 'after']:\n",
    "    for fname in fnames:\n",
    "        # print(fname)\n",
    "        latent_df = pd.read_csv(os.path.join(save_dir,'latents_self_talk', type, fname), index_col=0)\n",
    "        latent_df = latent_df.sample(frac=1)\n",
    "        latent_df = latent_df.reset_index(drop=True)\n",
    "        labels = latent_df.index\n",
    "        latent_df = latent_df.to_numpy()\n",
    "        lm = linear_model.LogisticRegression()\n",
    "        lm.fit(latent_df, labels)\n",
    "        latent_separation_df = pd.concat([latent_separation_df, pd.DataFrame([[fname.split('.csv')[0], type, lm.score(latent_df, labels)]], columns=['model_name', 'type', 'accuracy'])], ignore_index=True)"
   ]
  },
  {
   "cell_type": "code",
   "execution_count": 32,
   "metadata": {},
   "outputs": [
    {
     "data": {
      "text/html": [
       "<div>\n",
       "<style scoped>\n",
       "    .dataframe tbody tr th:only-of-type {\n",
       "        vertical-align: middle;\n",
       "    }\n",
       "\n",
       "    .dataframe tbody tr th {\n",
       "        vertical-align: top;\n",
       "    }\n",
       "\n",
       "    .dataframe thead th {\n",
       "        text-align: right;\n",
       "    }\n",
       "</style>\n",
       "<table border=\"1\" class=\"dataframe\">\n",
       "  <thead>\n",
       "    <tr style=\"text-align: right;\">\n",
       "      <th>type</th>\n",
       "      <th>after</th>\n",
       "      <th>before</th>\n",
       "    </tr>\n",
       "    <tr>\n",
       "      <th>model_name</th>\n",
       "      <th></th>\n",
       "      <th></th>\n",
       "    </tr>\n",
       "  </thead>\n",
       "  <tbody>\n",
       "    <tr>\n",
       "      <th>0.083</th>\n",
       "      <td>0.881944</td>\n",
       "      <td>1.000000</td>\n",
       "    </tr>\n",
       "    <tr>\n",
       "      <th>0.167</th>\n",
       "      <td>0.861111</td>\n",
       "      <td>0.997222</td>\n",
       "    </tr>\n",
       "    <tr>\n",
       "      <th>0.222</th>\n",
       "      <td>0.983333</td>\n",
       "      <td>1.000000</td>\n",
       "    </tr>\n",
       "    <tr>\n",
       "      <th>0.278</th>\n",
       "      <td>0.912500</td>\n",
       "      <td>1.000000</td>\n",
       "    </tr>\n",
       "    <tr>\n",
       "      <th>0.556</th>\n",
       "      <td>0.693056</td>\n",
       "      <td>1.000000</td>\n",
       "    </tr>\n",
       "    <tr>\n",
       "      <th>0.694</th>\n",
       "      <td>0.598611</td>\n",
       "      <td>0.998611</td>\n",
       "    </tr>\n",
       "  </tbody>\n",
       "</table>\n",
       "</div>"
      ],
      "text/plain": [
       "type           after    before\n",
       "model_name                    \n",
       "0.083       0.881944  1.000000\n",
       "0.167       0.861111  0.997222\n",
       "0.222       0.983333  1.000000\n",
       "0.278       0.912500  1.000000\n",
       "0.556       0.693056  1.000000\n",
       "0.694       0.598611  0.998611"
      ]
     },
     "execution_count": 32,
     "metadata": {},
     "output_type": "execute_result"
    }
   ],
   "source": [
    "latent_separation_df.pivot_table(index='model_name', columns='type', values='accuracy')"
   ]
  },
  {
   "cell_type": "code",
   "execution_count": 33,
   "metadata": {},
   "outputs": [],
   "source": [
    "import os\n",
    "import numpy as np\n",
    "import pandas as pd\n",
    "from scipy.spatial.distance import pdist, squareform\n",
    "\n",
    "categoricality_df = pd.DataFrame(columns=['model_name', 'type', 'categoricality'])\n",
    "\n",
    "# use latents to predict labels by training a logistic regression model\n",
    "# calculate accuracy of the model\n",
    "\n",
    "fnames = os.listdir(os.path.join(save_dir,'latents_self_talk', 'before'))\n",
    "\n",
    "for type in ['before', 'after']:\n",
    "    for fname in fnames:\n",
    "        latent_df = pd.read_csv(os.path.join(save_dir,'latents_self_talk', type, fname), index_col=0)\n",
    "        latent_df.sort_index()\n",
    "        latent_df = latent_df.sample(frac=1)\n",
    "        latent_df = latent_df.reset_index(drop=True)\n",
    "        labels = latent_df.index\n",
    "        latent_df = latent_df.to_numpy()\n",
    "        dist = pdist(latent_df)\n",
    "        blocksize = 120\n",
    "        block_diag = np.zeros((720,720))\n",
    "        for l in range(4):\n",
    "            block_diag[l*blocksize:(l+1)*blocksize,l*blocksize:(l+1)*blocksize] = 1\n",
    "\n",
    "        ### mask distA with block_diag\n",
    "        within_dist = squareform(dist)*block_diag\n",
    "        between_dist = squareform(dist)*(1-block_diag)\n",
    "\n",
    "        categoricality = np.log(np.mean(between_dist)/np.mean(within_dist))\n",
    "        categoricality_df = pd.concat([categoricality_df, pd.DataFrame([[fname.split('.csv')[0], type, categoricality]], columns=['model_name', 'type', 'categoricality'])], ignore_index=True)"
   ]
  },
  {
   "cell_type": "code",
   "execution_count": 34,
   "metadata": {},
   "outputs": [
    {
     "data": {
      "text/plain": [
       "<matplotlib.axes._subplots.AxesSubplot at 0x7f08e3441550>"
      ]
     },
     "execution_count": 34,
     "metadata": {},
     "output_type": "execute_result"
    },
    {
     "data": {
      "image/png": "[encoded data removed]",
      "text/plain": [
       "<Figure size 2000x1000 with 1 Axes>"
      ]
     },
     "metadata": {},
     "output_type": "display_data"
    }
   ],
   "source": [
    "categoricality_df.pivot_table(index='model_name', columns='type', values='categoricality')[['before', 'after']].plot(kind='bar', figsize=(10, 5), title='Categoricality')"
   ]
  },
  {
   "cell_type": "markdown",
   "metadata": {},
   "source": [
    "## "
   ]
  }
 ],
 "metadata": {
  "kernelspec": {
   "display_name": "vision",
   "language": "python",
   "name": "python3"
  },
  "language_info": {
   "codemirror_mode": {
    "name": "ipython",
    "version": 3
   },
   "file_extension": ".py",
   "mimetype": "text/x-python",
   "name": "python",
   "nbconvert_exporter": "python",
   "pygments_lexer": "ipython3",
   "version": "3.8.18"
  },
  "orig_nbformat": 4,
  "vscode": {
   "interpreter": {
    "hash": "c5ec221b8ce1ddc6eafacfbc77a75e3f09c9fea6e76ac8503f9810425480e77e"
   }
  }
 },
 "nbformat": 4,
 "nbformat_minor": 2
}
