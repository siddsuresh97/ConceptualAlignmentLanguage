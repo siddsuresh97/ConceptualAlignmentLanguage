{
 "cells": [
  {
   "cell_type": "code",
   "execution_count": 1,
   "metadata": {},
   "outputs": [],
   "source": [
    "import os\n",
    "base_dir = os.path.abspath('../..')\n",
    "save_dir = os.path.join(base_dir,'results')\n",
    "data_dir = os.path.join(base_dir,'data')"
   ]
  },
  {
   "cell_type": "code",
   "execution_count": 2,
   "metadata": {},
   "outputs": [],
   "source": [
    "import torch\n",
    "# torch.manual_seed(0)\n",
    "import wandb\n",
    "import os\n",
    "import torch.nn as nn\n",
    "import torch.nn.functional as F\n",
    "import torch.utils\n",
    "import torch.distributions\n",
    "from torch.utils.data import TensorDataset,Dataset\n",
    "from torch.utils.data.sampler import SubsetRandomSampler\n",
    "from torchvision.transforms import Resize\n",
    "\n",
    "import torchvision\n",
    "from tqdm import tqdm\n",
    "import random\n",
    "import numpy as np\n",
    "import matplotlib.pyplot as plt; plt.rcParams['figure.dpi'] = 200\n",
    "\n",
    "\n",
    "from sklearn import linear_model\n",
    "from sklearn.preprocessing import StandardScaler\n",
    "\n",
    "# from neurora.rdm_corr import rdm_correlation_spearman"
   ]
  },
  {
   "cell_type": "code",
   "execution_count": 3,
   "metadata": {},
   "outputs": [],
   "source": [
    "device = 'cuda' if torch.cuda.is_available() else 'cpu'"
   ]
  },
  {
   "attachments": {},
   "cell_type": "markdown",
   "metadata": {},
   "source": [
    "## Define model"
   ]
  },
  {
   "cell_type": "code",
   "execution_count": 4,
   "metadata": {},
   "outputs": [],
   "source": [
    "class TripletLabelModel(nn.Module):\n",
    "    def __init__(self, encoded_space_dim=64, num_classes=10):\n",
    "        super().__init__()\n",
    "        \"\"\n",
    "        ### Convolutional section\n",
    "       ### Convolutional section\n",
    "        self.encoder_cnn = nn.Sequential(\n",
    "            nn.Conv2d(3, 8, 3, stride=2, padding=1),\n",
    "            nn.ReLU(True),\n",
    "            nn.Conv2d(8, 16, 3, stride=2, padding=1),\n",
    "            nn.BatchNorm2d(16),\n",
    "            nn.ReLU(True),\n",
    "            nn.Conv2d(16, 32, 3, stride=2, padding=1),\n",
    "            nn.ReLU(True),\n",
    "            nn.MaxPool2d(kernel_size=2, stride=2),\n",
    "        )\n",
    "        \n",
    "    \n",
    "        ### Flatten layer\n",
    "        self.flatten = nn.Flatten(start_dim=1)\n",
    "        ### Linear section\n",
    "        ## changed 32*4*4 to 32*2*2\n",
    "        self.encoder_lin = nn.Sequential(\n",
    "            nn.Linear(32*2*2, 256),\n",
    "            nn.BatchNorm1d(256),\n",
    "            nn.ReLU(True),\n",
    "            nn.Linear(256, 128),\n",
    "            nn.BatchNorm1d(128),\n",
    "            nn.ReLU(True),\n",
    "            nn.Linear(128, encoded_space_dim)\n",
    "        )\n",
    "\n",
    "        ## triplet projection module\n",
    "        self.decoder_triplet_lin = nn.Sequential(\n",
    "            nn.Linear(encoded_space_dim, 32),\n",
    "            nn.ReLU(True)\n",
    "         \n",
    "        )\n",
    "        ##labeling module\n",
    "        self.decoder_labels_lin = nn.Sequential(\n",
    "            nn.Linear(encoded_space_dim, 32),\n",
    "            nn.ReLU(True),\n",
    "            nn.Linear(32, 16),\n",
    "            nn.ReLU(True),\n",
    "            nn.Linear(16, num_classes),\n",
    "        )\n",
    "\n",
    "        ### initialize weights using xavier initialization\n",
    "        for m in self.modules():\n",
    "            if isinstance(m, nn.Conv2d):\n",
    "                nn.init.xavier_uniform_(m.weight)\n",
    "                if m.bias is not None:\n",
    "                    nn.init.constant_(m.bias, 0)\n",
    "            elif isinstance(m, nn.BatchNorm2d):\n",
    "                nn.init.constant_(m.weight, 1)\n",
    "                nn.init.constant_(m.bias, 0)\n",
    "            elif isinstance(m, nn.Linear):\n",
    "                nn.init.xavier_uniform_(m.weight)\n",
    "                nn.init.constant_(m.bias, 0)\n",
    "    \n",
    "        \n",
    "    def forward(self, x, y=None):\n",
    "        batch_s = x.size(0)\n",
    "        img_features = self.encoder_cnn(x)\n",
    "        img_features = self.flatten(img_features)\n",
    "        \n",
    "        enc_latent = self.encoder_lin(img_features)\n",
    "\n",
    "        triplet_latent = self.decoder_triplet_lin(enc_latent)\n",
    "        label = self.decoder_labels_lin(enc_latent)\n",
    "        # label = F.softmax(label,dim=1)\n",
    "        return enc_latent, label"
   ]
  },
  {
   "cell_type": "code",
   "execution_count": 5,
   "metadata": {},
   "outputs": [],
   "source": [
    "### custom loss computing triplet loss and labeling loss\n",
    "\n",
    "\n",
    "class CustomLoss(nn.Module):\n",
    "    def __init__(self, margin=10):\n",
    "        super(CustomLoss, self).__init__()\n",
    "        self.margin = margin\n",
    "        self.cross_entropy = nn.CrossEntropyLoss()\n",
    "\n",
    "    def forward(self, anchor, positive, negative, label, pred_label):\n",
    "        cosine_sim = torch.nn.CosineSimilarity(1)\n",
    "        # distance_positive = torch.tensor(1)-cosine_sim(anchor,positive)\n",
    "   \n",
    "        # distance_negative = torch.tensor(1)-cosine_sim(anchor,negative)\n",
    "\n",
    "        # triplet_loss = torch.maximum(distance_positive - distance_negative + self.margin, torch.tensor(0))\n",
    "        # triplet_loss = torch.sum(triplet_loss)\n",
    "        triplet_loss = (nn.TripletMarginWithDistanceLoss( distance_function=lambda x, y: 1.0 - F.cosine_similarity(x, y)))\n",
    "        triplet_loss = triplet_loss(anchor, positive, negative)\n",
    "        label_loss = F.binary_cross_entropy_with_logits(pred_label.float(), label.float())\n",
    "        total_loss = triplet_loss + label_loss\n",
    "        return triplet_loss, label_loss, total_loss"
   ]
  },
  {
   "cell_type": "code",
   "execution_count": 6,
   "metadata": {},
   "outputs": [
    {
     "data": {
      "text/plain": [
       "<All keys matched successfully>"
      ]
     },
     "execution_count": 6,
     "metadata": {},
     "output_type": "execute_result"
    }
   ],
   "source": [
    "t = TripletLabelModel()\n",
    "cifar_model_path = '../../data/CIFAR10_NCE_i_1e-05_50.pth'\n",
    "t.load_state_dict(torch.load(cifar_model_path))\n",
    "\n"
   ]
  },
  {
   "attachments": {},
   "cell_type": "markdown",
   "metadata": {},
   "source": [
    "### Training functions"
   ]
  },
  {
   "cell_type": "code",
   "execution_count": 7,
   "metadata": {},
   "outputs": [],
   "source": [
    "\n",
    "\n",
    "class TrainModels(nn.Module):\n",
    "    def __init__(self, latent_dims, num_classes):\n",
    "        super(TrainModels, self).__init__()\n",
    "        self.triplet_lab_model = TripletLabelModel(latent_dims, 10) ### load cifar model\n",
    "        cifar_model_path = '../../data/CIFAR10_NCE_i_1e-05_50.pth'\n",
    "        self.triplet_lab_model.load_state_dict(torch.load(cifar_model_path))\n",
    "        self.triplet_lab_model.decoder_labels_lin[4] = nn.Linear(16, num_classes)\n",
    "        self.custom_loss = CustomLoss()\n",
    "        self.num_classes = num_classes\n",
    "    \n",
    "    def forward(self, anchor_im, positive_im, negative_im):\n",
    "        anchor_latent, anchor_label = self.triplet_lab_model(anchor_im)\n",
    "        positive_latent, _ = self.triplet_lab_model(positive_im)\n",
    "        negative_latent, _ = self.triplet_lab_model(negative_im)\n",
    "\n",
    "        return anchor_latent, positive_latent, negative_latent, anchor_label\n",
    "\n",
    "    def test_epoch(self, test_data):\n",
    "    # Set evaluation mode for encoder and decoder\n",
    "        self.eval()\n",
    "        with torch.no_grad(): # No need to track the gradients\n",
    "            # Define the lists to store the outputs for each batch\n",
    "            test_triplet_loss = []\n",
    "            test_label_loss = []\n",
    "            test_total_loss = []\n",
    "            total = 0\n",
    "            correct = 0\n",
    "            for anchor_ims, contrast_ims, labels in test_data:\n",
    "                # Move tensor to the proper device\n",
    "                anchor_ims = anchor_ims.to(device)\n",
    "                contrast_ims = contrast_ims.to(device)\n",
    "                labels = F.one_hot(labels, num_classes=self.num_classes)\n",
    "                labels = labels.to(device)\n",
    "                anchor_latent, positive_latent, negative_latent, pred_label = self.forward(anchor_ims, anchor_ims,contrast_ims) \n",
    "                # Append the network output and the original image to the lists\n",
    "                triplet_loss, label_loss, total_loss = self.custom_loss(anchor_latent,\n",
    "                                                                positive_latent, \n",
    "                                                                negative_latent, \n",
    "                                                                labels,\n",
    "                                                                pred_label)\n",
    "                total += labels.size(0)\n",
    "                correct += (torch.argmax(pred_label, dim = 1) == torch.argmax(labels, dim = 1)).sum().item()\n",
    "                test_triplet_loss.append(triplet_loss.item())\n",
    "                test_label_loss.append(label_loss.item())\n",
    "                test_total_loss.append(total_loss.item())\n",
    "        test_triplet_loss = sum(test_triplet_loss)/len(test_triplet_loss)\n",
    "        test_label_loss = sum(test_label_loss)/len(test_label_loss)\n",
    "        test_total_loss = sum(test_total_loss)/len(test_total_loss)\n",
    "        test_accuracy = correct/total\n",
    "        return test_triplet_loss, test_label_loss, test_total_loss, test_accuracy\n",
    "\n",
    "    def test_epoch_calculate_representation_separation(self, test_data):\n",
    "    # Set evaluation mode for encoder and decoder\n",
    "        self.eval()\n",
    "        with torch.no_grad(): # No need to track the gradients\n",
    "            accuracies = []\n",
    "            for anchor_ims, contrast_ims, labels in test_data:\n",
    "                # Move tensor to the proper device\n",
    "                anchor_ims = anchor_ims.to(device)\n",
    "                contrast_ims = contrast_ims.to(device)\n",
    "                # labels = F.one_hot(labels, num_classes=self.num_classes)\n",
    "                # labels = labels.to(device)\n",
    "                anchor_latent, _, _, _ = self.forward(anchor_ims, anchor_ims,contrast_ims) \n",
    "                # use sklearn to predict labels from anchor_latent\n",
    "                # calculate accuracy\n",
    "                # x's are anchor_latent and y's are labels\n",
    "                # append accuracy to list\n",
    "                # put anchor_latent and labels on cpu and convert to numpy\n",
    "\n",
    "          \n",
    "                anchor_latent = anchor_latent.cpu().numpy()\n",
    "                ### standard scale the data in anchor_latent before fitting to the model\n",
    "                anchor_latent = StandardScaler().fit_transform(anchor_latent)\n",
    "                labels = labels.cpu().numpy()\n",
    "                \n",
    "                lm = linear_model.LogisticRegression()\n",
    "                lm.fit(anchor_latent, labels)\n",
    "                # convert labels to sklearn format\n",
    "                accuracies.append(lm.score(anchor_latent, labels))\n",
    "        accuracy = sum(accuracies)/len(accuracies)\n",
    "        return accuracy\n",
    "\n",
    "    def train_epoch(self, train_data, optimizer, train_mode):\n",
    "        self.train()\n",
    "        train_triplet_loss = []\n",
    "        train_label_loss = []\n",
    "        train_total_loss = []\n",
    "        correct = 0\n",
    "        total = 0\n",
    "        for anchor_ims, contrast_ims, labels in train_data:\n",
    "            \n",
    "            anchor_ims = anchor_ims.to(device)\n",
    "            contrast_ims = contrast_ims.to(device)\n",
    "            labels = F.one_hot(labels, num_classes=self.num_classes)\n",
    "            labels = labels.to(device)\n",
    "\n",
    "            optimizer.zero_grad()\n",
    "            anchor_latent, positive_latent, negative_latent, pred_label = self.forward(anchor_ims, anchor_ims,contrast_ims) \n",
    "           \n",
    "           \n",
    "           \n",
    "            triplet_loss, label_loss, total_loss = self.custom_loss(anchor_latent,\n",
    "                                                                positive_latent, \n",
    "                                                                negative_latent, \n",
    "                                                                labels,\n",
    "                                                                pred_label)\n",
    "            \n",
    "            \n",
    "            if train_mode==0:\n",
    "                triplet_loss.backward()\n",
    "            elif train_mode==1:\n",
    "                label_loss.backward()\n",
    "            elif train_mode==2:\n",
    "                total_loss.backward()\n",
    "\n",
    "            optimizer.step()\n",
    "            train_triplet_loss.append(triplet_loss.item())\n",
    "            train_label_loss.append(label_loss.item())\n",
    "            train_total_loss.append(total_loss.item())\n",
    "            total += labels.size(0)\n",
    "            correct += (torch.argmax(pred_label, dim = 1) == torch.argmax(labels, dim = 1)).sum().item()\n",
    "        train_triplet_loss = sum(train_triplet_loss)/len(train_triplet_loss)\n",
    "        train_label_loss = sum(train_label_loss)/len(train_label_loss)\n",
    "        train_total_loss = sum(train_total_loss)/len(train_total_loss)\n",
    "        train_accuracy = correct/total\n",
    "        return train_triplet_loss, train_label_loss, train_total_loss, train_accuracy\n",
    "\n",
    "    def training_loop(self, train_data, test_data,train_mode,\n",
    "                      epochs, optimizer):\n",
    "        train_losses = []\n",
    "        val_losses = []\n",
    "        train_triplet_losses = []\n",
    "        val_triplet_losses = []\n",
    "        train_label_losses = []\n",
    "        val_label_losses = []\n",
    "        train_accuracies = []\n",
    "        val_accuracies = []\n",
    "        latent_separation_accuracy = 0\n",
    "        for epoch in tqdm(range(epochs)):\n",
    "          train_triplet_loss, train_label_loss, train_total_loss, train_accuracy =self.train_epoch(train_data, optimizer, \n",
    "                                             train_mode)\n",
    "          test_triplet_loss, test_label_loss, test_total_loss, test_accuracy = self.test_epoch(test_data)\n",
    "          separation_accuracy = self.test_epoch_calculate_representation_separation(test_data)\n",
    "          train_losses.append(train_total_loss)\n",
    "          val_losses.append(test_total_loss)\n",
    "          train_triplet_losses.append(train_triplet_loss)\n",
    "          val_triplet_losses.append(test_triplet_loss)\n",
    "          train_label_losses.append(train_label_loss)\n",
    "          val_label_losses.append(test_label_loss)\n",
    "          train_accuracies.append(train_accuracy)\n",
    "          val_accuracies.append(test_accuracy)\n",
    "          wandb.log({\"train triplet loss\": train_triplet_loss, \n",
    "            \"train label loss\":train_label_loss, \n",
    "            \"validation triplet loss\":test_triplet_loss, \n",
    "            \"validation label loss\":test_label_loss, \n",
    "            \"total train loss\":train_total_loss, \n",
    "            \"total validation loss\":test_total_loss, \n",
    "            \"train label accuracy\":train_accuracy, \n",
    "            \"validation label accuracy\":test_accuracy,\n",
    "            'latent separation accuracy':separation_accuracy})\n",
    "        return train_triplet_losses, train_label_losses, val_triplet_losses, val_label_losses ,train_losses, val_losses, train_accuracies, val_accuracies\n"
   ]
  },
  {
   "cell_type": "code",
   "execution_count": 8,
   "metadata": {},
   "outputs": [],
   "source": [
    "set_A_ims = np.load(os.path.join(data_dir, 'set_A.npy'))\n",
    "set_B_ims = np.load(os.path.join(data_dir, 'set_B.npy'))\n",
    "set_C_ims = np.load(os.path.join(data_dir, 'set_C.npy'))\n",
    "set_A_labs = np.load(os.path.join(data_dir, 'set_A_labs.npy'))\n",
    "set_B_labs = np.load(os.path.join(data_dir, 'set_B_labs.npy'))\n",
    "set_C_labs = np.load(os.path.join(data_dir, 'set_C_labs.npy'))\n"
   ]
  },
  {
   "cell_type": "code",
   "execution_count": 9,
   "metadata": {},
   "outputs": [],
   "source": [
    "# 40:60\n"
   ]
  },
  {
   "cell_type": "code",
   "execution_count": 10,
   "metadata": {},
   "outputs": [],
   "source": [
    "\n",
    "set_A_sub_ims =[]\n",
    "set_B_sub_ims =[]\n",
    "set_C_sub_ims =[]\n",
    "\n",
    "set_A_sub_labs =[]\n",
    "set_B_sub_labs =[]\n",
    "set_C_sub_labs =[]\n",
    "\n",
    "\n",
    "for i in range (4):\n",
    "    sub_main = set_A_ims[i*600:(i*600)+600]\n",
    "    labels_main = set_A_labs[i*600:(i*600)+600]\n",
    "    np.random.seed(711)\n",
    "    np.random.shuffle(sub_main)\n",
    "    np.random.seed(711)\n",
    "    np.random.shuffle(labels_main)\n",
    "\n",
    "    set_A_sub_ims.append(sub_main[:30])\n",
    "    set_B_sub_ims.append(sub_main[:15])\n",
    "    set_B_sub_ims.append(sub_main[30:45])\n",
    "    set_C_sub_ims.append(sub_main[35:65])\n",
    "\n",
    "    set_A_sub_labs.append(labels_main[:30])\n",
    "    set_B_sub_labs.append(labels_main[:15])\n",
    "    set_B_sub_labs.append(labels_main[30:45])\n",
    "    set_C_sub_labs.append(labels_main[35:65])\n",
    "\n",
    "\n",
    "    \n",
    "\n",
    "\n",
    "\n",
    "\n",
    "##flatten set_A_sub_ims into an array of shape 120,64,64,3\n",
    "set_A_sub_ims = np.concatenate(set_A_sub_ims)\n",
    "set_B_sub_ims = np.concatenate(set_B_sub_ims)\n",
    "set_C_sub_ims = np.concatenate(set_C_sub_ims)\n",
    "\n",
    "set_A_sub_labs = np.concatenate(set_A_sub_labs)\n",
    "set_B_sub_labs = np.concatenate(set_B_sub_labs)\n",
    "set_C_sub_labs = np.concatenate(set_C_sub_labs)\n"
   ]
  },
  {
   "cell_type": "markdown",
   "metadata": {},
   "source": [
    "A-B: 50% \\\n",
    "A-C: 0% \\\n",
    "B-C: 33.33%"
   ]
  },
  {
   "cell_type": "code",
   "execution_count": null,
   "metadata": {},
   "outputs": [],
   "source": []
  },
  {
   "cell_type": "code",
   "execution_count": 11,
   "metadata": {},
   "outputs": [],
   "source": [
    "\n",
    "###initialize weights and bias tracking\n",
    "def wandb_init(epochs, lr, train_mode, batch_size, model_number,data_set):\n",
    "  wandb.init(project=\"ConceptualAlignment2023\", entity=\"psych-711\",settings=wandb.Settings(start_method=\"thread\"))\n",
    "  wandb.config = {\n",
    "    \"learning_rate\": lr,\n",
    "    \"epochs\": epochs,\n",
    "    \"batch_size\": batch_size, \n",
    "    # \"label_ratio\":label_ratio, \n",
    "    \"model_number\": model_number,\n",
    "    \"dataset\": data_set,\n",
    "    \"train_mode\":train_mode,\n",
    "  }\n",
    "  train_mode_dict = {0:'triplet', 1:'label', 2:'label_and_triplet'}\n",
    "  wandb.run.name = f'{data_set}_{train_mode_dict[train_mode]}_{model_number}'\n",
    "  wandb.run.save()\n",
    "     "
   ]
  },
  {
   "cell_type": "code",
   "execution_count": 12,
   "metadata": {},
   "outputs": [],
   "source": [
    "\n",
    "def main_code(save_dir, num_models, epochs, num_classes, batch_size,\n",
    "             lr, latent_dims):\n",
    "  if os.path.isdir(save_dir):\n",
    "    pass\n",
    "  else:\n",
    "    os.mkdir(save_dir)\n",
    "\n",
    "\n",
    "  # test_intervals = [(540, 600), (1140, 1200), (1740, 1800), (2340, 2400)]\n",
    "  test_intervals = [(25, 30), (55, 60), (85, 90), (115, 120)]\n",
    "  # initialize an empty list to hold the indices\n",
    "  val_indices = []\n",
    "\n",
    "  # loop through the intervals and append the indices to the list\n",
    "  for start, stop in test_intervals:\n",
    "      val_indices.extend(list(range(start, stop)))\n",
    "\n",
    "  # train_indices = (np.setdiff1d(np.arange(2400),np.array(val_indices)))\n",
    "  train_indices = (np.setdiff1d(np.arange(120),np.array(val_indices)))\n",
    "\n",
    "  # np.random.seed(56)\n",
    "  # contrast_indices  = np.concatenate((np.random.choice(np.arange(start=600, stop=2400), 600, replace=False),\n",
    "  #               np.random.choice(np.concatenate((np.arange(start=0, stop=600), np.arange(start=1200, stop=2400))), 600, replace=False),\n",
    "  #               np.random.choice(np.concatenate((np.arange(start=0, stop=1200), np.arange(start=1800, stop=2400))), 600, replace=False),\n",
    "  #               np.random.choice(np.arange(start=1800, stop=2400), 600, replace=False)))\n",
    "  contrast_indices  = np.concatenate((np.random.choice(np.arange(start=30, stop=120), 30, replace=False),\n",
    "                np.random.choice(np.concatenate((np.arange(start=0, stop=30), np.arange(start=60, stop=120))), 30, replace=False),\n",
    "                np.random.choice(np.concatenate((np.arange(start=0, stop=60), np.arange(start=90, stop=120))), 30, replace=False),\n",
    "                np.random.choice(np.arange(start=0, stop=90), 30, replace=False)))\n",
    "\n",
    "  for data_set in ['set_A','set_A2','set_B','set_C']:\n",
    "    for train_mode in tqdm(range(3)):\n",
    "     # torch.manual_seed(0)\n",
    "      for model in range(num_models):\n",
    "        wandb_init(epochs, lr, train_mode, batch_size, model,data_set)\n",
    "\n",
    "        # if data_set=='set_A':\n",
    "        #   train_data = TensorDataset(Resize(32)(torch.tensor(set_A_ims.transpose(0,3,1,2)/255).float()), Resize(32)(torch.tensor(set_A_ims[contrast_indices].transpose(0,3,1,2)/255).float()),\\\n",
    "        #                              torch.tensor(set_A_labs).to(torch.int64))\n",
    "        # elif data_set=='set_B':\n",
    "        #   train_data = TensorDataset(Resize(32)(torch.tensor(set_B_ims.transpose(0,3,1,2)/255).float()), Resize(32)(torch.tensor(set_B_ims[contrast_indices].transpose(0,3,1,2)/255).float()),\\\n",
    "        #                              torch.tensor(set_B_labs).to(torch.int64))\n",
    "        # elif data_set=='set_C':\n",
    "        #   train_data = TensorDataset(Resize(32)(torch.tensor(set_C_ims.transpose(0,3,1,2)/255).float()), Resize(32)(torch.tensor(set_C_ims[contrast_indices].transpose(0,3,1,2)/255).float()),\\\n",
    "        #                              torch.tensor(set_C_labs).to(torch.int64))\n",
    "        if data_set=='set_A2':\n",
    "          train_data = TensorDataset(Resize(32)(torch.tensor(set_A_sub_ims.transpose(0,3,1,2)/255).float()), Resize(32)(torch.tensor(set_A_sub_ims[contrast_indices].transpose(0,3,1,2)/255).float()),\\\n",
    "                                     torch.tensor(set_A_sub_labs).to(torch.int64))\n",
    "        if data_set=='set_A':\n",
    "          train_data = TensorDataset(Resize(32)(torch.tensor(set_A_sub_ims.transpose(0,3,1,2)/255).float()), Resize(32)(torch.tensor(set_A_sub_ims[contrast_indices].transpose(0,3,1,2)/255).float()),\\\n",
    "                                     torch.tensor(set_A_sub_labs).to(torch.int64))\n",
    "        elif data_set=='set_B':\n",
    "          train_data = TensorDataset(Resize(32)(torch.tensor(set_B_sub_ims.transpose(0,3,1,2)/255).float()), Resize(32)(torch.tensor(set_B_sub_ims[contrast_indices].transpose(0,3,1,2)/255).float()),\\\n",
    "                                     torch.tensor(set_B_sub_labs).to(torch.int64))\n",
    "        elif data_set=='set_C':\n",
    "          train_data = TensorDataset(Resize(32)(torch.tensor(set_C_sub_ims.transpose(0,3,1,2)/255).float()), Resize(32)(torch.tensor(set_C_sub_ims[contrast_indices].transpose(0,3,1,2)/255).float()),\\\n",
    "                                     torch.tensor(set_C_sub_labs).to(torch.int64))\n",
    "          \n",
    "        val_data = torch.utils.data.Subset(train_data, val_indices)\n",
    "        train_data = torch.utils.data.Subset(train_data, train_indices)\n",
    "       \n",
    "\n",
    "        train_data = torch.utils.data.DataLoader(train_data, \n",
    "                                                batch_size=batch_size,\n",
    "                                              shuffle=True)\n",
    "        val_data = torch.utils.data.DataLoader(val_data, \n",
    "                                                batch_size=batch_size,\n",
    "                                              shuffle=True)\n",
    "        \n",
    "     \n",
    "\n",
    "        train_obj = TrainModels(latent_dims, num_classes).to(device) # GPU\n",
    "        optimizer = torch.optim.Adam(train_obj.parameters(), lr=lr, weight_decay=1e-05)\n",
    "        train_triplet_losses, train_label_losses, \\\n",
    "          val_triplet_losses, val_label_losses, \\\n",
    "            train_losses, val_losses, train_accuracies, val_accuracies= train_obj.training_loop(train_data = train_data,\n",
    "                                                            test_data = val_data,\n",
    "                                                            epochs = epochs,\n",
    "                                                            optimizer = optimizer, \n",
    "                                                            train_mode = train_mode)\n",
    "\n",
    "\n",
    "\n",
    "\n",
    "        print('validation triplet loss:',val_triplet_losses,'validation total loss:',val_losses,'validation accuracy:',val_accuracies)\n",
    "        # wandb.log({\"train_img_loss\": train_img_loss, \n",
    "        #           \"train_label_loss\":train_label_loss, \n",
    "        #           \"val_img_loss\":val_img_loss, \n",
    "        #           \"val_label_loss\":val_label_loss, \n",
    "        #           \"train_losses\":train_losses, \n",
    "        #           \"val_losses\":val_losses, \n",
    "        #           \"train_accuracy\":train_accuracy, \n",
    "        #           \"val_accuracy\":val_accuracy})\n",
    "        train_mode_dict = {0:'triplet', 1:'label',2:'label_and_triplet' }\n",
    "        torch.save(train_obj.triplet_lab_model.state_dict(), os.path.join(save_dir,f'{data_set}_{train_mode_dict[train_mode]}_{model}.pth'))\n",
    "        \n",
    "        \n",
    "\n"
   ]
  },
  {
   "cell_type": "code",
   "execution_count": 14,
   "metadata": {},
   "outputs": [
    {
     "name": "stderr",
     "output_type": "stream",
     "text": [
      "  0%|          | 0/3 [00:00<?, ?it/s]"
     ]
    },
    {
     "data": {
      "text/html": [
       "wandb version 0.15.12 is available!  To upgrade, please run:\n",
       " $ pip install wandb --upgrade"
      ],
      "text/plain": [
       "<IPython.core.display.HTML object>"
      ]
     },
     "metadata": {},
     "output_type": "display_data"
    },
    {
     "data": {
      "text/html": [
       "Tracking run with wandb version 0.14.2"
      ],
      "text/plain": [
       "<IPython.core.display.HTML object>"
      ]
     },
     "metadata": {},
     "output_type": "display_data"
    },
    {
     "data": {
      "text/html": [
       "Run data is saved locally in <code>/mnt/home/kmukherjee/repos/ConceptualAlignmentLanguage/code/python/wandb/run-20231005_175452-gi69s1px</code>"
      ],
      "text/plain": [
       "<IPython.core.display.HTML object>"
      ]
     },
     "metadata": {},
     "output_type": "display_data"
    },
    {
     "data": {
      "text/html": [
       "Syncing run <strong><a href='https://wandb.ai/psych-711/ConceptualAlignment2023/runs/gi69s1px' target=\"_blank\">ruby-deluge-309</a></strong> to <a href='https://wandb.ai/psych-711/ConceptualAlignment2023' target=\"_blank\">Weights & Biases</a> (<a href='https://wandb.me/run' target=\"_blank\">docs</a>)<br/>"
      ],
      "text/plain": [
       "<IPython.core.display.HTML object>"
      ]
     },
     "metadata": {},
     "output_type": "display_data"
    },
    {
     "data": {
      "text/html": [
       " View project at <a href='https://wandb.ai/psych-711/ConceptualAlignment2023' target=\"_blank\">https://wandb.ai/psych-711/ConceptualAlignment2023</a>"
      ],
      "text/plain": [
       "<IPython.core.display.HTML object>"
      ]
     },
     "metadata": {},
     "output_type": "display_data"
    },
    {
     "data": {
      "text/html": [
       " View run at <a href='https://wandb.ai/psych-711/ConceptualAlignment2023/runs/gi69s1px' target=\"_blank\">https://wandb.ai/psych-711/ConceptualAlignment2023/runs/gi69s1px</a>"
      ],
      "text/plain": [
       "<IPython.core.display.HTML object>"
      ]
     },
     "metadata": {},
     "output_type": "display_data"
    },
    {
     "name": "stderr",
     "output_type": "stream",
     "text": [
      "100%|██████████| 100/100 [00:02<00:00, 46.53it/s]\n",
      " 33%|███▎      | 1/3 [00:05<00:10,  5.20s/it]"
     ]
    },
    {
     "name": "stdout",
     "output_type": "stream",
     "text": [
      "validation triplet loss: [0.6818105578422546, 0.6945065855979919, 0.7384428381919861, 0.7682855725288391, 0.7543907761573792, 0.7349690794944763, 0.7209817171096802, 0.7034502029418945, 0.6808484196662903, 0.6503985524177551, 0.6285585761070251, 0.6080136299133301, 0.5786609649658203, 0.5489876866340637, 0.5118468403816223, 0.4572831094264984, 0.4120670258998871, 0.3707275986671448, 0.31754836440086365, 0.28708702325820923, 0.2624299228191376, 0.23523736000061035, 0.21608467400074005, 0.20106564462184906, 0.1883573681116104, 0.19404922425746918, 0.19796526432037354, 0.1985437124967575, 0.20289981365203857, 0.1997726708650589, 0.19463478028774261, 0.19073167443275452, 0.18645299971103668, 0.1826697438955307, 0.18208113312721252, 0.17807899415493011, 0.17479704320430756, 0.17248325049877167, 0.17956936359405518, 0.16302835941314697, 0.16052086651325226, 0.15680108964443207, 0.1515960544347763, 0.14651727676391602, 0.14259541034698486, 0.14486202597618103, 0.14502394199371338, 0.14079953730106354, 0.13919779658317566, 0.13819937407970428, 0.13717065751552582, 0.13965998589992523, 0.14184284210205078, 0.14105580747127533, 0.13996759057044983, 0.13941437005996704, 0.13945209980010986, 0.14000160992145538, 0.140402153134346, 0.14019644260406494, 0.139984592795372, 0.1385621726512909, 0.13735494017601013, 0.13667088747024536, 0.1360708773136139, 0.139677956700325, 0.14260981976985931, 0.14322824776172638, 0.14401410520076752, 0.14365404844284058, 0.14297924935817719, 0.13858896493911743, 0.13594059646129608, 0.13498704135417938, 0.13402442634105682, 0.13293258845806122, 0.13150638341903687, 0.1299804002046585, 0.12836530804634094, 0.12693487107753754, 0.13077594339847565, 0.13852740824222565, 0.14760935306549072, 0.15571501851081848, 0.16084741055965424, 0.16337263584136963, 0.16725601255893707, 0.16937945783138275, 0.1704421490430832, 0.17073707282543182, 0.16990715265274048, 0.1718178391456604, 0.1735793799161911, 0.17521069943904877, 0.17625181376934052, 0.17666950821876526, 0.17655883729457855, 0.17053718864917755, 0.16444207727909088, 0.16046810150146484] validation total loss: [1.3790560960769653, 1.4002816677093506, 1.4505949020385742, 1.492203950881958, 1.4988605976104736, 1.4848687648773193, 1.4821844100952148, 1.4682190418243408, 1.4511339664459229, 1.4195199012756348, 1.394160509109497, 1.369389533996582, 1.3387160301208496, 1.31162691116333, 1.2717361450195312, 1.203822135925293, 1.1502912044525146, 1.102687120437622, 1.044456124305725, 1.0108368396759033, 0.9805887937545776, 0.9491271376609802, 0.9274484515190125, 0.9115567207336426, 0.8995432257652283, 0.9053624272346497, 0.9091396927833557, 0.9096764326095581, 0.9141514301300049, 0.9095863103866577, 0.9035128355026245, 0.8987689018249512, 0.8931195735931396, 0.8885176777839661, 0.8871234655380249, 0.8829560279846191, 0.8787661194801331, 0.8752521872520447, 0.8814097046852112, 0.8640173077583313, 0.8617784380912781, 0.8589509725570679, 0.85451740026474, 0.8501724600791931, 0.8468143343925476, 0.8523123264312744, 0.8547141551971436, 0.8513002991676331, 0.8492017984390259, 0.8472248911857605, 0.8446425795555115, 0.8459893465042114, 0.8474701046943665, 0.8462674021720886, 0.8448352813720703, 0.8438866138458252, 0.8435332179069519, 0.8437036871910095, 0.8440136313438416, 0.8439294099807739, 0.8438729047775269, 0.8434926271438599, 0.8429688215255737, 0.8428733348846436, 0.8424493074417114, 0.8459445834159851, 0.8488457202911377, 0.8497506976127625, 0.8504343032836914, 0.8496766090393066, 0.8486325740814209, 0.8434009552001953, 0.8396804332733154, 0.837893009185791, 0.8364065289497375, 0.8349724411964417, 0.8333181142807007, 0.8317212462425232, 0.8301323652267456, 0.8288238048553467, 0.8291497230529785, 0.8355767130851746, 0.8449593782424927, 0.8528038263320923, 0.8575723767280579, 0.8598155379295349, 0.8630977869033813, 0.8655064105987549, 0.8669462203979492, 0.8672175407409668, 0.8662151098251343, 0.8678197860717773, 0.8693105578422546, 0.8706521391868591, 0.8714557886123657, 0.871802568435669, 0.8716632127761841, 0.8661026358604431, 0.8571975827217102, 0.8494656085968018] validation accuracy: [0.2, 0.2, 0.25, 0.2, 0.25, 0.25, 0.25, 0.25, 0.35, 0.35, 0.35, 0.35, 0.35, 0.35, 0.35, 0.4, 0.4, 0.35, 0.35, 0.35, 0.35, 0.35, 0.35, 0.35, 0.35, 0.35, 0.35, 0.35, 0.35, 0.35, 0.35, 0.35, 0.35, 0.35, 0.35, 0.35, 0.35, 0.35, 0.35, 0.35, 0.3, 0.3, 0.3, 0.3, 0.3, 0.3, 0.25, 0.2, 0.2, 0.2, 0.2, 0.2, 0.15, 0.2, 0.15, 0.1, 0.15, 0.15, 0.15, 0.2, 0.2, 0.25, 0.35, 0.35, 0.35, 0.35, 0.35, 0.35, 0.35, 0.35, 0.35, 0.35, 0.35, 0.35, 0.35, 0.35, 0.35, 0.35, 0.35, 0.35, 0.35, 0.3, 0.3, 0.3, 0.3, 0.3, 0.3, 0.3, 0.3, 0.3, 0.3, 0.3, 0.3, 0.3, 0.3, 0.25, 0.25, 0.25, 0.25, 0.3]\n"
     ]
    },
    {
     "data": {
      "text/html": [
       "Finishing last run (ID:gi69s1px) before initializing another..."
      ],
      "text/plain": [
       "<IPython.core.display.HTML object>"
      ]
     },
     "metadata": {},
     "output_type": "display_data"
    },
    {
     "data": {
      "text/html": [
       "Waiting for W&B process to finish... <strong style=\"color:green\">(success).</strong>"
      ],
      "text/plain": [
       "<IPython.core.display.HTML object>"
      ]
     },
     "metadata": {},
     "output_type": "display_data"
    },
    {
     "data": {
      "application/vnd.jupyter.widget-view+json": {
       "model_id": "80d53080427548e69202391cb57e5b8c",
       "version_major": 2,
       "version_minor": 0
      },
      "text/plain": [
       "VBox(children=(Label(value='0.006 MB of 0.006 MB uploaded (0.000 MB deduped)\\r'), FloatProgress(value=1.0, max…"
      ]
     },
     "metadata": {},
     "output_type": "display_data"
    },
    {
     "data": {
      "text/html": [
       "<style>\n",
       "    table.wandb td:nth-child(1) { padding: 0 10px; text-align: left ; width: auto;} td:nth-child(2) {text-align: left ; width: 100%}\n",
       "    .wandb-row { display: flex; flex-direction: row; flex-wrap: wrap; justify-content: flex-start; width: 100% }\n",
       "    .wandb-col { display: flex; flex-direction: column; flex-basis: 100%; flex: 1; padding: 10px; }\n",
       "    </style>\n",
       "<div class=\"wandb-row\"><div class=\"wandb-col\"><h3>Run history:</h3><br/><table class=\"wandb\"><tr><td>latent separation accuracy</td><td>▁▁▁▁▁▁▁▁▁▁▁▁▁▁▁▁▁▁▁▁▁▁▁▁▁▁▁▁▁▁▁▁▁▁▁▁▁▁▁▁</td></tr><tr><td>total train loss</td><td>█▂▁▁▁▁▁▁▁▁▁▁▁▁▁▁▁▁▁▁▁▁▁▁▁▁▁▁▁▁▁▁▁▁▁▁▁▁▁▁</td></tr><tr><td>total validation loss</td><td>▇███▇▆▅▄▃▂▂▂▂▂▂▂▁▁▁▁▁▁▁▁▁▁▁▁▁▁▁▁▁▁▁▁▁▁▁▁</td></tr><tr><td>train label accuracy</td><td>▅▇▇█▄▄▇▅▅▅▆▆▆▆▆▆▆▆▇▆▅▄▅▅▆▆▆▇▄▄▄▄▇▄▄▃▁▁▂▂</td></tr><tr><td>train label loss</td><td>▁▅▇██▇▅▅▄▃▂▂▃▂▂▂▂▃▃▂▂▃▃▃▃▄▅▅▅▅▅▅▆▆▆▆▇▇▇█</td></tr><tr><td>train triplet loss</td><td>█▂▁▁▁▁▁▁▁▁▁▁▁▁▁▁▁▁▁▁▁▁▁▁▁▁▁▁▁▁▁▁▁▁▁▁▁▁▁▁</td></tr><tr><td>validation label accuracy</td><td>▃▄▄▄▇▇█▇▇▇▇▇▇▇▇▇▆▆▆▃▃▃▁▂▃▇▇▇▇▇▇▇▆▆▆▆▆▆▄▆</td></tr><tr><td>validation label loss</td><td>▂▃▇██▇▆▅▄▃▃▃▃▃▂▂▂▂▃▃▃▂▂▂▂▃▃▃▂▂▂▂▂▂▂▂▂▂▂▁</td></tr><tr><td>validation triplet loss</td><td>▇███▇▆▅▄▃▂▂▂▂▂▂▂▁▁▁▁▁▁▁▁▁▁▁▁▁▁▁▁▁▁▁▁▁▂▂▁</td></tr></table><br/></div><div class=\"wandb-col\"><h3>Run summary:</h3><br/><table class=\"wandb\"><tr><td>latent separation accuracy</td><td>1.0</td></tr><tr><td>total train loss</td><td>0.70823</td></tr><tr><td>total validation loss</td><td>0.84947</td></tr><tr><td>train label accuracy</td><td>0.18</td></tr><tr><td>train label loss</td><td>0.70817</td></tr><tr><td>train triplet loss</td><td>6e-05</td></tr><tr><td>validation label accuracy</td><td>0.3</td></tr><tr><td>validation label loss</td><td>0.689</td></tr><tr><td>validation triplet loss</td><td>0.16047</td></tr></table><br/></div></div>"
      ],
      "text/plain": [
       "<IPython.core.display.HTML object>"
      ]
     },
     "metadata": {},
     "output_type": "display_data"
    },
    {
     "data": {
      "text/html": [
       " View run <strong style=\"color:#cdcd00\">ruby-deluge-309</strong> at: <a href='https://wandb.ai/psych-711/ConceptualAlignment2023/runs/gi69s1px' target=\"_blank\">https://wandb.ai/psych-711/ConceptualAlignment2023/runs/gi69s1px</a><br/>Synced 6 W&B file(s), 0 media file(s), 0 artifact file(s) and 0 other file(s)"
      ],
      "text/plain": [
       "<IPython.core.display.HTML object>"
      ]
     },
     "metadata": {},
     "output_type": "display_data"
    },
    {
     "data": {
      "text/html": [
       "Find logs at: <code>./wandb/run-20231005_175452-gi69s1px/logs</code>"
      ],
      "text/plain": [
       "<IPython.core.display.HTML object>"
      ]
     },
     "metadata": {},
     "output_type": "display_data"
    },
    {
     "data": {
      "text/html": [
       "Successfully finished last run (ID:gi69s1px). Initializing new run:<br/>"
      ],
      "text/plain": [
       "<IPython.core.display.HTML object>"
      ]
     },
     "metadata": {},
     "output_type": "display_data"
    },
    {
     "data": {
      "application/vnd.jupyter.widget-view+json": {
       "model_id": "9b301a56d272471c845ccf58c83e2a43",
       "version_major": 2,
       "version_minor": 0
      },
      "text/plain": [
       "VBox(children=(Label(value='Waiting for wandb.init()...\\r'), FloatProgress(value=0.016668746604894598, max=1.0…"
      ]
     },
     "metadata": {},
     "output_type": "display_data"
    },
    {
     "data": {
      "text/html": [
       "wandb version 0.15.12 is available!  To upgrade, please run:\n",
       " $ pip install wandb --upgrade"
      ],
      "text/plain": [
       "<IPython.core.display.HTML object>"
      ]
     },
     "metadata": {},
     "output_type": "display_data"
    },
    {
     "data": {
      "text/html": [
       "Tracking run with wandb version 0.14.2"
      ],
      "text/plain": [
       "<IPython.core.display.HTML object>"
      ]
     },
     "metadata": {},
     "output_type": "display_data"
    },
    {
     "data": {
      "text/html": [
       "Run data is saved locally in <code>/mnt/home/kmukherjee/repos/ConceptualAlignmentLanguage/code/python/wandb/run-20231005_175457-zxktcxi9</code>"
      ],
      "text/plain": [
       "<IPython.core.display.HTML object>"
      ]
     },
     "metadata": {},
     "output_type": "display_data"
    },
    {
     "data": {
      "text/html": [
       "Syncing run <strong><a href='https://wandb.ai/psych-711/ConceptualAlignment2023/runs/zxktcxi9' target=\"_blank\">electric-star-310</a></strong> to <a href='https://wandb.ai/psych-711/ConceptualAlignment2023' target=\"_blank\">Weights & Biases</a> (<a href='https://wandb.me/run' target=\"_blank\">docs</a>)<br/>"
      ],
      "text/plain": [
       "<IPython.core.display.HTML object>"
      ]
     },
     "metadata": {},
     "output_type": "display_data"
    },
    {
     "data": {
      "text/html": [
       " View project at <a href='https://wandb.ai/psych-711/ConceptualAlignment2023' target=\"_blank\">https://wandb.ai/psych-711/ConceptualAlignment2023</a>"
      ],
      "text/plain": [
       "<IPython.core.display.HTML object>"
      ]
     },
     "metadata": {},
     "output_type": "display_data"
    },
    {
     "data": {
      "text/html": [
       " View run at <a href='https://wandb.ai/psych-711/ConceptualAlignment2023/runs/zxktcxi9' target=\"_blank\">https://wandb.ai/psych-711/ConceptualAlignment2023/runs/zxktcxi9</a>"
      ],
      "text/plain": [
       "<IPython.core.display.HTML object>"
      ]
     },
     "metadata": {},
     "output_type": "display_data"
    },
    {
     "name": "stderr",
     "output_type": "stream",
     "text": [
      "100%|██████████| 100/100 [00:01<00:00, 53.55it/s]\n",
      " 67%|██████▋   | 2/3 [00:14<00:07,  7.71s/it]"
     ]
    },
    {
     "name": "stdout",
     "output_type": "stream",
     "text": [
      "validation triplet loss: [0.7857500910758972, 0.8053858876228333, 0.8035473823547363, 0.7810969352722168, 0.7714853286743164, 0.7807440757751465, 0.794644832611084, 0.8059770464897156, 0.7463658452033997, 0.67631995677948, 0.6278941631317139, 0.5897226333618164, 0.5378535389900208, 0.5180172324180603, 0.5124547481536865, 0.523366391658783, 0.526308000087738, 0.5242937207221985, 0.5115389227867126, 0.49892139434814453, 0.4889693856239319, 0.48143965005874634, 0.4736044406890869, 0.4648776948451996, 0.4558602273464203, 0.44898921251296997, 0.44433632493019104, 0.44106969237327576, 0.43840476870536804, 0.4364124834537506, 0.43579956889152527, 0.4358341693878174, 0.43534621596336365, 0.4347001612186432, 0.4341833293437958, 0.43383070826530457, 0.4335361421108246, 0.43349066376686096, 0.4332703649997711, 0.43314170837402344, 0.4329369068145752, 0.43279018998146057, 0.4328099191188812, 0.43279972672462463, 0.4327889382839203, 0.43271946907043457, 0.4325467050075531, 0.43235722184181213, 0.4322211444377899, 0.43214845657348633, 0.43215152621269226, 0.43215104937553406, 0.43213722109794617, 0.43208566308021545, 0.4320279657840729, 0.4319412410259247, 0.4317869246006012, 0.43162184953689575, 0.4314674437046051, 0.4313250184059143, 0.43122753500938416, 0.43116864562034607, 0.43113309144973755, 0.43111321330070496, 0.4310809075832367, 0.4310297667980194, 0.43095603585243225, 0.4308684468269348, 0.4307425618171692, 0.43063288927078247, 0.43053102493286133, 0.43044814467430115, 0.4304018020629883, 0.43037205934524536, 0.4303731918334961, 0.4303714334964752, 0.4303686320781708, 0.4303489625453949, 0.430330753326416, 0.4302883744239807, 0.4302513301372528, 0.4302120804786682, 0.43016883730888367, 0.43013206124305725, 0.4300837516784668, 0.4300496280193329, 0.4300312101840973, 0.4300142824649811, 0.4299946427345276, 0.4299561083316803, 0.42991456389427185, 0.4298653304576874, 0.42980456352233887, 0.4297432005405426, 0.42969322204589844, 0.42961055040359497, 0.4295315742492676, 0.4294617772102356, 0.4294021725654602, 0.42935124039649963] validation total loss: [1.4379191398620605, 1.4094423055648804, 1.3678691387176514, 1.3359334468841553, 1.3289830684661865, 1.3394198417663574, 1.353666067123413, 1.3538504838943481, 1.129949688911438, 0.9729137420654297, 0.9008776545524597, 0.8386188745498657, 0.7374390363693237, 0.701214611530304, 0.6539027094841003, 0.6682688593864441, 0.6901068687438965, 0.7007368206977844, 0.6890666484832764, 0.6745942831039429, 0.6766749620437622, 0.6900999546051025, 0.6976088881492615, 0.6976135969161987, 0.6915920376777649, 0.6822999715805054, 0.6624891757965088, 0.6337068676948547, 0.6050635576248169, 0.57779461145401, 0.555557370185852, 0.5371583700180054, 0.5200628042221069, 0.5058798789978027, 0.49404528737068176, 0.48589614033699036, 0.47857654094696045, 0.47256553173065186, 0.466641902923584, 0.46176689863204956, 0.45816609263420105, 0.4547950029373169, 0.4515489339828491, 0.4491339921951294, 0.44741225242614746, 0.44653943181037903, 0.44605350494384766, 0.4462302625179291, 0.4468752145767212, 0.44798773527145386, 0.4493022561073303, 0.4506114721298218, 0.4514690637588501, 0.45192110538482666, 0.4516955316066742, 0.45113474130630493, 0.4505921006202698, 0.45000454783439636, 0.4498695433139801, 0.45005372166633606, 0.45058509707450867, 0.4514831006526947, 0.4526735544204712, 0.4539787173271179, 0.4550648629665375, 0.4556353986263275, 0.45592060685157776, 0.45606282353401184, 0.4560905396938324, 0.45597487688064575, 0.45568162202835083, 0.4554477334022522, 0.4555422067642212, 0.4556903839111328, 0.455853670835495, 0.45607790350914, 0.4564718008041382, 0.4569292664527893, 0.4573420584201813, 0.4574807286262512, 0.4573602080345154, 0.4571065306663513, 0.45662781596183777, 0.45622342824935913, 0.4557371735572815, 0.45538330078125, 0.4551180303096771, 0.4550238251686096, 0.4547944962978363, 0.45460546016693115, 0.4543094336986542, 0.4541536271572113, 0.4540061950683594, 0.45388063788414, 0.45380285382270813, 0.4534808397293091, 0.45321619510650635, 0.4530183672904968, 0.4528476595878601, 0.452705979347229] validation accuracy: [0.25, 0.25, 0.3, 0.35, 0.4, 0.4, 0.5, 0.5, 0.65, 0.65, 0.65, 0.8, 0.95, 0.95, 0.9, 0.9, 0.9, 0.9, 0.9, 0.95, 0.95, 0.95, 0.95, 0.95, 0.95, 0.95, 0.95, 0.95, 0.95, 0.95, 0.95, 0.95, 0.95, 0.95, 0.95, 0.95, 0.95, 0.95, 0.95, 0.95, 0.95, 0.95, 1.0, 1.0, 1.0, 1.0, 1.0, 1.0, 1.0, 1.0, 1.0, 1.0, 0.95, 0.95, 0.95, 0.95, 0.95, 0.95, 0.95, 0.95, 0.95, 0.95, 0.95, 0.95, 0.95, 0.95, 0.95, 0.95, 0.95, 0.95, 0.95, 0.95, 0.95, 0.95, 0.95, 0.95, 0.95, 0.95, 0.95, 0.95, 0.95, 0.95, 0.95, 0.95, 0.95, 0.95, 0.95, 0.95, 0.95, 0.95, 0.95, 0.95, 0.95, 0.95, 0.95, 0.95, 0.95, 0.95, 0.95, 0.95]\n"
     ]
    },
    {
     "data": {
      "text/html": [
       "Finishing last run (ID:zxktcxi9) before initializing another..."
      ],
      "text/plain": [
       "<IPython.core.display.HTML object>"
      ]
     },
     "metadata": {},
     "output_type": "display_data"
    },
    {
     "data": {
      "text/html": [
       "Waiting for W&B process to finish... <strong style=\"color:green\">(success).</strong>"
      ],
      "text/plain": [
       "<IPython.core.display.HTML object>"
      ]
     },
     "metadata": {},
     "output_type": "display_data"
    },
    {
     "data": {
      "text/html": [
       "<style>\n",
       "    table.wandb td:nth-child(1) { padding: 0 10px; text-align: left ; width: auto;} td:nth-child(2) {text-align: left ; width: 100%}\n",
       "    .wandb-row { display: flex; flex-direction: row; flex-wrap: wrap; justify-content: flex-start; width: 100% }\n",
       "    .wandb-col { display: flex; flex-direction: column; flex-basis: 100%; flex: 1; padding: 10px; }\n",
       "    </style>\n",
       "<div class=\"wandb-row\"><div class=\"wandb-col\"><h3>Run history:</h3><br/><table class=\"wandb\"><tr><td>latent separation accuracy</td><td>▁▁▁▁▁▁▁▁▁▁▁▁▁▁▁▁▁▁▁▁▁▁▁▁▁▁▁▁▁▁▁▁▁▁▁▁▁▁▁▁</td></tr><tr><td>total train loss</td><td>█▇▆▅▃▂▂▁▁▁▁▁▁▁▁▁▁▁▁▁▁▁▁▁▁▁▁▁▁▁▁▁▁▁▁▁▁▁▁▁</td></tr><tr><td>total validation loss</td><td>██▇▇▄▃▃▃▃▃▃▂▂▁▁▁▁▁▁▁▁▁▁▁▁▁▁▁▁▁▁▁▁▁▁▁▁▁▁▁</td></tr><tr><td>train label accuracy</td><td>▁▄▄▅████████████████████████████████████</td></tr><tr><td>train label loss</td><td>█▆▅▄▃▂▁▁▁▁▁▁▁▁▁▁▁▁▁▁▁▁▁▁▁▁▁▁▁▁▁▁▁▁▁▁▁▁▁▁</td></tr><tr><td>train triplet loss</td><td>▁▆█▇▇▇▇▇▇▇▇▇▇▇▇▆▆▆▆▆▆▆▆▆▆▆▆▆▆▆▆▆▆▆▆▆▆▆▆▆</td></tr><tr><td>validation label accuracy</td><td>▁▁▂▃▅█▇▇████████████████████████████████</td></tr><tr><td>validation label loss</td><td>█▇▇▇▄▃▂▃▃▃▃▃▂▂▁▁▁▁▁▁▁▁▁▁▁▁▁▁▁▁▁▁▁▁▁▁▁▁▁▁</td></tr><tr><td>validation triplet loss</td><td>████▅▃▃▃▂▂▁▁▁▁▁▁▁▁▁▁▁▁▁▁▁▁▁▁▁▁▁▁▁▁▁▁▁▁▁▁</td></tr></table><br/></div><div class=\"wandb-col\"><h3>Run summary:</h3><br/><table class=\"wandb\"><tr><td>latent separation accuracy</td><td>1.0</td></tr><tr><td>total train loss</td><td>0.38728</td></tr><tr><td>total validation loss</td><td>0.45271</td></tr><tr><td>train label accuracy</td><td>1.0</td></tr><tr><td>train label loss</td><td>0.0</td></tr><tr><td>train triplet loss</td><td>0.38728</td></tr><tr><td>validation label accuracy</td><td>0.95</td></tr><tr><td>validation label loss</td><td>0.02335</td></tr><tr><td>validation triplet loss</td><td>0.42935</td></tr></table><br/></div></div>"
      ],
      "text/plain": [
       "<IPython.core.display.HTML object>"
      ]
     },
     "metadata": {},
     "output_type": "display_data"
    },
    {
     "data": {
      "text/html": [
       " View run <strong style=\"color:#cdcd00\">electric-star-310</strong> at: <a href='https://wandb.ai/psych-711/ConceptualAlignment2023/runs/zxktcxi9' target=\"_blank\">https://wandb.ai/psych-711/ConceptualAlignment2023/runs/zxktcxi9</a><br/>Synced 6 W&B file(s), 0 media file(s), 0 artifact file(s) and 0 other file(s)"
      ],
      "text/plain": [
       "<IPython.core.display.HTML object>"
      ]
     },
     "metadata": {},
     "output_type": "display_data"
    },
    {
     "data": {
      "text/html": [
       "Find logs at: <code>./wandb/run-20231005_175457-zxktcxi9/logs</code>"
      ],
      "text/plain": [
       "<IPython.core.display.HTML object>"
      ]
     },
     "metadata": {},
     "output_type": "display_data"
    },
    {
     "data": {
      "text/html": [
       "Successfully finished last run (ID:zxktcxi9). Initializing new run:<br/>"
      ],
      "text/plain": [
       "<IPython.core.display.HTML object>"
      ]
     },
     "metadata": {},
     "output_type": "display_data"
    },
    {
     "data": {
      "application/vnd.jupyter.widget-view+json": {
       "model_id": "234f5068c1a34e5b87480bc5227d09c9",
       "version_major": 2,
       "version_minor": 0
      },
      "text/plain": [
       "VBox(children=(Label(value='Waiting for wandb.init()...\\r'), FloatProgress(value=0.016668388992547988, max=1.0…"
      ]
     },
     "metadata": {},
     "output_type": "display_data"
    },
    {
     "data": {
      "text/html": [
       "wandb version 0.15.12 is available!  To upgrade, please run:\n",
       " $ pip install wandb --upgrade"
      ],
      "text/plain": [
       "<IPython.core.display.HTML object>"
      ]
     },
     "metadata": {},
     "output_type": "display_data"
    },
    {
     "data": {
      "text/html": [
       "Tracking run with wandb version 0.14.2"
      ],
      "text/plain": [
       "<IPython.core.display.HTML object>"
      ]
     },
     "metadata": {},
     "output_type": "display_data"
    },
    {
     "data": {
      "text/html": [
       "Run data is saved locally in <code>/mnt/home/kmukherjee/repos/ConceptualAlignmentLanguage/code/python/wandb/run-20231005_175507-v92hbmr5</code>"
      ],
      "text/plain": [
       "<IPython.core.display.HTML object>"
      ]
     },
     "metadata": {},
     "output_type": "display_data"
    },
    {
     "data": {
      "text/html": [
       "Syncing run <strong><a href='https://wandb.ai/psych-711/ConceptualAlignment2023/runs/v92hbmr5' target=\"_blank\">denim-waterfall-311</a></strong> to <a href='https://wandb.ai/psych-711/ConceptualAlignment2023' target=\"_blank\">Weights & Biases</a> (<a href='https://wandb.me/run' target=\"_blank\">docs</a>)<br/>"
      ],
      "text/plain": [
       "<IPython.core.display.HTML object>"
      ]
     },
     "metadata": {},
     "output_type": "display_data"
    },
    {
     "data": {
      "text/html": [
       " View project at <a href='https://wandb.ai/psych-711/ConceptualAlignment2023' target=\"_blank\">https://wandb.ai/psych-711/ConceptualAlignment2023</a>"
      ],
      "text/plain": [
       "<IPython.core.display.HTML object>"
      ]
     },
     "metadata": {},
     "output_type": "display_data"
    },
    {
     "data": {
      "text/html": [
       " View run at <a href='https://wandb.ai/psych-711/ConceptualAlignment2023/runs/v92hbmr5' target=\"_blank\">https://wandb.ai/psych-711/ConceptualAlignment2023/runs/v92hbmr5</a>"
      ],
      "text/plain": [
       "<IPython.core.display.HTML object>"
      ]
     },
     "metadata": {},
     "output_type": "display_data"
    },
    {
     "name": "stderr",
     "output_type": "stream",
     "text": [
      "100%|██████████| 100/100 [00:02<00:00, 46.14it/s]\n",
      "100%|██████████| 3/3 [00:26<00:00,  8.97s/it]\n"
     ]
    },
    {
     "name": "stdout",
     "output_type": "stream",
     "text": [
      "validation triplet loss: [0.6850911974906921, 0.7449369430541992, 0.7984310984611511, 0.8034595847129822, 0.7959213852882385, 0.7891492247581482, 0.7787393927574158, 0.7445279359817505, 0.7011989951133728, 0.6532832384109497, 0.6172688603401184, 0.5591580867767334, 0.4862089157104492, 0.430910587310791, 0.40140238404273987, 0.3816988468170166, 0.3491032123565674, 0.30929800868034363, 0.27574416995048523, 0.25034913420677185, 0.21577206254005432, 0.20297470688819885, 0.20600526034832, 0.19053718447685242, 0.18021057546138763, 0.16833938658237457, 0.1729569137096405, 0.17830483615398407, 0.1794797033071518, 0.170306995511055, 0.16050659120082855, 0.14923681318759918, 0.13725046813488007, 0.12385383993387222, 0.113128662109375, 0.10524068027734756, 0.09878398478031158, 0.10010391473770142, 0.09515917301177979, 0.0940723642706871, 0.09056346863508224, 0.09461098164319992, 0.09925947338342667, 0.10205777734518051, 0.10545206069946289, 0.1075906977057457, 0.10888288170099258, 0.10911043733358383, 0.10852038860321045, 0.10723292827606201, 0.10577424615621567, 0.10406166315078735, 0.10226374119520187, 0.10059960931539536, 0.09951960295438766, 0.09850142151117325, 0.09756428003311157, 0.09691882133483887, 0.09628944844007492, 0.09583475440740585, 0.09555941820144653, 0.09538672119379044, 0.09513168036937714, 0.09480126947164536, 0.09443803876638412, 0.0940827876329422, 0.09369947016239166, 0.09320724010467529, 0.09269002825021744, 0.09222108125686646, 0.09177225828170776, 0.09135504066944122, 0.09095458686351776, 0.09058284014463425, 0.09022416174411774, 0.08984601497650146, 0.08953841775655746, 0.08924563974142075, 0.08890872448682785, 0.08859049528837204, 0.0882631167769432, 0.0879269391298294, 0.0876237154006958, 0.08732558786869049, 0.08702317625284195, 0.08673274517059326, 0.08643744140863419, 0.08615132421255112, 0.08589601516723633, 0.08566974848508835, 0.0854572057723999, 0.08527341485023499, 0.08512550592422485, 0.08498407900333405, 0.08486701548099518, 0.08476199209690094, 0.08465879410505295, 0.08455420285463333, 0.08442715555429459, 0.0842917189002037] validation total loss: [1.3922317028045654, 1.4146642684936523, 1.440459966659546, 1.4161570072174072, 1.407789707183838, 1.4468213319778442, 1.496291160583496, 1.4845176935195923, 1.422065019607544, 1.3651583194732666, 1.3485627174377441, 1.2370507717132568, 1.075937271118164, 0.9701876044273376, 0.9186544418334961, 0.8716570138931274, 0.776390790939331, 0.6609777808189392, 0.5715352892875671, 0.5133538842201233, 0.42325741052627563, 0.3812286853790283, 0.41641637682914734, 0.4012174606323242, 0.3906363844871521, 0.3629365861415863, 0.3991907835006714, 0.42194387316703796, 0.43365705013275146, 0.40689617395401, 0.3918812870979309, 0.37203729152679443, 0.35151633620262146, 0.3244350552558899, 0.3080453872680664, 0.2958586812019348, 0.3058975338935852, 0.3079417645931244, 0.2959914207458496, 0.2934170365333557, 0.2542421221733093, 0.2352835237979889, 0.2202596217393875, 0.22100386023521423, 0.22536566853523254, 0.2277117818593979, 0.23140867054462433, 0.23582831025123596, 0.24050405621528625, 0.24320700764656067, 0.2454635202884674, 0.24772141873836517, 0.24930799007415771, 0.2502756714820862, 0.250814288854599, 0.24989119172096252, 0.2493642121553421, 0.24876104295253754, 0.24817892909049988, 0.2483585774898529, 0.24921034276485443, 0.25070908665657043, 0.25245437026023865, 0.2542613744735718, 0.255706250667572, 0.2573627829551697, 0.25893688201904297, 0.2600485682487488, 0.2607230246067047, 0.26116400957107544, 0.2610771059989929, 0.26084768772125244, 0.26054999232292175, 0.26025688648223877, 0.2600342035293579, 0.25968772172927856, 0.25952017307281494, 0.25938746333122253, 0.2592307925224304, 0.25900039076805115, 0.25866585969924927, 0.2583702802658081, 0.2579575479030609, 0.2574532628059387, 0.256742388010025, 0.25608375668525696, 0.2554580569267273, 0.2548747658729553, 0.25433433055877686, 0.253830224275589, 0.25338730216026306, 0.2530433237552643, 0.25279104709625244, 0.25258779525756836, 0.25246661901474, 0.25237539410591125, 0.2523221969604492, 0.2522215247154236, 0.25208479166030884, 0.25194454193115234] validation accuracy: [0.25, 0.4, 0.25, 0.3, 0.35, 0.35, 0.4, 0.4, 0.4, 0.4, 0.5, 0.55, 0.65, 0.65, 0.65, 0.65, 0.65, 0.65, 0.7, 0.75, 0.8, 0.9, 0.9, 0.85, 0.85, 0.85, 0.85, 0.85, 0.85, 0.85, 0.85, 0.85, 0.85, 0.85, 0.85, 0.85, 0.9, 0.9, 0.9, 0.9, 0.9, 0.9, 0.95, 0.9, 0.9, 0.9, 0.9, 0.9, 0.9, 0.9, 0.9, 0.9, 0.9, 0.9, 0.9, 0.9, 0.9, 0.9, 0.9, 0.9, 0.9, 0.9, 0.9, 0.9, 0.9, 0.9, 0.9, 0.9, 0.9, 0.9, 0.9, 0.9, 0.9, 0.9, 0.9, 0.9, 0.9, 0.9, 0.9, 0.9, 0.9, 0.9, 0.9, 0.9, 0.9, 0.9, 0.9, 0.9, 0.9, 0.9, 0.9, 0.9, 0.9, 0.9, 0.9, 0.9, 0.9, 0.9, 0.9, 0.9]\n"
     ]
    },
    {
     "name": "stderr",
     "output_type": "stream",
     "text": [
      "  0%|          | 0/3 [00:00<?, ?it/s]"
     ]
    },
    {
     "data": {
      "text/html": [
       "Finishing last run (ID:v92hbmr5) before initializing another..."
      ],
      "text/plain": [
       "<IPython.core.display.HTML object>"
      ]
     },
     "metadata": {},
     "output_type": "display_data"
    },
    {
     "data": {
      "text/html": [
       "Waiting for W&B process to finish... <strong style=\"color:green\">(success).</strong>"
      ],
      "text/plain": [
       "<IPython.core.display.HTML object>"
      ]
     },
     "metadata": {},
     "output_type": "display_data"
    },
    {
     "data": {
      "text/html": [
       "<style>\n",
       "    table.wandb td:nth-child(1) { padding: 0 10px; text-align: left ; width: auto;} td:nth-child(2) {text-align: left ; width: 100%}\n",
       "    .wandb-row { display: flex; flex-direction: row; flex-wrap: wrap; justify-content: flex-start; width: 100% }\n",
       "    .wandb-col { display: flex; flex-direction: column; flex-basis: 100%; flex: 1; padding: 10px; }\n",
       "    </style>\n",
       "<div class=\"wandb-row\"><div class=\"wandb-col\"><h3>Run history:</h3><br/><table class=\"wandb\"><tr><td>latent separation accuracy</td><td>▁▁▁▁▁▁▁▁▁▁▁▁▁▁▁▁▁▁▁▁▁▁▁▁▁▁▁▁▁▁▁▁▁▁▁▁▁▁▁▁</td></tr><tr><td>total train loss</td><td>█▆▄▄▃▂▂▁▁▁▁▁▁▁▁▁▁▁▁▁▁▁▁▁▁▁▁▁▁▁▁▁▁▁▁▁▁▁▁▁</td></tr><tr><td>total validation loss</td><td>▇███▇▆▅▃▂▂▂▂▂▂▁▁▁▁▁▁▁▁▁▁▁▁▁▁▁▁▁▁▁▁▁▁▁▁▁▁</td></tr><tr><td>train label accuracy</td><td>▁▄▅▆▇███████████████████████████████████</td></tr><tr><td>train label loss</td><td>█▇▅▄▃▃▂▁▁▁▁▁▁▁▁▁▁▁▁▁▁▁▁▁▁▁▁▁▁▁▁▁▁▁▁▁▁▁▁▁</td></tr><tr><td>train triplet loss</td><td>█▂▁▁▁▁▁▁▁▁▁▁▁▁▁▁▁▁▁▁▁▁▁▁▁▁▁▁▁▁▁▁▁▁▁▁▁▁▁▁</td></tr><tr><td>validation label accuracy</td><td>▁▁▂▃▄▅▅▅▇█▇▇▇▇▇█████████████████████████</td></tr><tr><td>validation label loss</td><td>█▇▇██▆▅▄▂▂▂▂▂▂▂▂▂▁▁▁▁▁▁▁▁▁▂▂▂▂▂▂▂▂▂▂▂▂▂▂</td></tr><tr><td>validation triplet loss</td><td>▇██▇▆▅▄▃▂▂▂▂▂▁▁▁▁▁▁▁▁▁▁▁▁▁▁▁▁▁▁▁▁▁▁▁▁▁▁▁</td></tr></table><br/></div><div class=\"wandb-col\"><h3>Run summary:</h3><br/><table class=\"wandb\"><tr><td>latent separation accuracy</td><td>1.0</td></tr><tr><td>total train loss</td><td>1e-05</td></tr><tr><td>total validation loss</td><td>0.25194</td></tr><tr><td>train label accuracy</td><td>1.0</td></tr><tr><td>train label loss</td><td>1e-05</td></tr><tr><td>train triplet loss</td><td>0.0</td></tr><tr><td>validation label accuracy</td><td>0.9</td></tr><tr><td>validation label loss</td><td>0.16765</td></tr><tr><td>validation triplet loss</td><td>0.08429</td></tr></table><br/></div></div>"
      ],
      "text/plain": [
       "<IPython.core.display.HTML object>"
      ]
     },
     "metadata": {},
     "output_type": "display_data"
    },
    {
     "data": {
      "text/html": [
       " View run <strong style=\"color:#cdcd00\">denim-waterfall-311</strong> at: <a href='https://wandb.ai/psych-711/ConceptualAlignment2023/runs/v92hbmr5' target=\"_blank\">https://wandb.ai/psych-711/ConceptualAlignment2023/runs/v92hbmr5</a><br/>Synced 6 W&B file(s), 0 media file(s), 0 artifact file(s) and 0 other file(s)"
      ],
      "text/plain": [
       "<IPython.core.display.HTML object>"
      ]
     },
     "metadata": {},
     "output_type": "display_data"
    },
    {
     "data": {
      "text/html": [
       "Find logs at: <code>./wandb/run-20231005_175507-v92hbmr5/logs</code>"
      ],
      "text/plain": [
       "<IPython.core.display.HTML object>"
      ]
     },
     "metadata": {},
     "output_type": "display_data"
    },
    {
     "data": {
      "text/html": [
       "Successfully finished last run (ID:v92hbmr5). Initializing new run:<br/>"
      ],
      "text/plain": [
       "<IPython.core.display.HTML object>"
      ]
     },
     "metadata": {},
     "output_type": "display_data"
    },
    {
     "data": {
      "application/vnd.jupyter.widget-view+json": {
       "model_id": "c9df356d038448f1be143d80d0129a6f",
       "version_major": 2,
       "version_minor": 0
      },
      "text/plain": [
       "VBox(children=(Label(value='Waiting for wandb.init()...\\r'), FloatProgress(value=0.01666853533436855, max=1.0)…"
      ]
     },
     "metadata": {},
     "output_type": "display_data"
    },
    {
     "data": {
      "text/html": [
       "wandb version 0.15.12 is available!  To upgrade, please run:\n",
       " $ pip install wandb --upgrade"
      ],
      "text/plain": [
       "<IPython.core.display.HTML object>"
      ]
     },
     "metadata": {},
     "output_type": "display_data"
    },
    {
     "data": {
      "text/html": [
       "Tracking run with wandb version 0.14.2"
      ],
      "text/plain": [
       "<IPython.core.display.HTML object>"
      ]
     },
     "metadata": {},
     "output_type": "display_data"
    },
    {
     "data": {
      "text/html": [
       "Run data is saved locally in <code>/mnt/home/kmukherjee/repos/ConceptualAlignmentLanguage/code/python/wandb/run-20231005_175519-fh5l96vc</code>"
      ],
      "text/plain": [
       "<IPython.core.display.HTML object>"
      ]
     },
     "metadata": {},
     "output_type": "display_data"
    },
    {
     "data": {
      "text/html": [
       "Syncing run <strong><a href='https://wandb.ai/psych-711/ConceptualAlignment2023/runs/fh5l96vc' target=\"_blank\">skilled-butterfly-312</a></strong> to <a href='https://wandb.ai/psych-711/ConceptualAlignment2023' target=\"_blank\">Weights & Biases</a> (<a href='https://wandb.me/run' target=\"_blank\">docs</a>)<br/>"
      ],
      "text/plain": [
       "<IPython.core.display.HTML object>"
      ]
     },
     "metadata": {},
     "output_type": "display_data"
    },
    {
     "data": {
      "text/html": [
       " View project at <a href='https://wandb.ai/psych-711/ConceptualAlignment2023' target=\"_blank\">https://wandb.ai/psych-711/ConceptualAlignment2023</a>"
      ],
      "text/plain": [
       "<IPython.core.display.HTML object>"
      ]
     },
     "metadata": {},
     "output_type": "display_data"
    },
    {
     "data": {
      "text/html": [
       " View run at <a href='https://wandb.ai/psych-711/ConceptualAlignment2023/runs/fh5l96vc' target=\"_blank\">https://wandb.ai/psych-711/ConceptualAlignment2023/runs/fh5l96vc</a>"
      ],
      "text/plain": [
       "<IPython.core.display.HTML object>"
      ]
     },
     "metadata": {},
     "output_type": "display_data"
    },
    {
     "name": "stderr",
     "output_type": "stream",
     "text": [
      "100%|██████████| 100/100 [00:02<00:00, 47.26it/s]\n",
      " 33%|███▎      | 1/3 [00:11<00:23, 11.96s/it]/mnt/ws/home/kmukherjee/miniconda3/envs/sketch_tools/lib/python3.8/site-packages/wandb/sdk/wandb_run.py:2087: UserWarning: Run (v92hbmr5) is finished. The call to `_console_raw_callback` will be ignored. Please make sure that you are using an active run.\n",
      "  lambda data: self._console_raw_callback(\"stderr\", data),\n"
     ]
    },
    {
     "name": "stdout",
     "output_type": "stream",
     "text": [
      "validation triplet loss: [0.6904611587524414, 0.6984723210334778, 0.7388632297515869, 0.7662394642829895, 0.7550672888755798, 0.7399150133132935, 0.7378654479980469, 0.7231554985046387, 0.7116303443908691, 0.6799613833427429, 0.6410267353057861, 0.6198035478591919, 0.5974165797233582, 0.5665671229362488, 0.5331675410270691, 0.47243353724479675, 0.4321592450141907, 0.3914901912212372, 0.3647538721561432, 0.33602458238601685, 0.30918648838996887, 0.28254491090774536, 0.2512475252151489, 0.2306671440601349, 0.21516981720924377, 0.20396526157855988, 0.19631342589855194, 0.1883808970451355, 0.1810692846775055, 0.1749902069568634, 0.16963620483875275, 0.1649259775876999, 0.16940152645111084, 0.17109040915966034, 0.17137984931468964, 0.17011216282844543, 0.16433463990688324, 0.15979371964931488, 0.1556660681962967, 0.15275079011917114, 0.15000300109386444, 0.14752422273159027, 0.14520178735256195, 0.14376388490200043, 0.1428757607936859, 0.14216765761375427, 0.140296071767807, 0.138283371925354, 0.1358296275138855, 0.13327495753765106, 0.13242226839065552, 0.13966451585292816, 0.14552168548107147, 0.1500406116247177, 0.15403008460998535, 0.15695388615131378, 0.15885739028453827, 0.16110216081142426, 0.16119839251041412, 0.15970245003700256, 0.15937474370002747, 0.15887415409088135, 0.1586562991142273, 0.161526158452034, 0.1645573079586029, 0.1674835979938507, 0.1700190156698227, 0.17217178642749786, 0.17369739711284637, 0.17365321516990662, 0.1742560863494873, 0.1703118234872818, 0.17151980102062225, 0.17243051528930664, 0.17222562432289124, 0.1681535691022873, 0.16413035988807678, 0.15951970219612122, 0.1555122286081314, 0.15381509065628052, 0.15200550854206085, 0.15026192367076874, 0.14861033856868744, 0.1473102569580078, 0.1465323269367218, 0.14704552292823792, 0.14734576642513275, 0.1475629210472107, 0.147636279463768, 0.14768825471401215, 0.14768634736537933, 0.14778272807598114, 0.14789526164531708, 0.14790473878383636, 0.14780215919017792, 0.14893783628940582, 0.14976191520690918, 0.1479286104440689, 0.14438410103321075, 0.13660156726837158] validation total loss: [1.3912525177001953, 1.409332036972046, 1.4532010555267334, 1.475083351135254, 1.463194489479065, 1.4554575681686401, 1.4492406845092773, 1.4294353723526, 1.406160831451416, 1.3668982982635498, 1.3255767822265625, 1.3029483556747437, 1.2791650295257568, 1.2525036334991455, 1.2219258546829224, 1.1651687622070312, 1.1301202774047852, 1.0918352603912354, 1.0651631355285645, 1.0358071327209473, 1.0083811283111572, 0.981940507888794, 0.9511846899986267, 0.9303532838821411, 0.9142022132873535, 0.9022513628005981, 0.8938062191009521, 0.8861526846885681, 0.8789598941802979, 0.8728491067886353, 0.867505669593811, 0.8628029823303223, 0.8670058846473694, 0.867929220199585, 0.8678388595581055, 0.8662478923797607, 0.8604225516319275, 0.8561469316482544, 0.851973831653595, 0.8490488529205322, 0.84634929895401, 0.8438681960105896, 0.8414682745933533, 0.839888870716095, 0.8387675285339355, 0.8379398584365845, 0.8342689275741577, 0.8311474919319153, 0.8242278695106506, 0.8194321393966675, 0.8174811601638794, 0.8257896304130554, 0.8322921395301819, 0.837526261806488, 0.842786431312561, 0.8470783233642578, 0.8499625325202942, 0.8524749875068665, 0.8513900637626648, 0.8469961881637573, 0.8458936214447021, 0.8449128270149231, 0.844303548336029, 0.8471376299858093, 0.850373387336731, 0.8535854816436768, 0.8566029667854309, 0.8591484427452087, 0.8610502481460571, 0.861132025718689, 0.8620865941047668, 0.8584441542625427, 0.8625003695487976, 0.8658418655395508, 0.8675838708877563, 0.8656320571899414, 0.8630136251449585, 0.8594489097595215, 0.8560514450073242, 0.854744017124176, 0.8530606627464294, 0.8510674834251404, 0.8491679430007935, 0.8474810719490051, 0.8462786674499512, 0.8465132713317871, 0.8466522097587585, 0.8469027280807495, 0.8471159934997559, 0.8474059700965881, 0.8476894497871399, 0.848031759262085, 0.8484319448471069, 0.8486887812614441, 0.8475275039672852, 0.8483782410621643, 0.8490886092185974, 0.8467349410057068, 0.8432313203811646, 0.835811972618103] validation accuracy: [0.2, 0.25, 0.3, 0.25, 0.3, 0.3, 0.25, 0.25, 0.25, 0.25, 0.25, 0.25, 0.25, 0.25, 0.25, 0.25, 0.25, 0.25, 0.25, 0.25, 0.25, 0.25, 0.25, 0.25, 0.25, 0.25, 0.25, 0.25, 0.25, 0.25, 0.25, 0.25, 0.25, 0.25, 0.25, 0.25, 0.25, 0.25, 0.2, 0.2, 0.2, 0.2, 0.2, 0.2, 0.2, 0.2, 0.2, 0.25, 0.2, 0.2, 0.2, 0.2, 0.2, 0.2, 0.2, 0.2, 0.2, 0.2, 0.2, 0.2, 0.2, 0.2, 0.2, 0.2, 0.2, 0.2, 0.2, 0.2, 0.2, 0.2, 0.2, 0.2, 0.2, 0.2, 0.2, 0.2, 0.2, 0.2, 0.2, 0.2, 0.2, 0.2, 0.2, 0.2, 0.2, 0.2, 0.2, 0.2, 0.2, 0.2, 0.2, 0.2, 0.2, 0.2, 0.2, 0.2, 0.2, 0.2, 0.2, 0.25]\n"
     ]
    },
    {
     "data": {
      "text/html": [
       "Finishing last run (ID:fh5l96vc) before initializing another..."
      ],
      "text/plain": [
       "<IPython.core.display.HTML object>"
      ]
     },
     "metadata": {},
     "output_type": "display_data"
    },
    {
     "data": {
      "text/html": [
       "Waiting for W&B process to finish... <strong style=\"color:green\">(success).</strong>"
      ],
      "text/plain": [
       "<IPython.core.display.HTML object>"
      ]
     },
     "metadata": {},
     "output_type": "display_data"
    },
    {
     "data": {
      "text/html": [
       "<style>\n",
       "    table.wandb td:nth-child(1) { padding: 0 10px; text-align: left ; width: auto;} td:nth-child(2) {text-align: left ; width: 100%}\n",
       "    .wandb-row { display: flex; flex-direction: row; flex-wrap: wrap; justify-content: flex-start; width: 100% }\n",
       "    .wandb-col { display: flex; flex-direction: column; flex-basis: 100%; flex: 1; padding: 10px; }\n",
       "    </style>\n",
       "<div class=\"wandb-row\"><div class=\"wandb-col\"><h3>Run history:</h3><br/><table class=\"wandb\"><tr><td>latent separation accuracy</td><td>▁▁▁▁▁▁▁▁▁▁▁▁▁▁▁▁▁▁▁▁▁▁▁▁▁▁▁▁▁▁▁▁▁▁▁▁▁▁▁▁</td></tr><tr><td>total train loss</td><td>█▂▁▁▁▁▁▁▁▁▁▁▁▁▁▁▁▁▁▁▁▁▁▁▁▁▁▁▁▁▁▁▁▁▁▁▁▁▁▁</td></tr><tr><td>total validation loss</td><td>▇███▇▆▅▄▃▂▂▂▂▂▂▁▁▁▁▁▁▁▁▁▁▁▁▁▁▂▁▁▁▁▁▁▁▁▁▁</td></tr><tr><td>train label accuracy</td><td>▂▃▅▆▅▃█▇▅▅▄▃▄▄▄▄▄▅▄▃▁▁▁▃▄▄▅▄▄▅▆▅▃▂▂▂▂▂▃▃</td></tr><tr><td>train label loss</td><td>█▇▄▃▃▃▄▄▄▄▄▄▄▄▄▄▄▄▄▃▃▂▂▁▁▂▂▂▃▃▄▅▅▅▅▅▅▅▅▅</td></tr><tr><td>train triplet loss</td><td>█▂▁▁▁▁▁▁▁▁▁▁▁▁▁▁▁▁▁▁▁▁▁▁▁▁▁▁▁▁▁▁▁▁▁▁▁▁▁▁</td></tr><tr><td>validation label accuracy</td><td>▁██▄▄▄▄▄▄▄▄▄▄▄▄▁▁▁▁▁▁▁▁▁▁▁▁▁▁▁▁▁▁▁▁▁▁▁▁▄</td></tr><tr><td>validation label loss</td><td>▅██▆▂▁▃▅▅▅▄▄▄▄▄▄▄▄▄▂▂▂▃▃▂▂▂▂▂▃▅▅▅▅▅▅▅▅▅▅</td></tr><tr><td>validation triplet loss</td><td>▇███▇▆▅▄▃▂▂▂▁▁▁▁▁▁▁▁▁▁▁▁▁▁▁▁▁▁▁▁▁▁▁▁▁▁▁▁</td></tr></table><br/></div><div class=\"wandb-col\"><h3>Run summary:</h3><br/><table class=\"wandb\"><tr><td>latent separation accuracy</td><td>1.0</td></tr><tr><td>total train loss</td><td>0.69824</td></tr><tr><td>total validation loss</td><td>0.83581</td></tr><tr><td>train label accuracy</td><td>0.24</td></tr><tr><td>train label loss</td><td>0.69802</td></tr><tr><td>train triplet loss</td><td>0.00023</td></tr><tr><td>validation label accuracy</td><td>0.25</td></tr><tr><td>validation label loss</td><td>0.69921</td></tr><tr><td>validation triplet loss</td><td>0.1366</td></tr></table><br/></div></div>"
      ],
      "text/plain": [
       "<IPython.core.display.HTML object>"
      ]
     },
     "metadata": {},
     "output_type": "display_data"
    },
    {
     "data": {
      "text/html": [
       " View run <strong style=\"color:#cdcd00\">skilled-butterfly-312</strong> at: <a href='https://wandb.ai/psych-711/ConceptualAlignment2023/runs/fh5l96vc' target=\"_blank\">https://wandb.ai/psych-711/ConceptualAlignment2023/runs/fh5l96vc</a><br/>Synced 6 W&B file(s), 0 media file(s), 0 artifact file(s) and 0 other file(s)"
      ],
      "text/plain": [
       "<IPython.core.display.HTML object>"
      ]
     },
     "metadata": {},
     "output_type": "display_data"
    },
    {
     "data": {
      "text/html": [
       "Find logs at: <code>./wandb/run-20231005_175519-fh5l96vc/logs</code>"
      ],
      "text/plain": [
       "<IPython.core.display.HTML object>"
      ]
     },
     "metadata": {},
     "output_type": "display_data"
    },
    {
     "data": {
      "text/html": [
       "Successfully finished last run (ID:fh5l96vc). Initializing new run:<br/>"
      ],
      "text/plain": [
       "<IPython.core.display.HTML object>"
      ]
     },
     "metadata": {},
     "output_type": "display_data"
    },
    {
     "data": {
      "application/vnd.jupyter.widget-view+json": {
       "model_id": "fdc8d22525e3442f9e4f00a08b1a21e9",
       "version_major": 2,
       "version_minor": 0
      },
      "text/plain": [
       "VBox(children=(Label(value='Waiting for wandb.init()...\\r'), FloatProgress(value=0.016668622738992174, max=1.0…"
      ]
     },
     "metadata": {},
     "output_type": "display_data"
    },
    {
     "data": {
      "text/html": [
       "wandb version 0.15.12 is available!  To upgrade, please run:\n",
       " $ pip install wandb --upgrade"
      ],
      "text/plain": [
       "<IPython.core.display.HTML object>"
      ]
     },
     "metadata": {},
     "output_type": "display_data"
    },
    {
     "data": {
      "text/html": [
       "Tracking run with wandb version 0.14.2"
      ],
      "text/plain": [
       "<IPython.core.display.HTML object>"
      ]
     },
     "metadata": {},
     "output_type": "display_data"
    },
    {
     "data": {
      "text/html": [
       "Run data is saved locally in <code>/mnt/home/kmukherjee/repos/ConceptualAlignmentLanguage/code/python/wandb/run-20231005_175531-xo17j51t</code>"
      ],
      "text/plain": [
       "<IPython.core.display.HTML object>"
      ]
     },
     "metadata": {},
     "output_type": "display_data"
    },
    {
     "data": {
      "text/html": [
       "Syncing run <strong><a href='https://wandb.ai/psych-711/ConceptualAlignment2023/runs/xo17j51t' target=\"_blank\">good-vortex-313</a></strong> to <a href='https://wandb.ai/psych-711/ConceptualAlignment2023' target=\"_blank\">Weights & Biases</a> (<a href='https://wandb.me/run' target=\"_blank\">docs</a>)<br/>"
      ],
      "text/plain": [
       "<IPython.core.display.HTML object>"
      ]
     },
     "metadata": {},
     "output_type": "display_data"
    },
    {
     "data": {
      "text/html": [
       " View project at <a href='https://wandb.ai/psych-711/ConceptualAlignment2023' target=\"_blank\">https://wandb.ai/psych-711/ConceptualAlignment2023</a>"
      ],
      "text/plain": [
       "<IPython.core.display.HTML object>"
      ]
     },
     "metadata": {},
     "output_type": "display_data"
    },
    {
     "data": {
      "text/html": [
       " View run at <a href='https://wandb.ai/psych-711/ConceptualAlignment2023/runs/xo17j51t' target=\"_blank\">https://wandb.ai/psych-711/ConceptualAlignment2023/runs/xo17j51t</a>"
      ],
      "text/plain": [
       "<IPython.core.display.HTML object>"
      ]
     },
     "metadata": {},
     "output_type": "display_data"
    },
    {
     "name": "stderr",
     "output_type": "stream",
     "text": [
      "100%|██████████| 100/100 [00:01<00:00, 53.37it/s]\n",
      " 67%|██████▋   | 2/3 [00:23<00:11, 11.89s/it]/mnt/ws/home/kmukherjee/miniconda3/envs/sketch_tools/lib/python3.8/site-packages/wandb/sdk/wandb_run.py:2087: UserWarning: Run (v92hbmr5) is finished. The call to `_console_raw_callback` will be ignored. Please make sure that you are using an active run.\n",
      "  lambda data: self._console_raw_callback(\"stderr\", data),\n"
     ]
    },
    {
     "name": "stdout",
     "output_type": "stream",
     "text": [
      "validation triplet loss: [0.717011034488678, 0.6571634411811829, 0.6628132462501526, 0.7474359273910522, 0.7815057635307312, 0.7653582692146301, 0.7787677645683289, 0.8108820915222168, 0.8273323178291321, 0.8200744986534119, 0.8192340731620789, 0.7854527831077576, 0.796424388885498, 0.7415935397148132, 0.6586242914199829, 0.5785452723503113, 0.5439600944519043, 0.5040408968925476, 0.461495965719223, 0.43683919310569763, 0.4102462828159332, 0.4273488521575928, 0.44714757800102234, 0.46269771456718445, 0.4597838521003723, 0.44557735323905945, 0.4284621775150299, 0.4090920388698578, 0.3908904194831848, 0.37397700548171997, 0.3584934175014496, 0.3422435224056244, 0.32800257205963135, 0.3159603774547577, 0.30444082617759705, 0.29563990235328674, 0.2901129722595215, 0.28640174865722656, 0.283823698759079, 0.28202688694000244, 0.28093451261520386, 0.28074994683265686, 0.2806389331817627, 0.2804272770881653, 0.2800767123699188, 0.2797726094722748, 0.27946868538856506, 0.27925145626068115, 0.2789745628833771, 0.2787030339241028, 0.2784566581249237, 0.27822375297546387, 0.2781677842140198, 0.27830126881599426, 0.27847933769226074, 0.27872034907341003, 0.2788807451725006, 0.2790323793888092, 0.2791022062301636, 0.2791595160961151, 0.27921417355537415, 0.2793169915676117, 0.2793872356414795, 0.27948296070098877, 0.2795911729335785, 0.2797059714794159, 0.2798304855823517, 0.27997466921806335, 0.2801169753074646, 0.2802591919898987, 0.28036069869995117, 0.28041374683380127, 0.2804529666900635, 0.2804729640483856, 0.2804952561855316, 0.28048717975616455, 0.28049856424331665, 0.28053078055381775, 0.28057774901390076, 0.28064605593681335, 0.2806919515132904, 0.2807084619998932, 0.2807218134403229, 0.2807161509990692, 0.28069624304771423, 0.2806651294231415, 0.2806210219860077, 0.2805827558040619, 0.2805481255054474, 0.2805265188217163, 0.28049856424331665, 0.2804630696773529, 0.28044238686561584, 0.2804318070411682, 0.2803943157196045, 0.2803718149662018, 0.2803492248058319, 0.28030893206596375, 0.2802690267562866, 0.28023213148117065] validation total loss: [1.3303217887878418, 1.2051008939743042, 1.2020267248153687, 1.3635082244873047, 1.4573360681533813, 1.4375081062316895, 1.5163493156433105, 1.6893178224563599, 1.809708595275879, 1.783447265625, 1.7585341930389404, 1.598249912261963, 1.7081949710845947, 1.4709303379058838, 1.17029869556427, 0.9873735904693604, 0.8749532699584961, 0.7959741353988647, 0.6664789319038391, 0.5859817862510681, 0.5528643727302551, 0.5745107531547546, 0.689039945602417, 0.8259980082511902, 0.8244253396987915, 0.7020422220230103, 0.5587459206581116, 0.4786709249019623, 0.4376400113105774, 0.40822267532348633, 0.38212770223617554, 0.3567727506160736, 0.33550769090652466, 0.3209300935268402, 0.3084663152694702, 0.29899799823760986, 0.29277971386909485, 0.2883727252483368, 0.28530576825141907, 0.28314754366874695, 0.2817423641681671, 0.28133729100227356, 0.2811056673526764, 0.28084948658943176, 0.28053614497184753, 0.28036779165267944, 0.28039222955703735, 0.28093421459198, 0.2820987105369568, 0.2841047942638397, 0.286729097366333, 0.2895398736000061, 0.29225286841392517, 0.2944536805152893, 0.29640626907348633, 0.29776883125305176, 0.2989838719367981, 0.30055975914001465, 0.3021327257156372, 0.3040384352207184, 0.3068544864654541, 0.310189425945282, 0.3135760724544525, 0.3168260157108307, 0.31980961561203003, 0.3220427930355072, 0.3238789737224579, 0.3246253728866577, 0.32443708181381226, 0.32377365231513977, 0.3226637840270996, 0.32165223360061646, 0.32111606001853943, 0.3209156394004822, 0.32098138332366943, 0.3213405907154083, 0.32184603810310364, 0.32248836755752563, 0.32315704226493835, 0.3239023983478546, 0.3242959976196289, 0.32419243454933167, 0.32387736439704895, 0.3232938051223755, 0.3226286470890045, 0.3220473825931549, 0.3213825821876526, 0.3209352493286133, 0.3211084306240082, 0.3212376534938812, 0.3213560879230499, 0.3215680718421936, 0.3215630054473877, 0.321468710899353, 0.32146042585372925, 0.3211081624031067, 0.32070785760879517, 0.3203927278518677, 0.32003265619277954, 0.319989949464798] validation accuracy: [0.5, 0.35, 0.3, 0.3, 0.25, 0.25, 0.25, 0.25, 0.25, 0.25, 0.25, 0.45, 0.4, 0.5, 0.6, 0.7, 0.7, 0.8, 0.8, 0.85, 0.9, 0.85, 0.85, 0.75, 0.75, 0.75, 0.9, 0.95, 0.95, 0.95, 1.0, 1.0, 1.0, 1.0, 1.0, 1.0, 1.0, 1.0, 1.0, 1.0, 1.0, 1.0, 1.0, 1.0, 1.0, 1.0, 1.0, 1.0, 1.0, 1.0, 1.0, 1.0, 1.0, 1.0, 1.0, 1.0, 1.0, 1.0, 1.0, 1.0, 1.0, 1.0, 1.0, 1.0, 1.0, 1.0, 1.0, 1.0, 1.0, 1.0, 1.0, 1.0, 1.0, 1.0, 1.0, 1.0, 1.0, 1.0, 1.0, 1.0, 1.0, 1.0, 1.0, 1.0, 1.0, 1.0, 1.0, 1.0, 1.0, 1.0, 1.0, 1.0, 1.0, 1.0, 1.0, 1.0, 1.0, 1.0, 1.0, 1.0]\n"
     ]
    },
    {
     "data": {
      "text/html": [
       "Finishing last run (ID:xo17j51t) before initializing another..."
      ],
      "text/plain": [
       "<IPython.core.display.HTML object>"
      ]
     },
     "metadata": {},
     "output_type": "display_data"
    },
    {
     "data": {
      "text/html": [
       "Waiting for W&B process to finish... <strong style=\"color:green\">(success).</strong>"
      ],
      "text/plain": [
       "<IPython.core.display.HTML object>"
      ]
     },
     "metadata": {},
     "output_type": "display_data"
    },
    {
     "data": {
      "text/html": [
       "<style>\n",
       "    table.wandb td:nth-child(1) { padding: 0 10px; text-align: left ; width: auto;} td:nth-child(2) {text-align: left ; width: 100%}\n",
       "    .wandb-row { display: flex; flex-direction: row; flex-wrap: wrap; justify-content: flex-start; width: 100% }\n",
       "    .wandb-col { display: flex; flex-direction: column; flex-basis: 100%; flex: 1; padding: 10px; }\n",
       "    </style>\n",
       "<div class=\"wandb-row\"><div class=\"wandb-col\"><h3>Run history:</h3><br/><table class=\"wandb\"><tr><td>latent separation accuracy</td><td>▁▁▁▁▁▁▁▁▁▁▁▁▁▁▁▁▁▁▁▁▁▁▁▁▁▁▁▁▁▁▁▁▁▁▁▁▁▁▁▁</td></tr><tr><td>total train loss</td><td>██▆▅▃▂▁▁▁▁▁▁▁▁▁▁▁▁▁▁▁▁▁▁▁▁▁▁▁▁▁▁▁▁▁▁▁▁▁▁</td></tr><tr><td>total validation loss</td><td>▆▅▆███▄▃▂▃▃▂▁▁▁▁▁▁▁▁▁▁▁▁▁▁▁▁▁▁▁▁▁▁▁▁▁▁▁▁</td></tr><tr><td>train label accuracy</td><td>▁▃▆▇▇███████████████████████████████████</td></tr><tr><td>train label loss</td><td>█▆▅▄▂▂▁▁▁▁▁▁▁▁▁▁▁▁▁▁▁▁▁▁▁▁▁▁▁▁▁▁▁▁▁▁▁▁▁▁</td></tr><tr><td>train triplet loss</td><td>▂██▅▃▂▁▁▁▁▂▂▁▁▂▂▂▂▂▂▂▂▂▂▂▂▂▂▂▂▂▂▂▂▂▂▂▂▂▂</td></tr><tr><td>validation label accuracy</td><td>▃▁▁▁▁▂▅▆▇▇▆█████████████████████████████</td></tr><tr><td>validation label loss</td><td>▆▅▆███▄▃▂▃▃▂▁▁▁▁▁▁▁▁▁▁▁▁▁▁▁▁▁▁▁▁▁▁▁▁▁▁▁▁</td></tr><tr><td>validation triplet loss</td><td>▇▆▇███▅▄▃▃▃▃▂▁▁▁▁▁▁▁▁▁▁▁▁▁▁▁▁▁▁▁▁▁▁▁▁▁▁▁</td></tr></table><br/></div><div class=\"wandb-col\"><h3>Run summary:</h3><br/><table class=\"wandb\"><tr><td>latent separation accuracy</td><td>1.0</td></tr><tr><td>total train loss</td><td>0.23162</td></tr><tr><td>total validation loss</td><td>0.31999</td></tr><tr><td>train label accuracy</td><td>1.0</td></tr><tr><td>train label loss</td><td>0.0</td></tr><tr><td>train triplet loss</td><td>0.23162</td></tr><tr><td>validation label accuracy</td><td>1.0</td></tr><tr><td>validation label loss</td><td>0.03976</td></tr><tr><td>validation triplet loss</td><td>0.28023</td></tr></table><br/></div></div>"
      ],
      "text/plain": [
       "<IPython.core.display.HTML object>"
      ]
     },
     "metadata": {},
     "output_type": "display_data"
    },
    {
     "data": {
      "text/html": [
       " View run <strong style=\"color:#cdcd00\">good-vortex-313</strong> at: <a href='https://wandb.ai/psych-711/ConceptualAlignment2023/runs/xo17j51t' target=\"_blank\">https://wandb.ai/psych-711/ConceptualAlignment2023/runs/xo17j51t</a><br/>Synced 6 W&B file(s), 0 media file(s), 0 artifact file(s) and 0 other file(s)"
      ],
      "text/plain": [
       "<IPython.core.display.HTML object>"
      ]
     },
     "metadata": {},
     "output_type": "display_data"
    },
    {
     "data": {
      "text/html": [
       "Find logs at: <code>./wandb/run-20231005_175531-xo17j51t/logs</code>"
      ],
      "text/plain": [
       "<IPython.core.display.HTML object>"
      ]
     },
     "metadata": {},
     "output_type": "display_data"
    },
    {
     "data": {
      "text/html": [
       "Successfully finished last run (ID:xo17j51t). Initializing new run:<br/>"
      ],
      "text/plain": [
       "<IPython.core.display.HTML object>"
      ]
     },
     "metadata": {},
     "output_type": "display_data"
    },
    {
     "data": {
      "application/vnd.jupyter.widget-view+json": {
       "model_id": "97db552414dc4aceb81e3c6c255d19e7",
       "version_major": 2,
       "version_minor": 0
      },
      "text/plain": [
       "VBox(children=(Label(value='Waiting for wandb.init()...\\r'), FloatProgress(value=0.016668478026986122, max=1.0…"
      ]
     },
     "metadata": {},
     "output_type": "display_data"
    },
    {
     "data": {
      "text/html": [
       "wandb version 0.15.12 is available!  To upgrade, please run:\n",
       " $ pip install wandb --upgrade"
      ],
      "text/plain": [
       "<IPython.core.display.HTML object>"
      ]
     },
     "metadata": {},
     "output_type": "display_data"
    },
    {
     "data": {
      "text/html": [
       "Tracking run with wandb version 0.14.2"
      ],
      "text/plain": [
       "<IPython.core.display.HTML object>"
      ]
     },
     "metadata": {},
     "output_type": "display_data"
    },
    {
     "data": {
      "text/html": [
       "Run data is saved locally in <code>/mnt/home/kmukherjee/repos/ConceptualAlignmentLanguage/code/python/wandb/run-20231005_175543-9jien3lc</code>"
      ],
      "text/plain": [
       "<IPython.core.display.HTML object>"
      ]
     },
     "metadata": {},
     "output_type": "display_data"
    },
    {
     "data": {
      "text/html": [
       "Syncing run <strong><a href='https://wandb.ai/psych-711/ConceptualAlignment2023/runs/9jien3lc' target=\"_blank\">polished-energy-314</a></strong> to <a href='https://wandb.ai/psych-711/ConceptualAlignment2023' target=\"_blank\">Weights & Biases</a> (<a href='https://wandb.me/run' target=\"_blank\">docs</a>)<br/>"
      ],
      "text/plain": [
       "<IPython.core.display.HTML object>"
      ]
     },
     "metadata": {},
     "output_type": "display_data"
    },
    {
     "data": {
      "text/html": [
       " View project at <a href='https://wandb.ai/psych-711/ConceptualAlignment2023' target=\"_blank\">https://wandb.ai/psych-711/ConceptualAlignment2023</a>"
      ],
      "text/plain": [
       "<IPython.core.display.HTML object>"
      ]
     },
     "metadata": {},
     "output_type": "display_data"
    },
    {
     "data": {
      "text/html": [
       " View run at <a href='https://wandb.ai/psych-711/ConceptualAlignment2023/runs/9jien3lc' target=\"_blank\">https://wandb.ai/psych-711/ConceptualAlignment2023/runs/9jien3lc</a>"
      ],
      "text/plain": [
       "<IPython.core.display.HTML object>"
      ]
     },
     "metadata": {},
     "output_type": "display_data"
    },
    {
     "name": "stderr",
     "output_type": "stream",
     "text": [
      "100%|██████████| 100/100 [00:02<00:00, 48.48it/s]\n",
      "100%|██████████| 3/3 [00:36<00:00, 12.06s/it]/mnt/ws/home/kmukherjee/miniconda3/envs/sketch_tools/lib/python3.8/site-packages/wandb/sdk/wandb_run.py:2087: UserWarning: Run (v92hbmr5) is finished. The call to `_console_raw_callback` will be ignored. Please make sure that you are using an active run.\n",
      "  lambda data: self._console_raw_callback(\"stderr\", data),\n",
      "100%|██████████| 3/3 [00:36<00:00, 12.02s/it]\n"
     ]
    },
    {
     "name": "stdout",
     "output_type": "stream",
     "text": [
      "validation triplet loss: [0.6613699793815613, 0.7009269595146179, 0.7252092361450195, 0.7352169156074524, 0.7378575205802917, 0.7371872067451477, 0.7127805948257446, 0.678843080997467, 0.6580721139907837, 0.647397518157959, 0.6183987855911255, 0.6181268692016602, 0.6007515788078308, 0.5636969208717346, 0.5364000201225281, 0.44572553038597107, 0.31981033086776733, 0.24118678271770477, 0.21783292293548584, 0.20950432121753693, 0.19672775268554688, 0.17871655523777008, 0.16035225987434387, 0.1440620720386505, 0.13067467510700226, 0.12139850109815598, 0.11535787582397461, 0.1074923425912857, 0.10374647378921509, 0.10034873336553574, 0.09947105497121811, 0.10333137959241867, 0.1051860973238945, 0.10651091486215591, 0.10722514241933823, 0.1087685376405716, 0.10912847518920898, 0.10915582627058029, 0.11037792265415192, 0.11113428324460983, 0.10635107010602951, 0.10199394077062607, 0.09799255430698395, 0.0945354476571083, 0.0910024642944336, 0.08765565603971481, 0.0876249223947525, 0.08832412958145142, 0.0901084840297699, 0.0888008251786232, 0.08820987492799759, 0.08768675476312637, 0.08677079528570175, 0.08607134968042374, 0.08538084477186203, 0.0858646109700203, 0.08677222579717636, 0.08827130496501923, 0.08970118314027786, 0.09116461127996445, 0.09199155867099762, 0.09251894801855087, 0.09291061758995056, 0.0931003987789154, 0.09329072386026382, 0.09336533397436142, 0.09334993362426758, 0.09327270835638046, 0.09319637715816498, 0.0931631326675415, 0.09304293245077133, 0.09287445992231369, 0.09537642449140549, 0.09780023992061615, 0.10002484172582626, 0.10163038223981857, 0.10241619497537613, 0.1020205020904541, 0.10110943764448166, 0.1000300869345665, 0.09917014837265015, 0.09850605577230453, 0.0979740247130394, 0.09747109562158585, 0.09685686230659485, 0.09619705379009247, 0.09542552381753922, 0.09460238367319107, 0.09378266334533691, 0.09301938861608505, 0.09229037910699844, 0.09157991409301758, 0.09094346314668655, 0.09039070457220078, 0.08985301852226257, 0.0893256887793541, 0.08886224031448364, 0.08835237473249435, 0.08789805322885513, 0.08751577138900757] validation total loss: [1.3260127305984497, 1.3416719436645508, 1.3422014713287354, 1.3222575187683105, 1.314868450164795, 1.3196990489959717, 1.2784723043441772, 1.1969869136810303, 1.1374338865280151, 1.0916779041290283, 1.0212101936340332, 1.02881920337677, 1.0360124111175537, 1.0236327648162842, 0.9974426031112671, 0.839236319065094, 0.6497809290885925, 0.5020068883895874, 0.4465421438217163, 0.4440670609474182, 0.42579513788223267, 0.3677663207054138, 0.2961193919181824, 0.23020337522029877, 0.17819051444530487, 0.1472252458333969, 0.13264891505241394, 0.12185929715633392, 0.11686654388904572, 0.11115510016679764, 0.10856683552265167, 0.1112133041024208, 0.11061142385005951, 0.11092574894428253, 0.11208927631378174, 0.11672714352607727, 0.12152174860239029, 0.12778130173683167, 0.1399838775396347, 0.16518598794937134, 0.21647131443023682, 0.25543710589408875, 0.27428460121154785, 0.28230705857276917, 0.2827010750770569, 0.2798788845539093, 0.2310796082019806, 0.197334885597229, 0.17243441939353943, 0.16613885760307312, 0.1569003313779831, 0.14566943049430847, 0.1341070979833603, 0.12433292716741562, 0.11633113026618958, 0.1198243498802185, 0.11450263857841492, 0.11308831721544266, 0.11539459973573685, 0.11969316750764847, 0.1228136420249939, 0.12517590820789337, 0.12725763022899628, 0.12850648164749146, 0.12981513142585754, 0.13106776773929596, 0.1326921582221985, 0.13477125763893127, 0.13755229115486145, 0.14081911742687225, 0.14355099201202393, 0.14599382877349854, 0.14936186373233795, 0.15860694646835327, 0.16920852661132812, 0.17723587155342102, 0.17953571677207947, 0.17213475704193115, 0.1624537706375122, 0.15409749746322632, 0.15015985071659088, 0.15116631984710693, 0.1556594967842102, 0.16131553053855896, 0.16649705171585083, 0.17145240306854248, 0.17611241340637207, 0.17972810566425323, 0.18221241235733032, 0.18421296775341034, 0.18558180332183838, 0.18651293218135834, 0.18697163462638855, 0.18741309642791748, 0.18757382035255432, 0.18755844235420227, 0.1874251365661621, 0.18701104819774628, 0.18659770488739014, 0.18634143471717834] validation accuracy: [0.25, 0.25, 0.25, 0.25, 0.25, 0.25, 0.45, 0.6, 0.55, 0.6, 0.65, 0.6, 0.6, 0.55, 0.55, 0.65, 0.75, 0.75, 0.75, 0.8, 0.8, 0.9, 0.9, 0.9, 1.0, 1.0, 1.0, 1.0, 1.0, 1.0, 1.0, 1.0, 1.0, 1.0, 1.0, 1.0, 1.0, 1.0, 0.95, 0.9, 0.9, 0.9, 0.9, 0.9, 0.9, 0.9, 0.9, 0.9, 0.95, 0.95, 0.95, 0.95, 0.95, 0.95, 0.95, 0.95, 0.95, 1.0, 1.0, 1.0, 1.0, 0.95, 0.95, 0.95, 0.95, 0.95, 0.95, 0.95, 0.95, 0.9, 0.9, 0.9, 0.95, 0.95, 0.95, 0.95, 0.95, 0.95, 0.95, 0.95, 0.9, 0.9, 0.9, 0.9, 0.9, 0.9, 0.95, 0.95, 0.95, 0.95, 0.95, 0.95, 0.95, 0.95, 0.95, 0.95, 0.95, 0.95, 0.95, 0.95]\n"
     ]
    },
    {
     "name": "stderr",
     "output_type": "stream",
     "text": [
      "  0%|          | 0/3 [00:00<?, ?it/s]"
     ]
    },
    {
     "data": {
      "text/html": [
       "Finishing last run (ID:9jien3lc) before initializing another..."
      ],
      "text/plain": [
       "<IPython.core.display.HTML object>"
      ]
     },
     "metadata": {},
     "output_type": "display_data"
    },
    {
     "data": {
      "text/html": [
       "Waiting for W&B process to finish... <strong style=\"color:green\">(success).</strong>"
      ],
      "text/plain": [
       "<IPython.core.display.HTML object>"
      ]
     },
     "metadata": {},
     "output_type": "display_data"
    },
    {
     "data": {
      "text/html": [
       "<style>\n",
       "    table.wandb td:nth-child(1) { padding: 0 10px; text-align: left ; width: auto;} td:nth-child(2) {text-align: left ; width: 100%}\n",
       "    .wandb-row { display: flex; flex-direction: row; flex-wrap: wrap; justify-content: flex-start; width: 100% }\n",
       "    .wandb-col { display: flex; flex-direction: column; flex-basis: 100%; flex: 1; padding: 10px; }\n",
       "    </style>\n",
       "<div class=\"wandb-row\"><div class=\"wandb-col\"><h3>Run history:</h3><br/><table class=\"wandb\"><tr><td>latent separation accuracy</td><td>▁▁▁▁▁▁▁▁▁▁▁▁▁▁▁▁▁▁▁▁▁▁▁▁▁▁▁▁▁▁▁▁▁▁▁▁▁▁▁▁</td></tr><tr><td>total train loss</td><td>█▆▅▄▃▂▂▁▁▁▁▁▁▁▁▁▁▁▁▁▁▁▁▁▁▁▁▁▁▁▁▁▁▁▁▁▁▁▁▁</td></tr><tr><td>total validation loss</td><td>███▇▆▆▅▃▃▂▁▁▁▁▁▁▂▂▂▁▁▁▁▁▁▁▁▁▁▁▁▁▁▁▁▁▁▁▁▁</td></tr><tr><td>train label accuracy</td><td>▁▂▄▆▇▇██████████████████████████████████</td></tr><tr><td>train label loss</td><td>█▇▆▅▄▃▂▁▁▁▁▁▁▁▁▁▁▁▁▁▁▁▁▁▁▁▁▁▁▁▁▁▁▁▁▁▁▁▁▁</td></tr><tr><td>train triplet loss</td><td>█▂▁▁▁▁▁▁▁▁▁▁▁▁▁▁▁▁▁▁▁▁▁▁▁▁▁▁▁▁▁▁▁▁▁▁▁▁▁▁</td></tr><tr><td>validation label accuracy</td><td>▁▁▁▄▅▄▅▆▆▇██████▇▇▇█████████▇███▇▇██████</td></tr><tr><td>validation label loss</td><td>█▇▇▆▅▆▅▄▃▂▁▁▁▁▁▁▂▃▃▂▂▁▁▁▁▁▁▁▂▂▂▂▂▂▂▂▂▂▂▂</td></tr><tr><td>validation triplet loss</td><td>▇██▇▇▇▅▃▂▂▁▁▁▁▁▁▁▁▁▁▁▁▁▁▁▁▁▁▁▁▁▁▁▁▁▁▁▁▁▁</td></tr></table><br/></div><div class=\"wandb-col\"><h3>Run summary:</h3><br/><table class=\"wandb\"><tr><td>latent separation accuracy</td><td>1.0</td></tr><tr><td>total train loss</td><td>0.0</td></tr><tr><td>total validation loss</td><td>0.18634</td></tr><tr><td>train label accuracy</td><td>1.0</td></tr><tr><td>train label loss</td><td>0.0</td></tr><tr><td>train triplet loss</td><td>0.0</td></tr><tr><td>validation label accuracy</td><td>0.95</td></tr><tr><td>validation label loss</td><td>0.09883</td></tr><tr><td>validation triplet loss</td><td>0.08752</td></tr></table><br/></div></div>"
      ],
      "text/plain": [
       "<IPython.core.display.HTML object>"
      ]
     },
     "metadata": {},
     "output_type": "display_data"
    },
    {
     "data": {
      "text/html": [
       " View run <strong style=\"color:#cdcd00\">polished-energy-314</strong> at: <a href='https://wandb.ai/psych-711/ConceptualAlignment2023/runs/9jien3lc' target=\"_blank\">https://wandb.ai/psych-711/ConceptualAlignment2023/runs/9jien3lc</a><br/>Synced 6 W&B file(s), 0 media file(s), 0 artifact file(s) and 0 other file(s)"
      ],
      "text/plain": [
       "<IPython.core.display.HTML object>"
      ]
     },
     "metadata": {},
     "output_type": "display_data"
    },
    {
     "data": {
      "text/html": [
       "Find logs at: <code>./wandb/run-20231005_175543-9jien3lc/logs</code>"
      ],
      "text/plain": [
       "<IPython.core.display.HTML object>"
      ]
     },
     "metadata": {},
     "output_type": "display_data"
    },
    {
     "data": {
      "text/html": [
       "Successfully finished last run (ID:9jien3lc). Initializing new run:<br/>"
      ],
      "text/plain": [
       "<IPython.core.display.HTML object>"
      ]
     },
     "metadata": {},
     "output_type": "display_data"
    },
    {
     "data": {
      "application/vnd.jupyter.widget-view+json": {
       "model_id": "43a83888a81d4cd0a5b5fac7f038d915",
       "version_major": 2,
       "version_minor": 0
      },
      "text/plain": [
       "VBox(children=(Label(value='Waiting for wandb.init()...\\r'), FloatProgress(value=0.016668535101537905, max=1.0…"
      ]
     },
     "metadata": {},
     "output_type": "display_data"
    },
    {
     "data": {
      "text/html": [
       "wandb version 0.15.12 is available!  To upgrade, please run:\n",
       " $ pip install wandb --upgrade"
      ],
      "text/plain": [
       "<IPython.core.display.HTML object>"
      ]
     },
     "metadata": {},
     "output_type": "display_data"
    },
    {
     "data": {
      "text/html": [
       "Tracking run with wandb version 0.14.2"
      ],
      "text/plain": [
       "<IPython.core.display.HTML object>"
      ]
     },
     "metadata": {},
     "output_type": "display_data"
    },
    {
     "data": {
      "text/html": [
       "Run data is saved locally in <code>/mnt/home/kmukherjee/repos/ConceptualAlignmentLanguage/code/python/wandb/run-20231005_175555-st3024zo</code>"
      ],
      "text/plain": [
       "<IPython.core.display.HTML object>"
      ]
     },
     "metadata": {},
     "output_type": "display_data"
    },
    {
     "data": {
      "text/html": [
       "Syncing run <strong><a href='https://wandb.ai/psych-711/ConceptualAlignment2023/runs/st3024zo' target=\"_blank\">ethereal-snow-315</a></strong> to <a href='https://wandb.ai/psych-711/ConceptualAlignment2023' target=\"_blank\">Weights & Biases</a> (<a href='https://wandb.me/run' target=\"_blank\">docs</a>)<br/>"
      ],
      "text/plain": [
       "<IPython.core.display.HTML object>"
      ]
     },
     "metadata": {},
     "output_type": "display_data"
    },
    {
     "data": {
      "text/html": [
       " View project at <a href='https://wandb.ai/psych-711/ConceptualAlignment2023' target=\"_blank\">https://wandb.ai/psych-711/ConceptualAlignment2023</a>"
      ],
      "text/plain": [
       "<IPython.core.display.HTML object>"
      ]
     },
     "metadata": {},
     "output_type": "display_data"
    },
    {
     "data": {
      "text/html": [
       " View run at <a href='https://wandb.ai/psych-711/ConceptualAlignment2023/runs/st3024zo' target=\"_blank\">https://wandb.ai/psych-711/ConceptualAlignment2023/runs/st3024zo</a>"
      ],
      "text/plain": [
       "<IPython.core.display.HTML object>"
      ]
     },
     "metadata": {},
     "output_type": "display_data"
    },
    {
     "name": "stderr",
     "output_type": "stream",
     "text": [
      "100%|██████████| 100/100 [00:02<00:00, 44.94it/s]\n",
      " 33%|███▎      | 1/3 [00:12<00:24, 12.23s/it]/mnt/ws/home/kmukherjee/miniconda3/envs/sketch_tools/lib/python3.8/site-packages/wandb/sdk/wandb_run.py:2087: UserWarning: Run (9jien3lc) is finished. The call to `_console_raw_callback` will be ignored. Please make sure that you are using an active run.\n",
      "  lambda data: self._console_raw_callback(\"stderr\", data),\n"
     ]
    },
    {
     "name": "stdout",
     "output_type": "stream",
     "text": [
      "validation triplet loss: [0.6839104890823364, 0.6448492407798767, 0.6723971962928772, 0.7409624457359314, 0.7440465092658997, 0.7230227589607239, 0.7094215154647827, 0.6722870469093323, 0.6279004216194153, 0.6074097752571106, 0.5867446660995483, 0.5618500709533691, 0.5326198935508728, 0.4934861660003662, 0.455679327249527, 0.42093706130981445, 0.3932177722454071, 0.36650416254997253, 0.3538811206817627, 0.3336886167526245, 0.3160078823566437, 0.3013678193092346, 0.2920849919319153, 0.28678950667381287, 0.27480751276016235, 0.26194244623184204, 0.2525208294391632, 0.24611173570156097, 0.24094431102275848, 0.23548340797424316, 0.23320789635181427, 0.23186109960079193, 0.23058784008026123, 0.23092356324195862, 0.2334313690662384, 0.2375030368566513, 0.24788831174373627, 0.2435959428548813, 0.2323375791311264, 0.2222541868686676, 0.21754713356494904, 0.21464696526527405, 0.212448388338089, 0.2109612226486206, 0.2082439512014389, 0.20599913597106934, 0.20318809151649475, 0.2012423574924469, 0.19940400123596191, 0.19770215451717377, 0.19977539777755737, 0.19949696958065033, 0.19775895774364471, 0.19479161500930786, 0.19161324203014374, 0.18955151736736298, 0.18791945278644562, 0.18623338639736176, 0.18447117507457733, 0.18283043801784515, 0.17913252115249634, 0.17765814065933228, 0.17690208554267883, 0.17592798173427582, 0.17498625814914703, 0.17416734993457794, 0.1749059408903122, 0.17572706937789917, 0.17686989903450012, 0.17780350148677826, 0.17868803441524506, 0.17954279482364655, 0.1801275759935379, 0.1852889508008957, 0.18867777287960052, 0.19056324660778046, 0.1919163316488266, 0.1923101395368576, 0.192336305975914, 0.19214846193790436, 0.1950320452451706, 0.21447113156318665, 0.2176012545824051, 0.20136237144470215, 0.1914021074771881, 0.19238319993019104, 0.19071674346923828, 0.1843481808900833, 0.17813220620155334, 0.17540016770362854, 0.17492668330669403, 0.16651980578899384, 0.15924744307994843, 0.15488502383232117, 0.15516825020313263, 0.15349030494689941, 0.156488835811615, 0.1610170304775238, 0.1684226542711258, 0.18678613007068634] validation total loss: [1.3831045627593994, 1.337571144104004, 1.358576774597168, 1.420045018196106, 1.42008638381958, 1.394416093826294, 1.3752779960632324, 1.3363250494003296, 1.295665979385376, 1.2812466621398926, 1.2642805576324463, 1.2418169975280762, 1.2134610414505005, 1.1761572360992432, 1.141117811203003, 1.1096062660217285, 1.0851601362228394, 1.0617022514343262, 1.0538569688796997, 1.0383186340332031, 1.0230846405029297, 1.009913682937622, 1.002091646194458, 0.9992693662643433, 0.9904401302337646, 0.9810981750488281, 0.9738881587982178, 0.9676828980445862, 0.9625685811042786, 0.9563773274421692, 0.9521355628967285, 0.9509174227714539, 0.9505841135978699, 0.9518002271652222, 0.9550153017044067, 0.9577895402908325, 0.9686498045921326, 0.9635506272315979, 0.9526352882385254, 0.9427706003189087, 0.9383994340896606, 0.9356722831726074, 0.9335366487503052, 0.9321359395980835, 0.9296031594276428, 0.927541196346283, 0.9249225854873657, 0.9226951599121094, 0.9204702973365784, 0.9184380173683167, 0.920049786567688, 0.9194778800010681, 0.9169819355010986, 0.913320004940033, 0.9095486402511597, 0.9076699018478394, 0.9058547616004944, 0.9041547775268555, 0.9023501873016357, 0.9007517099380493, 0.8981059193611145, 0.8971587419509888, 0.8965617418289185, 0.8956363797187805, 0.8945608735084534, 0.8936306834220886, 0.8948260545730591, 0.8955870866775513, 0.8964834213256836, 0.8973942399024963, 0.8980676531791687, 0.8986998200416565, 0.8989432454109192, 0.9026503562927246, 0.9051790237426758, 0.9063887596130371, 0.9074855446815491, 0.9078502655029297, 0.9079476594924927, 0.9077990651130676, 0.9103198647499084, 0.9297282695770264, 0.9346390962600708, 0.9188842177391052, 0.9088910818099976, 0.9103748798370361, 0.9090909361839294, 0.904739499092102, 0.9006015062332153, 0.899493932723999, 0.9002948999404907, 0.8926963210105896, 0.8858839273452759, 0.881149172782898, 0.8806972503662109, 0.8795833587646484, 0.8831192255020142, 0.8892198801040649, 0.8975112438201904, 0.9116857647895813] validation accuracy: [0.3, 0.3, 0.3, 0.35, 0.35, 0.25, 0.25, 0.25, 0.25, 0.25, 0.25, 0.2, 0.2, 0.15, 0.1, 0.1, 0.1, 0.1, 0.1, 0.05, 0.05, 0.05, 0.1, 0.1, 0.1, 0.1, 0.15, 0.15, 0.05, 0.05, 0.05, 0.05, 0.05, 0.1, 0.1, 0.1, 0.1, 0.1, 0.15, 0.2, 0.2, 0.2, 0.2, 0.2, 0.2, 0.2, 0.15, 0.15, 0.15, 0.15, 0.15, 0.2, 0.2, 0.2, 0.2, 0.2, 0.2, 0.2, 0.2, 0.2, 0.2, 0.15, 0.15, 0.15, 0.15, 0.15, 0.1, 0.1, 0.2, 0.2, 0.2, 0.2, 0.2, 0.2, 0.2, 0.2, 0.2, 0.2, 0.2, 0.2, 0.2, 0.1, 0.1, 0.1, 0.1, 0.15, 0.2, 0.25, 0.25, 0.25, 0.25, 0.25, 0.25, 0.25, 0.25, 0.25, 0.2, 0.15, 0.15, 0.15]\n"
     ]
    },
    {
     "data": {
      "text/html": [
       "Finishing last run (ID:st3024zo) before initializing another..."
      ],
      "text/plain": [
       "<IPython.core.display.HTML object>"
      ]
     },
     "metadata": {},
     "output_type": "display_data"
    },
    {
     "data": {
      "text/html": [
       "Waiting for W&B process to finish... <strong style=\"color:green\">(success).</strong>"
      ],
      "text/plain": [
       "<IPython.core.display.HTML object>"
      ]
     },
     "metadata": {},
     "output_type": "display_data"
    },
    {
     "data": {
      "text/html": [
       "<style>\n",
       "    table.wandb td:nth-child(1) { padding: 0 10px; text-align: left ; width: auto;} td:nth-child(2) {text-align: left ; width: 100%}\n",
       "    .wandb-row { display: flex; flex-direction: row; flex-wrap: wrap; justify-content: flex-start; width: 100% }\n",
       "    .wandb-col { display: flex; flex-direction: column; flex-basis: 100%; flex: 1; padding: 10px; }\n",
       "    </style>\n",
       "<div class=\"wandb-row\"><div class=\"wandb-col\"><h3>Run history:</h3><br/><table class=\"wandb\"><tr><td>latent separation accuracy</td><td>▁▁▁▁▁▁▁▁▁▁▁▁▁▁▁▁▁▁▁▁▁▁▁▁▁▁▁▁▁▁▁▁▁▁▁▁▁▁▁▁</td></tr><tr><td>total train loss</td><td>█▁▁▁▁▁▁▁▁▁▁▁▁▁▁▂▂▂▁▁▁▁▁▁▁▁▁▁▁▁▁▁▁▁▁▂▂▂▁▁</td></tr><tr><td>total validation loss</td><td>███▇▆▆▄▃▃▃▂▂▂▂▂▂▂▂▂▂▂▁▁▁▁▁▁▁▁▁▁▁▂▂▁▁▁▁▁▁</td></tr><tr><td>train label accuracy</td><td>██▄▄▅▃▄▅▅▅▄▃▃▂▂▄▂▂▁▁▁▂▂▂▁▁▂▃▅▄▄▄▅▁▅▅▅▇▅▅</td></tr><tr><td>train label loss</td><td>▄▁▁▂▃▄▅▅▅▆▆▆▇▇██████▇▇▇▇▇▇▇▇▇▇▇▇▆▇▇████▇</td></tr><tr><td>train triplet loss</td><td>█▁▁▁▁▁▁▁▁▁▁▁▁▁▁▁▁▁▁▁▁▁▁▁▁▁▁▁▁▁▁▁▁▁▁▁▁▁▁▁</td></tr><tr><td>validation label accuracy</td><td>██▇▇▇▅▂▂▁▂▂▄▁▂▂▄▅▅▅▄▄▅▅▅▅▄▂▅▅▅▅▅▂▂▅▇▇▇▅▄</td></tr><tr><td>validation label loss</td><td>▅▃▂▁▃▃▄▄▆▆▇▇▇▇▇▇▇▇▇▇▇▇▇▇▇▇▇▇▇▇▇▇▇▇▇█████</td></tr><tr><td>validation triplet loss</td><td>█▇█▇▆▆▄▄▃▃▂▂▂▂▂▂▂▂▂▂▂▁▁▁▁▁▁▁▁▁▁▁▂▂▁▁▁▁▁▁</td></tr></table><br/></div><div class=\"wandb-col\"><h3>Run summary:</h3><br/><table class=\"wandb\"><tr><td>latent separation accuracy</td><td>1.0</td></tr><tr><td>total train loss</td><td>0.71937</td></tr><tr><td>total validation loss</td><td>0.91169</td></tr><tr><td>train label accuracy</td><td>0.23</td></tr><tr><td>train label loss</td><td>0.71906</td></tr><tr><td>train triplet loss</td><td>0.00031</td></tr><tr><td>validation label accuracy</td><td>0.15</td></tr><tr><td>validation label loss</td><td>0.7249</td></tr><tr><td>validation triplet loss</td><td>0.18679</td></tr></table><br/></div></div>"
      ],
      "text/plain": [
       "<IPython.core.display.HTML object>"
      ]
     },
     "metadata": {},
     "output_type": "display_data"
    },
    {
     "data": {
      "text/html": [
       " View run <strong style=\"color:#cdcd00\">ethereal-snow-315</strong> at: <a href='https://wandb.ai/psych-711/ConceptualAlignment2023/runs/st3024zo' target=\"_blank\">https://wandb.ai/psych-711/ConceptualAlignment2023/runs/st3024zo</a><br/>Synced 6 W&B file(s), 0 media file(s), 0 artifact file(s) and 0 other file(s)"
      ],
      "text/plain": [
       "<IPython.core.display.HTML object>"
      ]
     },
     "metadata": {},
     "output_type": "display_data"
    },
    {
     "data": {
      "text/html": [
       "Find logs at: <code>./wandb/run-20231005_175555-st3024zo/logs</code>"
      ],
      "text/plain": [
       "<IPython.core.display.HTML object>"
      ]
     },
     "metadata": {},
     "output_type": "display_data"
    },
    {
     "data": {
      "text/html": [
       "Successfully finished last run (ID:st3024zo). Initializing new run:<br/>"
      ],
      "text/plain": [
       "<IPython.core.display.HTML object>"
      ]
     },
     "metadata": {},
     "output_type": "display_data"
    },
    {
     "data": {
      "application/vnd.jupyter.widget-view+json": {
       "model_id": "7133fa59fe414f0dae9d9f197a21179c",
       "version_major": 2,
       "version_minor": 0
      },
      "text/plain": [
       "VBox(children=(Label(value='Waiting for wandb.init()...\\r'), FloatProgress(value=0.01666842740960419, max=1.0)…"
      ]
     },
     "metadata": {},
     "output_type": "display_data"
    },
    {
     "data": {
      "text/html": [
       "wandb version 0.15.12 is available!  To upgrade, please run:\n",
       " $ pip install wandb --upgrade"
      ],
      "text/plain": [
       "<IPython.core.display.HTML object>"
      ]
     },
     "metadata": {},
     "output_type": "display_data"
    },
    {
     "data": {
      "text/html": [
       "Tracking run with wandb version 0.14.2"
      ],
      "text/plain": [
       "<IPython.core.display.HTML object>"
      ]
     },
     "metadata": {},
     "output_type": "display_data"
    },
    {
     "data": {
      "text/html": [
       "Run data is saved locally in <code>/mnt/home/kmukherjee/repos/ConceptualAlignmentLanguage/code/python/wandb/run-20231005_175607-7spq1mxi</code>"
      ],
      "text/plain": [
       "<IPython.core.display.HTML object>"
      ]
     },
     "metadata": {},
     "output_type": "display_data"
    },
    {
     "data": {
      "text/html": [
       "Syncing run <strong><a href='https://wandb.ai/psych-711/ConceptualAlignment2023/runs/7spq1mxi' target=\"_blank\">easy-armadillo-316</a></strong> to <a href='https://wandb.ai/psych-711/ConceptualAlignment2023' target=\"_blank\">Weights & Biases</a> (<a href='https://wandb.me/run' target=\"_blank\">docs</a>)<br/>"
      ],
      "text/plain": [
       "<IPython.core.display.HTML object>"
      ]
     },
     "metadata": {},
     "output_type": "display_data"
    },
    {
     "data": {
      "text/html": [
       " View project at <a href='https://wandb.ai/psych-711/ConceptualAlignment2023' target=\"_blank\">https://wandb.ai/psych-711/ConceptualAlignment2023</a>"
      ],
      "text/plain": [
       "<IPython.core.display.HTML object>"
      ]
     },
     "metadata": {},
     "output_type": "display_data"
    },
    {
     "data": {
      "text/html": [
       " View run at <a href='https://wandb.ai/psych-711/ConceptualAlignment2023/runs/7spq1mxi' target=\"_blank\">https://wandb.ai/psych-711/ConceptualAlignment2023/runs/7spq1mxi</a>"
      ],
      "text/plain": [
       "<IPython.core.display.HTML object>"
      ]
     },
     "metadata": {},
     "output_type": "display_data"
    },
    {
     "name": "stderr",
     "output_type": "stream",
     "text": [
      "100%|██████████| 100/100 [00:02<00:00, 46.35it/s]\n",
      " 67%|██████▋   | 2/3 [00:24<00:12, 12.04s/it]/mnt/ws/home/kmukherjee/miniconda3/envs/sketch_tools/lib/python3.8/site-packages/wandb/sdk/wandb_run.py:2087: UserWarning: Run (9jien3lc) is finished. The call to `_console_raw_callback` will be ignored. Please make sure that you are using an active run.\n",
      "  lambda data: self._console_raw_callback(\"stderr\", data),\n"
     ]
    },
    {
     "name": "stdout",
     "output_type": "stream",
     "text": [
      "validation triplet loss: [0.7812778949737549, 0.8032556772232056, 0.8049201965332031, 0.8024665713310242, 0.777927577495575, 0.7518196702003479, 0.7270261645317078, 0.7228198647499084, 0.6802545189857483, 0.6759350895881653, 0.7014622688293457, 0.6914780735969543, 0.6491081118583679, 0.6349987387657166, 0.6203736066818237, 0.5885421633720398, 0.5720008015632629, 0.5645099878311157, 0.5369675755500793, 0.5229366421699524, 0.5153339505195618, 0.5061613321304321, 0.4981837272644043, 0.4968508183956146, 0.4994598925113678, 0.5027613639831543, 0.5048738718032837, 0.5061306357383728, 0.5061156153678894, 0.505290687084198, 0.503963828086853, 0.5027291178703308, 0.5021060109138489, 0.5016428232192993, 0.5007895827293396, 0.49956759810447693, 0.49784204363822937, 0.49566784501075745, 0.49338170886039734, 0.49092379212379456, 0.4882057309150696, 0.4858510494232178, 0.48383909463882446, 0.4824472963809967, 0.4814682900905609, 0.4806835353374481, 0.4801233410835266, 0.4797928035259247, 0.4796082675457001, 0.4794909656047821, 0.47939038276672363, 0.4793124198913574, 0.4792068600654602, 0.47901293635368347, 0.47876235842704773, 0.4783807694911957, 0.47792932391166687, 0.4774523675441742, 0.476980984210968, 0.4764968454837799, 0.47601795196533203, 0.47559937834739685, 0.4752345085144043, 0.47493472695350647, 0.474702924489975, 0.474491685628891, 0.4743058383464813, 0.47411438822746277, 0.47391843795776367, 0.4737282693386078, 0.473520964384079, 0.4733288884162903, 0.47315436601638794, 0.4729951024055481, 0.4728555679321289, 0.4727334976196289, 0.47263726592063904, 0.4725549817085266, 0.47248974442481995, 0.4724203050136566, 0.4723787009716034, 0.47232362627983093, 0.47224822640419006, 0.47217369079589844, 0.472062885761261, 0.471964567899704, 0.4718664288520813, 0.47178468108177185, 0.47170206904411316, 0.4716358184814453, 0.4715757369995117, 0.47153130173683167, 0.4715021550655365, 0.47145920991897583, 0.4714091420173645, 0.4713595509529114, 0.47127944231033325, 0.4711994230747223, 0.47112274169921875, 0.4710516929626465] validation total loss: [1.4361684322357178, 1.4328703880310059, 1.3688161373138428, 1.3048639297485352, 1.228143572807312, 1.1556463241577148, 1.0933737754821777, 1.0766634941101074, 0.9890666007995605, 0.9988805055618286, 1.0696748495101929, 1.0522068738937378, 0.929926335811615, 0.9111591577529907, 0.9127591848373413, 0.8381377458572388, 0.8234686851501465, 0.8714711666107178, 0.855291485786438, 0.8391529321670532, 0.8468886017799377, 0.8596705198287964, 0.8742082118988037, 0.8856507539749146, 0.895442008972168, 0.9063613414764404, 0.9272711277008057, 0.9545623064041138, 0.9822417497634888, 1.0074474811553955, 1.0356848239898682, 1.0683094263076782, 1.0985257625579834, 1.1264822483062744, 1.1548349857330322, 1.1853893995285034, 1.212912917137146, 1.2409323453903198, 1.2668743133544922, 1.2892634868621826, 1.3060317039489746, 1.3214620351791382, 1.3354195356369019, 1.3447988033294678, 1.3506556749343872, 1.3544443845748901, 1.3573671579360962, 1.3594201803207397, 1.36186683177948, 1.3640084266662598, 1.3663172721862793, 1.368338704109192, 1.369370937347412, 1.37027108669281, 1.3709672689437866, 1.3714501857757568, 1.3717902898788452, 1.3723706007003784, 1.3729197978973389, 1.3737221956253052, 1.3748446702957153, 1.3759642839431763, 1.376537799835205, 1.3767834901809692, 1.37653648853302, 1.3757158517837524, 1.3744944334030151, 1.3731704950332642, 1.371573567390442, 1.3700674772262573, 1.3690651655197144, 1.3680405616760254, 1.3669965267181396, 1.3660184144973755, 1.3650490045547485, 1.3637752532958984, 1.3624136447906494, 1.360806941986084, 1.359115481376648, 1.3573707342147827, 1.3554339408874512, 1.353811502456665, 1.352452278137207, 1.351423978805542, 1.3504719734191895, 1.349511742591858, 1.3484480381011963, 1.3473458290100098, 1.346007227897644, 1.3447222709655762, 1.3429381847381592, 1.341221809387207, 1.3396549224853516, 1.338383436203003, 1.3372952938079834, 1.336367130279541, 1.335579514503479, 1.3349140882492065, 1.333988904953003, 1.333055019378662] validation accuracy: [0.25, 0.3, 0.45, 0.5, 0.5, 0.55, 0.6, 0.6, 0.7, 0.7, 0.7, 0.7, 0.75, 0.7, 0.7, 0.75, 0.75, 0.75, 0.75, 0.8, 0.8, 0.8, 0.85, 0.9, 0.9, 0.9, 0.9, 0.9, 0.9, 0.9, 0.85, 0.85, 0.85, 0.8, 0.8, 0.8, 0.75, 0.75, 0.75, 0.75, 0.75, 0.75, 0.75, 0.75, 0.75, 0.75, 0.75, 0.75, 0.75, 0.75, 0.75, 0.75, 0.75, 0.75, 0.75, 0.75, 0.75, 0.75, 0.75, 0.75, 0.75, 0.75, 0.75, 0.75, 0.75, 0.75, 0.75, 0.75, 0.75, 0.75, 0.75, 0.75, 0.75, 0.75, 0.75, 0.75, 0.75, 0.75, 0.75, 0.75, 0.75, 0.75, 0.75, 0.75, 0.75, 0.75, 0.75, 0.75, 0.75, 0.75, 0.75, 0.75, 0.75, 0.75, 0.75, 0.75, 0.75, 0.75, 0.75, 0.75]\n"
     ]
    },
    {
     "data": {
      "text/html": [
       "Finishing last run (ID:7spq1mxi) before initializing another..."
      ],
      "text/plain": [
       "<IPython.core.display.HTML object>"
      ]
     },
     "metadata": {},
     "output_type": "display_data"
    },
    {
     "data": {
      "text/html": [
       "Waiting for W&B process to finish... <strong style=\"color:green\">(success).</strong>"
      ],
      "text/plain": [
       "<IPython.core.display.HTML object>"
      ]
     },
     "metadata": {},
     "output_type": "display_data"
    },
    {
     "data": {
      "text/html": [
       "<style>\n",
       "    table.wandb td:nth-child(1) { padding: 0 10px; text-align: left ; width: auto;} td:nth-child(2) {text-align: left ; width: 100%}\n",
       "    .wandb-row { display: flex; flex-direction: row; flex-wrap: wrap; justify-content: flex-start; width: 100% }\n",
       "    .wandb-col { display: flex; flex-direction: column; flex-basis: 100%; flex: 1; padding: 10px; }\n",
       "    </style>\n",
       "<div class=\"wandb-row\"><div class=\"wandb-col\"><h3>Run history:</h3><br/><table class=\"wandb\"><tr><td>latent separation accuracy</td><td>▁▁▁▁▁▁▁▁▁▁▁▁▁▁▁▁▁▁▁▁▁▁▁▁▁▁▁▁▁▁▁▁▁▁▁▁▁▁▁▁</td></tr><tr><td>total train loss</td><td>█▇▆▅▄▃▂▂▁▁▁▁▁▁▁▁▁▁▁▁▁▁▁▁▁▁▁▁▁▁▁▁▁▁▁▁▁▁▁▁</td></tr><tr><td>total validation loss</td><td>█▇▅▄▄▂▁▁▁▁▂▂▃▄▅▆▆▇▇▇▇▇▇▇▇▇▇▇▇▇▇▇▇▇▇▇▇▇▇▇</td></tr><tr><td>train label accuracy</td><td>▁▃▄▅▇███████████████████████████████████</td></tr><tr><td>train label loss</td><td>█▇▅▄▃▂▁▁▁▁▁▁▁▁▁▁▁▁▁▁▁▁▁▁▁▁▁▁▁▁▁▁▁▁▁▁▁▁▁▁</td></tr><tr><td>train triplet loss</td><td>▁▃▅▇██▇▇▇▇▇▇▆▆▆▆▆▆▆▆▆▆▆▆▆▆▆▆▆▆▆▆▆▆▆▆▆▆▆▆</td></tr><tr><td>validation label accuracy</td><td>▁▃▄▅▆▆▆▆▇▇██▇▇▇▆▆▆▆▆▆▆▆▆▆▆▆▆▆▆▆▆▆▆▆▆▆▆▆▆</td></tr><tr><td>validation label loss</td><td>▅▄▃▂▂▁▁▂▂▂▃▃▄▅▆▇▇███████████████████████</td></tr><tr><td>validation triplet loss</td><td>██▇▆▆▅▃▃▂▂▂▂▂▂▂▁▁▁▁▁▁▁▁▁▁▁▁▁▁▁▁▁▁▁▁▁▁▁▁▁</td></tr></table><br/></div><div class=\"wandb-col\"><h3>Run summary:</h3><br/><table class=\"wandb\"><tr><td>latent separation accuracy</td><td>1.0</td></tr><tr><td>total train loss</td><td>0.40858</td></tr><tr><td>total validation loss</td><td>1.33306</td></tr><tr><td>train label accuracy</td><td>1.0</td></tr><tr><td>train label loss</td><td>0.0</td></tr><tr><td>train triplet loss</td><td>0.40858</td></tr><tr><td>validation label accuracy</td><td>0.75</td></tr><tr><td>validation label loss</td><td>0.862</td></tr><tr><td>validation triplet loss</td><td>0.47105</td></tr></table><br/></div></div>"
      ],
      "text/plain": [
       "<IPython.core.display.HTML object>"
      ]
     },
     "metadata": {},
     "output_type": "display_data"
    },
    {
     "data": {
      "text/html": [
       " View run <strong style=\"color:#cdcd00\">easy-armadillo-316</strong> at: <a href='https://wandb.ai/psych-711/ConceptualAlignment2023/runs/7spq1mxi' target=\"_blank\">https://wandb.ai/psych-711/ConceptualAlignment2023/runs/7spq1mxi</a><br/>Synced 6 W&B file(s), 0 media file(s), 0 artifact file(s) and 0 other file(s)"
      ],
      "text/plain": [
       "<IPython.core.display.HTML object>"
      ]
     },
     "metadata": {},
     "output_type": "display_data"
    },
    {
     "data": {
      "text/html": [
       "Find logs at: <code>./wandb/run-20231005_175607-7spq1mxi/logs</code>"
      ],
      "text/plain": [
       "<IPython.core.display.HTML object>"
      ]
     },
     "metadata": {},
     "output_type": "display_data"
    },
    {
     "data": {
      "text/html": [
       "Successfully finished last run (ID:7spq1mxi). Initializing new run:<br/>"
      ],
      "text/plain": [
       "<IPython.core.display.HTML object>"
      ]
     },
     "metadata": {},
     "output_type": "display_data"
    },
    {
     "data": {
      "application/vnd.jupyter.widget-view+json": {
       "model_id": "0aec281059cc4340a2150792bfd9173b",
       "version_major": 2,
       "version_minor": 0
      },
      "text/plain": [
       "VBox(children=(Label(value='Waiting for wandb.init()...\\r'), FloatProgress(value=0.01666856831870973, max=1.0)…"
      ]
     },
     "metadata": {},
     "output_type": "display_data"
    },
    {
     "data": {
      "text/html": [
       "wandb version 0.15.12 is available!  To upgrade, please run:\n",
       " $ pip install wandb --upgrade"
      ],
      "text/plain": [
       "<IPython.core.display.HTML object>"
      ]
     },
     "metadata": {},
     "output_type": "display_data"
    },
    {
     "data": {
      "text/html": [
       "Tracking run with wandb version 0.14.2"
      ],
      "text/plain": [
       "<IPython.core.display.HTML object>"
      ]
     },
     "metadata": {},
     "output_type": "display_data"
    },
    {
     "data": {
      "text/html": [
       "Run data is saved locally in <code>/mnt/home/kmukherjee/repos/ConceptualAlignmentLanguage/code/python/wandb/run-20231005_175619-6t5m7x5l</code>"
      ],
      "text/plain": [
       "<IPython.core.display.HTML object>"
      ]
     },
     "metadata": {},
     "output_type": "display_data"
    },
    {
     "data": {
      "text/html": [
       "Syncing run <strong><a href='https://wandb.ai/psych-711/ConceptualAlignment2023/runs/6t5m7x5l' target=\"_blank\">cosmic-fog-317</a></strong> to <a href='https://wandb.ai/psych-711/ConceptualAlignment2023' target=\"_blank\">Weights & Biases</a> (<a href='https://wandb.me/run' target=\"_blank\">docs</a>)<br/>"
      ],
      "text/plain": [
       "<IPython.core.display.HTML object>"
      ]
     },
     "metadata": {},
     "output_type": "display_data"
    },
    {
     "data": {
      "text/html": [
       " View project at <a href='https://wandb.ai/psych-711/ConceptualAlignment2023' target=\"_blank\">https://wandb.ai/psych-711/ConceptualAlignment2023</a>"
      ],
      "text/plain": [
       "<IPython.core.display.HTML object>"
      ]
     },
     "metadata": {},
     "output_type": "display_data"
    },
    {
     "data": {
      "text/html": [
       " View run at <a href='https://wandb.ai/psych-711/ConceptualAlignment2023/runs/6t5m7x5l' target=\"_blank\">https://wandb.ai/psych-711/ConceptualAlignment2023/runs/6t5m7x5l</a>"
      ],
      "text/plain": [
       "<IPython.core.display.HTML object>"
      ]
     },
     "metadata": {},
     "output_type": "display_data"
    },
    {
     "name": "stderr",
     "output_type": "stream",
     "text": [
      "100%|██████████| 100/100 [00:02<00:00, 45.46it/s]\n",
      "100%|██████████| 3/3 [00:36<00:00, 12.05s/it]/mnt/ws/home/kmukherjee/miniconda3/envs/sketch_tools/lib/python3.8/site-packages/wandb/sdk/wandb_run.py:2087: UserWarning: Run (9jien3lc) is finished. The call to `_console_raw_callback` will be ignored. Please make sure that you are using an active run.\n",
      "  lambda data: self._console_raw_callback(\"stderr\", data),\n",
      "100%|██████████| 3/3 [00:36<00:00, 12.07s/it]\n"
     ]
    },
    {
     "name": "stdout",
     "output_type": "stream",
     "text": [
      "validation triplet loss: [0.6644529104232788, 0.6112272143363953, 0.5776681303977966, 0.6236146092414856, 0.6405686736106873, 0.5990908145904541, 0.5735971331596375, 0.5629510283470154, 0.5292701125144958, 0.45390817523002625, 0.3716748356819153, 0.33253780007362366, 0.31736937165260315, 0.3288523554801941, 0.31370192766189575, 0.29457423090934753, 0.3162075877189636, 0.3343983292579651, 0.36375588178634644, 0.36943575739860535, 0.3356291949748993, 0.29329487681388855, 0.23842237889766693, 0.20252428948879242, 0.15799129009246826, 0.13098447024822235, 0.11722727864980698, 0.11136545985937119, 0.10559578984975815, 0.10225921869277954, 0.10105430334806442, 0.087112195789814, 0.07518595457077026, 0.06451719254255295, 0.05649325251579285, 0.051135022193193436, 0.04748177155852318, 0.04476359114050865, 0.043241098523139954, 0.0430152602493763, 0.04321015253663063, 0.04371441528201103, 0.043999530375003815, 0.04397626966238022, 0.04371963068842888, 0.04293335974216461, 0.042032551020383835, 0.041338641196489334, 0.03520236909389496, 0.03367246314883232, 0.03565726801753044, 0.03958115726709366, 0.042945120483636856, 0.04350484535098076, 0.04269469901919365, 0.04132741689682007, 0.04158265143632889, 0.04127030074596405, 0.04103480279445648, 0.04089886322617531, 0.04081191495060921, 0.0377199687063694, 0.034249406307935715, 0.03267251327633858, 0.03121693804860115, 0.029184645041823387, 0.026914848014712334, 0.0249951034784317, 0.023318776860833168, 0.022655177861452103, 0.022189518436789513, 0.02186439000070095, 0.021127799525856972, 0.020767251029610634, 0.02063491754233837, 0.020579516887664795, 0.02052725851535797, 0.020626669749617577, 0.02069522999227047, 0.02092381753027439, 0.02106606774032116, 0.02112005464732647, 0.021061137318611145, 0.02099602483212948, 0.02096724510192871, 0.020926624536514282, 0.020892927423119545, 0.020830100402235985, 0.020765205845236778, 0.020724555477499962, 0.020680537447333336, 0.02065613865852356, 0.02061804197728634, 0.020559534430503845, 0.02052045240998268, 0.020496660843491554, 0.02047555521130562, 0.0204614344984293, 0.020420733839273453, 0.020395934581756592] validation total loss: [1.335005283355713, 1.2470145225524902, 1.185756802558899, 1.2247060537338257, 1.239113211631775, 1.1758825778961182, 1.0971415042877197, 1.0710558891296387, 1.0269098281860352, 0.9127368927001953, 0.7835922837257385, 0.7085222005844116, 0.6578236222267151, 0.6806347370147705, 0.6531214118003845, 0.6099081635475159, 0.674842357635498, 0.7062171697616577, 0.7266823053359985, 0.7281989455223083, 0.6611168384552002, 0.5626848340034485, 0.44376033544540405, 0.37497609853744507, 0.3158278465270996, 0.28644317388534546, 0.2763999104499817, 0.2875031530857086, 0.2979868948459625, 0.3100280165672302, 0.3147217631340027, 0.3056873381137848, 0.31310611963272095, 0.33904483914375305, 0.3660886883735657, 0.3949722945690155, 0.411344975233078, 0.4253670573234558, 0.4381428360939026, 0.4527930021286011, 0.46596625447273254, 0.48039326071739197, 0.4952338635921478, 0.5099369883537292, 0.5230802297592163, 0.5265148878097534, 0.5337470173835754, 0.5430703163146973, 0.5889333486557007, 0.6319203972816467, 0.640518844127655, 0.6406689286231995, 0.6354565024375916, 0.6158871054649353, 0.5923945903778076, 0.5760999321937561, 0.571713924407959, 0.5657282471656799, 0.5616052746772766, 0.5593926906585693, 0.5555110573768616, 0.522515594959259, 0.49769067764282227, 0.48743903636932373, 0.4807964265346527, 0.4760836362838745, 0.4727826714515686, 0.4720107913017273, 0.47183355689048767, 0.47227567434310913, 0.4725707173347473, 0.47239619493484497, 0.4880259931087494, 0.5026915073394775, 0.5160233974456787, 0.5280944108963013, 0.539725124835968, 0.5490184426307678, 0.5573108792304993, 0.5656774044036865, 0.5718991756439209, 0.5764049887657166, 0.57996666431427, 0.5829514861106873, 0.5852009654045105, 0.5866754055023193, 0.5874530076980591, 0.5875084400177002, 0.5872015357017517, 0.5866586565971375, 0.5858367085456848, 0.5852632522583008, 0.5845668315887451, 0.5841650366783142, 0.5838670134544373, 0.5837080478668213, 0.5834696888923645, 0.5832489728927612, 0.5829635262489319, 0.5823607444763184] validation accuracy: [0.25, 0.35, 0.35, 0.25, 0.25, 0.35, 0.4, 0.45, 0.45, 0.45, 0.45, 0.55, 0.65, 0.6, 0.65, 0.6, 0.7, 0.65, 0.7, 0.65, 0.7, 0.75, 0.75, 0.9, 0.9, 0.85, 0.85, 0.85, 0.85, 0.85, 0.85, 0.85, 0.9, 0.9, 0.9, 0.9, 0.9, 0.9, 0.9, 0.9, 0.9, 0.9, 0.9, 0.9, 0.9, 0.9, 0.9, 0.9, 0.9, 0.9, 0.9, 0.9, 0.9, 0.9, 0.9, 0.9, 0.9, 0.9, 0.9, 0.9, 0.9, 0.9, 0.9, 0.9, 0.9, 0.9, 0.9, 0.9, 0.9, 0.9, 0.9, 0.9, 0.9, 0.9, 0.9, 0.9, 0.9, 0.9, 0.9, 0.9, 0.9, 0.9, 0.9, 0.9, 0.9, 0.9, 0.9, 0.9, 0.9, 0.9, 0.9, 0.9, 0.9, 0.9, 0.9, 0.9, 0.9, 0.9, 0.9, 0.9]\n"
     ]
    },
    {
     "name": "stderr",
     "output_type": "stream",
     "text": [
      "  0%|          | 0/3 [00:00<?, ?it/s]"
     ]
    },
    {
     "data": {
      "text/html": [
       "Finishing last run (ID:6t5m7x5l) before initializing another..."
      ],
      "text/plain": [
       "<IPython.core.display.HTML object>"
      ]
     },
     "metadata": {},
     "output_type": "display_data"
    },
    {
     "data": {
      "text/html": [
       "Waiting for W&B process to finish... <strong style=\"color:green\">(success).</strong>"
      ],
      "text/plain": [
       "<IPython.core.display.HTML object>"
      ]
     },
     "metadata": {},
     "output_type": "display_data"
    },
    {
     "data": {
      "text/html": [
       "<style>\n",
       "    table.wandb td:nth-child(1) { padding: 0 10px; text-align: left ; width: auto;} td:nth-child(2) {text-align: left ; width: 100%}\n",
       "    .wandb-row { display: flex; flex-direction: row; flex-wrap: wrap; justify-content: flex-start; width: 100% }\n",
       "    .wandb-col { display: flex; flex-direction: column; flex-basis: 100%; flex: 1; padding: 10px; }\n",
       "    </style>\n",
       "<div class=\"wandb-row\"><div class=\"wandb-col\"><h3>Run history:</h3><br/><table class=\"wandb\"><tr><td>latent separation accuracy</td><td>▁▁▁▁▁▁▁▁▁▁▁▁▁▁▁▁▁▁▁▁▁▁▁▁▁▁▁▁▁▁▁▁▁▁▁▁▁▁▁▁</td></tr><tr><td>total train loss</td><td>█▆▅▄▄▃▃▂▂▁▁▁▁▁▁▁▁▁▁▁▁▁▁▁▁▁▁▁▁▁▁▁▁▁▁▁▁▁▁▁</td></tr><tr><td>total validation loss</td><td>█▇▇▆▄▃▃▄▄▂▁▁▁▁▂▂▂▂▃▃▃▃▃▃▃▂▂▂▂▂▃▃▃▃▃▃▃▃▃▃</td></tr><tr><td>train label accuracy</td><td>▁▂▃▃▅▆▇▇████████████████████████████████</td></tr><tr><td>train label loss</td><td>█▇▆▅▅▄▃▃▂▁▁▁▁▁▁▁▁▁▁▁▁▁▁▁▁▁▁▁▁▁▁▁▁▁▁▁▁▁▁▁</td></tr><tr><td>train triplet loss</td><td>█▂▁▁▁▁▁▁▁▁▁▁▁▁▁▁▁▁▁▁▁▁▁▁▁▁▁▁▁▁▁▁▁▁▁▁▁▁▁▁</td></tr><tr><td>validation label accuracy</td><td>▁▂▂▃▃▅▅▅▆▆▇▇▇███████████████████████████</td></tr><tr><td>validation label loss</td><td>█▇▇▆▄▄▃▄▃▂▁▁▂▃▄▄▅▅▅▆▇▇▆▆▆▅▅▅▅▅▆▆▆▇▇▇▇▇▇▇</td></tr><tr><td>validation triplet loss</td><td>█▇▇▇▅▄▄▄▄▃▂▂▂▁▁▁▁▁▁▁▁▁▁▁▁▁▁▁▁▁▁▁▁▁▁▁▁▁▁▁</td></tr></table><br/></div><div class=\"wandb-col\"><h3>Run summary:</h3><br/><table class=\"wandb\"><tr><td>latent separation accuracy</td><td>1.0</td></tr><tr><td>total train loss</td><td>1e-05</td></tr><tr><td>total validation loss</td><td>0.58236</td></tr><tr><td>train label accuracy</td><td>1.0</td></tr><tr><td>train label loss</td><td>1e-05</td></tr><tr><td>train triplet loss</td><td>0.0</td></tr><tr><td>validation label accuracy</td><td>0.9</td></tr><tr><td>validation label loss</td><td>0.56196</td></tr><tr><td>validation triplet loss</td><td>0.0204</td></tr></table><br/></div></div>"
      ],
      "text/plain": [
       "<IPython.core.display.HTML object>"
      ]
     },
     "metadata": {},
     "output_type": "display_data"
    },
    {
     "data": {
      "text/html": [
       " View run <strong style=\"color:#cdcd00\">cosmic-fog-317</strong> at: <a href='https://wandb.ai/psych-711/ConceptualAlignment2023/runs/6t5m7x5l' target=\"_blank\">https://wandb.ai/psych-711/ConceptualAlignment2023/runs/6t5m7x5l</a><br/>Synced 6 W&B file(s), 0 media file(s), 0 artifact file(s) and 0 other file(s)"
      ],
      "text/plain": [
       "<IPython.core.display.HTML object>"
      ]
     },
     "metadata": {},
     "output_type": "display_data"
    },
    {
     "data": {
      "text/html": [
       "Find logs at: <code>./wandb/run-20231005_175619-6t5m7x5l/logs</code>"
      ],
      "text/plain": [
       "<IPython.core.display.HTML object>"
      ]
     },
     "metadata": {},
     "output_type": "display_data"
    },
    {
     "data": {
      "text/html": [
       "Successfully finished last run (ID:6t5m7x5l). Initializing new run:<br/>"
      ],
      "text/plain": [
       "<IPython.core.display.HTML object>"
      ]
     },
     "metadata": {},
     "output_type": "display_data"
    },
    {
     "data": {
      "application/vnd.jupyter.widget-view+json": {
       "model_id": "bed1efc73caa458f9963c00b57b8a7ce",
       "version_major": 2,
       "version_minor": 0
      },
      "text/plain": [
       "VBox(children=(Label(value='Waiting for wandb.init()...\\r'), FloatProgress(value=0.016668511492510637, max=1.0…"
      ]
     },
     "metadata": {},
     "output_type": "display_data"
    },
    {
     "data": {
      "text/html": [
       "wandb version 0.15.12 is available!  To upgrade, please run:\n",
       " $ pip install wandb --upgrade"
      ],
      "text/plain": [
       "<IPython.core.display.HTML object>"
      ]
     },
     "metadata": {},
     "output_type": "display_data"
    },
    {
     "data": {
      "text/html": [
       "Tracking run with wandb version 0.14.2"
      ],
      "text/plain": [
       "<IPython.core.display.HTML object>"
      ]
     },
     "metadata": {},
     "output_type": "display_data"
    },
    {
     "data": {
      "text/html": [
       "Run data is saved locally in <code>/mnt/home/kmukherjee/repos/ConceptualAlignmentLanguage/code/python/wandb/run-20231005_175631-woddtugf</code>"
      ],
      "text/plain": [
       "<IPython.core.display.HTML object>"
      ]
     },
     "metadata": {},
     "output_type": "display_data"
    },
    {
     "data": {
      "text/html": [
       "Syncing run <strong><a href='https://wandb.ai/psych-711/ConceptualAlignment2023/runs/woddtugf' target=\"_blank\">glad-music-318</a></strong> to <a href='https://wandb.ai/psych-711/ConceptualAlignment2023' target=\"_blank\">Weights & Biases</a> (<a href='https://wandb.me/run' target=\"_blank\">docs</a>)<br/>"
      ],
      "text/plain": [
       "<IPython.core.display.HTML object>"
      ]
     },
     "metadata": {},
     "output_type": "display_data"
    },
    {
     "data": {
      "text/html": [
       " View project at <a href='https://wandb.ai/psych-711/ConceptualAlignment2023' target=\"_blank\">https://wandb.ai/psych-711/ConceptualAlignment2023</a>"
      ],
      "text/plain": [
       "<IPython.core.display.HTML object>"
      ]
     },
     "metadata": {},
     "output_type": "display_data"
    },
    {
     "data": {
      "text/html": [
       " View run at <a href='https://wandb.ai/psych-711/ConceptualAlignment2023/runs/woddtugf' target=\"_blank\">https://wandb.ai/psych-711/ConceptualAlignment2023/runs/woddtugf</a>"
      ],
      "text/plain": [
       "<IPython.core.display.HTML object>"
      ]
     },
     "metadata": {},
     "output_type": "display_data"
    },
    {
     "name": "stderr",
     "output_type": "stream",
     "text": [
      "100%|██████████| 100/100 [00:02<00:00, 42.73it/s]\n",
      " 33%|███▎      | 1/3 [00:12<00:24, 12.01s/it]/mnt/ws/home/kmukherjee/miniconda3/envs/sketch_tools/lib/python3.8/site-packages/wandb/sdk/wandb_run.py:2087: UserWarning: Run (6t5m7x5l) is finished. The call to `_console_raw_callback` will be ignored. Please make sure that you are using an active run.\n",
      "  lambda data: self._console_raw_callback(\"stderr\", data),\n"
     ]
    },
    {
     "name": "stdout",
     "output_type": "stream",
     "text": [
      "validation triplet loss: [0.6466699838638306, 0.5136932730674744, 0.4991872012615204, 0.4152054786682129, 0.35976675152778625, 0.33726778626441956, 0.3417889177799225, 0.35889506340026855, 0.34040918946266174, 0.31015822291374207, 0.2792142927646637, 0.24787986278533936, 0.22372618317604065, 0.21016652882099152, 0.20237503945827484, 0.1974719762802124, 0.19075898826122284, 0.18087656795978546, 0.1815304011106491, 0.1829463541507721, 0.18204398453235626, 0.17884191870689392, 0.17727963626384735, 0.1799517273902893, 0.17942512035369873, 0.17785099148750305, 0.17573976516723633, 0.17222876846790314, 0.16965197026729584, 0.1672302782535553, 0.16505788266658783, 0.16433483362197876, 0.16400307416915894, 0.1603657752275467, 0.15811696648597717, 0.15717469155788422, 0.1565883904695511, 0.15631762146949768, 0.15614686906337738, 0.1558719128370285, 0.15758973360061646, 0.15944015979766846, 0.16007061302661896, 0.163197323679924, 0.16443462669849396, 0.1712462455034256, 0.17367379367351532, 0.17502756416797638, 0.1705380529165268, 0.16675737500190735, 0.16293829679489136, 0.15896987915039062, 0.15622948110103607, 0.15396879613399506, 0.15177081525325775, 0.14985035359859467, 0.14838938415050507, 0.1472531259059906, 0.14650338888168335, 0.1411491334438324, 0.13709335029125214, 0.13489143550395966, 0.13388220965862274, 0.1328703910112381, 0.13173463940620422, 0.13124728202819824, 0.12614542245864868, 0.12687990069389343, 0.12997351586818695, 0.13250552117824554, 0.13514471054077148, 0.13738630712032318, 0.1404799520969391, 0.14263835549354553, 0.14811673760414124, 0.15262232720851898, 0.15601103007793427, 0.1585681140422821, 0.16066569089889526, 0.15847349166870117, 0.15748678147792816, 0.1577862948179245, 0.1590508222579956, 0.1580359786748886, 0.15344159305095673, 0.15449881553649902, 0.15574808418750763, 0.15669861435890198, 0.15846768021583557, 0.15997186303138733, 0.16016700863838196, 0.16001293063163757, 0.1605689376592636, 0.16138695180416107, 0.16475296020507812, 0.1645391285419464, 0.1662934124469757, 0.1688053458929062, 0.17620600759983063, 0.18304798007011414] validation total loss: [1.3107200860977173, 1.1747417449951172, 1.1550383567810059, 1.076901912689209, 1.0230889320373535, 1.0029674768447876, 1.0136669874191284, 1.0329601764678955, 1.01173996925354, 0.978875994682312, 0.9457736015319824, 0.9127646088600159, 0.8877142667770386, 0.8767279386520386, 0.8708120584487915, 0.8697783350944519, 0.8636829853057861, 0.8534464240074158, 0.8551551699638367, 0.856282114982605, 0.8546921014785767, 0.850153923034668, 0.8475033044815063, 0.8471449613571167, 0.8439299464225769, 0.8412750959396362, 0.838742196559906, 0.8360370993614197, 0.8341259956359863, 0.8324130773544312, 0.8309087753295898, 0.830695629119873, 0.8306744694709778, 0.8271730542182922, 0.8252414464950562, 0.824630856513977, 0.8244656920433044, 0.824630856513977, 0.8249050974845886, 0.8249330520629883, 0.8268120288848877, 0.8287943601608276, 0.8296182751655579, 0.8335292935371399, 0.8355430960655212, 0.8444531559944153, 0.8475223779678345, 0.8487533330917358, 0.8444300293922424, 0.8409957885742188, 0.8370912075042725, 0.8328625559806824, 0.8299132585525513, 0.8274984359741211, 0.8253101110458374, 0.8234895467758179, 0.8221638798713684, 0.8211319446563721, 0.8203893899917603, 0.816199779510498, 0.8130263686180115, 0.8112064599990845, 0.8104478120803833, 0.8096280097961426, 0.8096988201141357, 0.8095229864120483, 0.8072031140327454, 0.8094180822372437, 0.8135740756988525, 0.8156461119651794, 0.8171904683113098, 0.8182715773582458, 0.8200428485870361, 0.8209638595581055, 0.8239437341690063, 0.826686680316925, 0.8286926746368408, 0.8303350210189819, 0.8318678736686707, 0.8307021260261536, 0.8300386071205139, 0.830243706703186, 0.8312059044837952, 0.8287762403488159, 0.8230186700820923, 0.8227689862251282, 0.822737991809845, 0.8226586580276489, 0.8234487771987915, 0.82422935962677, 0.8236339092254639, 0.8230330944061279, 0.8232236504554749, 0.8237728476524353, 0.827033519744873, 0.8292725086212158, 0.83266282081604, 0.8357298374176025, 0.8410555124282837, 0.8471029996871948] validation accuracy: [0.25, 0.2, 0.25, 0.25, 0.25, 0.25, 0.3, 0.3, 0.3, 0.3, 0.25, 0.25, 0.2, 0.2, 0.2, 0.2, 0.2, 0.25, 0.25, 0.25, 0.25, 0.25, 0.25, 0.25, 0.25, 0.25, 0.25, 0.3, 0.3, 0.3, 0.3, 0.3, 0.3, 0.3, 0.25, 0.25, 0.25, 0.25, 0.25, 0.25, 0.25, 0.25, 0.25, 0.25, 0.25, 0.25, 0.25, 0.25, 0.25, 0.25, 0.25, 0.25, 0.25, 0.25, 0.25, 0.25, 0.25, 0.25, 0.25, 0.25, 0.25, 0.25, 0.25, 0.25, 0.25, 0.25, 0.25, 0.25, 0.25, 0.25, 0.25, 0.25, 0.25, 0.25, 0.25, 0.25, 0.25, 0.25, 0.25, 0.25, 0.25, 0.25, 0.25, 0.25, 0.25, 0.25, 0.25, 0.25, 0.25, 0.25, 0.25, 0.25, 0.25, 0.25, 0.25, 0.25, 0.25, 0.25, 0.25, 0.25]\n"
     ]
    },
    {
     "data": {
      "text/html": [
       "Finishing last run (ID:woddtugf) before initializing another..."
      ],
      "text/plain": [
       "<IPython.core.display.HTML object>"
      ]
     },
     "metadata": {},
     "output_type": "display_data"
    },
    {
     "data": {
      "text/html": [
       "Waiting for W&B process to finish... <strong style=\"color:green\">(success).</strong>"
      ],
      "text/plain": [
       "<IPython.core.display.HTML object>"
      ]
     },
     "metadata": {},
     "output_type": "display_data"
    },
    {
     "data": {
      "application/vnd.jupyter.widget-view+json": {
       "model_id": "afaadccf2dff428db52d9aa3bcc75c8f",
       "version_major": 2,
       "version_minor": 0
      },
      "text/plain": [
       "VBox(children=(Label(value='0.006 MB of 0.006 MB uploaded (0.000 MB deduped)\\r'), FloatProgress(value=1.0, max…"
      ]
     },
     "metadata": {},
     "output_type": "display_data"
    },
    {
     "data": {
      "text/html": [
       "<style>\n",
       "    table.wandb td:nth-child(1) { padding: 0 10px; text-align: left ; width: auto;} td:nth-child(2) {text-align: left ; width: 100%}\n",
       "    .wandb-row { display: flex; flex-direction: row; flex-wrap: wrap; justify-content: flex-start; width: 100% }\n",
       "    .wandb-col { display: flex; flex-direction: column; flex-basis: 100%; flex: 1; padding: 10px; }\n",
       "    </style>\n",
       "<div class=\"wandb-row\"><div class=\"wandb-col\"><h3>Run history:</h3><br/><table class=\"wandb\"><tr><td>latent separation accuracy</td><td>▁▁▁▁▁▁▁▁▁▁▁▁▁▁▁▁▁▁▁▁▁▁▁▁▁▁▁▁▁▁▁▁▁▁▁▁▁▁▁▁</td></tr><tr><td>total train loss</td><td>█▂▂▁▁▁▁▁▁▁▁▁▁▁▁▁▁▁▁▁▁▁▁▁▁▁▁▁▁▁▁▁▁▁▁▁▁▁▁▁</td></tr><tr><td>total validation loss</td><td>█▆▄▄▃▂▂▂▂▂▁▁▁▁▁▁▁▁▂▂▁▁▁▁▁▁▁▁▁▁▁▁▁▁▁▁▁▁▁▂</td></tr><tr><td>train label accuracy</td><td>▆▁▃▃▃▄▄▄▆▇▇█▇▇▇▆▇▆▆▅▅▅▅▅▅▅▅▅▅▅▆▆▇▇▇▆▆▆▆▇</td></tr><tr><td>train label loss</td><td>▄██▇▅▄▃▃▃▃▃▃▃▃▃▃▃▃▃▄▄▅▅▅▅▄▄▄▃▃▂▁▁▁▁▁▂▂▂▂</td></tr><tr><td>train triplet loss</td><td>█▂▁▁▁▁▁▁▁▁▁▁▁▁▁▁▁▁▁▁▁▁▁▁▁▁▁▁▁▁▁▁▁▁▁▁▁▁▁▁</td></tr><tr><td>validation label accuracy</td><td>▄▄▄█▄▁▁▄▄▄▄███▄▄▄▄▄▄▄▄▄▄▄▄▄▄▄▄▄▄▄▄▄▄▄▄▄▄</td></tr><tr><td>validation label loss</td><td>▃▁▃▆▄▃▅▅▅▅▃▃▄▄▄▄▄▅▅▆▆▅▅▆▆▆▇█▇▇▅▅▅▅▄▃▃▃▄▃</td></tr><tr><td>validation triplet loss</td><td>█▆▄▄▃▂▂▂▂▂▂▂▂▁▁▁▁▁▂▂▁▁▁▁▁▁▁▁▁▁▁▁▁▁▁▁▁▁▂▂</td></tr></table><br/></div><div class=\"wandb-col\"><h3>Run summary:</h3><br/><table class=\"wandb\"><tr><td>latent separation accuracy</td><td>1.0</td></tr><tr><td>total train loss</td><td>0.66878</td></tr><tr><td>total validation loss</td><td>0.8471</td></tr><tr><td>train label accuracy</td><td>0.3</td></tr><tr><td>train label loss</td><td>0.66878</td></tr><tr><td>train triplet loss</td><td>0.0</td></tr><tr><td>validation label accuracy</td><td>0.25</td></tr><tr><td>validation label loss</td><td>0.66405</td></tr><tr><td>validation triplet loss</td><td>0.18305</td></tr></table><br/></div></div>"
      ],
      "text/plain": [
       "<IPython.core.display.HTML object>"
      ]
     },
     "metadata": {},
     "output_type": "display_data"
    },
    {
     "data": {
      "text/html": [
       " View run <strong style=\"color:#cdcd00\">glad-music-318</strong> at: <a href='https://wandb.ai/psych-711/ConceptualAlignment2023/runs/woddtugf' target=\"_blank\">https://wandb.ai/psych-711/ConceptualAlignment2023/runs/woddtugf</a><br/>Synced 6 W&B file(s), 0 media file(s), 0 artifact file(s) and 0 other file(s)"
      ],
      "text/plain": [
       "<IPython.core.display.HTML object>"
      ]
     },
     "metadata": {},
     "output_type": "display_data"
    },
    {
     "data": {
      "text/html": [
       "Find logs at: <code>./wandb/run-20231005_175631-woddtugf/logs</code>"
      ],
      "text/plain": [
       "<IPython.core.display.HTML object>"
      ]
     },
     "metadata": {},
     "output_type": "display_data"
    },
    {
     "data": {
      "text/html": [
       "Successfully finished last run (ID:woddtugf). Initializing new run:<br/>"
      ],
      "text/plain": [
       "<IPython.core.display.HTML object>"
      ]
     },
     "metadata": {},
     "output_type": "display_data"
    },
    {
     "data": {
      "application/vnd.jupyter.widget-view+json": {
       "model_id": "c11e938e15a541f99fcdaafbed79d8d1",
       "version_major": 2,
       "version_minor": 0
      },
      "text/plain": [
       "VBox(children=(Label(value='Waiting for wandb.init()...\\r'), FloatProgress(value=0.016668485788007576, max=1.0…"
      ]
     },
     "metadata": {},
     "output_type": "display_data"
    },
    {
     "data": {
      "text/html": [
       "wandb version 0.15.12 is available!  To upgrade, please run:\n",
       " $ pip install wandb --upgrade"
      ],
      "text/plain": [
       "<IPython.core.display.HTML object>"
      ]
     },
     "metadata": {},
     "output_type": "display_data"
    },
    {
     "data": {
      "text/html": [
       "Tracking run with wandb version 0.14.2"
      ],
      "text/plain": [
       "<IPython.core.display.HTML object>"
      ]
     },
     "metadata": {},
     "output_type": "display_data"
    },
    {
     "data": {
      "text/html": [
       "Run data is saved locally in <code>/mnt/home/kmukherjee/repos/ConceptualAlignmentLanguage/code/python/wandb/run-20231005_175643-gqw5laai</code>"
      ],
      "text/plain": [
       "<IPython.core.display.HTML object>"
      ]
     },
     "metadata": {},
     "output_type": "display_data"
    },
    {
     "data": {
      "text/html": [
       "Syncing run <strong><a href='https://wandb.ai/psych-711/ConceptualAlignment2023/runs/gqw5laai' target=\"_blank\">royal-microwave-319</a></strong> to <a href='https://wandb.ai/psych-711/ConceptualAlignment2023' target=\"_blank\">Weights & Biases</a> (<a href='https://wandb.me/run' target=\"_blank\">docs</a>)<br/>"
      ],
      "text/plain": [
       "<IPython.core.display.HTML object>"
      ]
     },
     "metadata": {},
     "output_type": "display_data"
    },
    {
     "data": {
      "text/html": [
       " View project at <a href='https://wandb.ai/psych-711/ConceptualAlignment2023' target=\"_blank\">https://wandb.ai/psych-711/ConceptualAlignment2023</a>"
      ],
      "text/plain": [
       "<IPython.core.display.HTML object>"
      ]
     },
     "metadata": {},
     "output_type": "display_data"
    },
    {
     "data": {
      "text/html": [
       " View run at <a href='https://wandb.ai/psych-711/ConceptualAlignment2023/runs/gqw5laai' target=\"_blank\">https://wandb.ai/psych-711/ConceptualAlignment2023/runs/gqw5laai</a>"
      ],
      "text/plain": [
       "<IPython.core.display.HTML object>"
      ]
     },
     "metadata": {},
     "output_type": "display_data"
    },
    {
     "name": "stderr",
     "output_type": "stream",
     "text": [
      "100%|██████████| 100/100 [00:01<00:00, 51.92it/s]\n",
      " 67%|██████▋   | 2/3 [00:21<00:10, 10.72s/it]/mnt/ws/home/kmukherjee/miniconda3/envs/sketch_tools/lib/python3.8/site-packages/wandb/sdk/wandb_run.py:2087: UserWarning: Run (6t5m7x5l) is finished. The call to `_console_raw_callback` will be ignored. Please make sure that you are using an active run.\n",
      "  lambda data: self._console_raw_callback(\"stderr\", data),\n"
     ]
    },
    {
     "name": "stdout",
     "output_type": "stream",
     "text": [
      "validation triplet loss: [0.8539018630981445, 0.8334077000617981, 0.7696071863174438, 0.7246454954147339, 0.6945151686668396, 0.6693103909492493, 0.6250882148742676, 0.5573397874832153, 0.5058600306510925, 0.4661056101322174, 0.4357603192329407, 0.40747061371803284, 0.39672935009002686, 0.3964630663394928, 0.4018155038356781, 0.4032715857028961, 0.40325814485549927, 0.3976181447505951, 0.3904040455818176, 0.38045233488082886, 0.3653390109539032, 0.3536454141139984, 0.3425372540950775, 0.3360569477081299, 0.3345935046672821, 0.3363778293132782, 0.3375082015991211, 0.3385043442249298, 0.33950015902519226, 0.3403986990451813, 0.3413320481777191, 0.34257927536964417, 0.3437754809856415, 0.3447650372982025, 0.34572187066078186, 0.3467767834663391, 0.3478299677371979, 0.34881827235221863, 0.3496801555156708, 0.3505452573299408, 0.3512859046459198, 0.35188719630241394, 0.3524050712585449, 0.3528828024864197, 0.3532876670360565, 0.35372546315193176, 0.35416895151138306, 0.35465285181999207, 0.3551653325557709, 0.3556816279888153, 0.35617634654045105, 0.35663023591041565, 0.35704097151756287, 0.35740455985069275, 0.3576657772064209, 0.35789114236831665, 0.3580944240093231, 0.3582606315612793, 0.3584182858467102, 0.35857725143432617, 0.35874485969543457, 0.3589155077934265, 0.3590753972530365, 0.35921844840049744, 0.3593246638774872, 0.359417200088501, 0.35950469970703125, 0.35957443714141846, 0.3596348762512207, 0.3596995770931244, 0.35976019501686096, 0.35982105135917664, 0.3598822057247162, 0.3599375784397125, 0.359993040561676, 0.36003944277763367, 0.36006399989128113, 0.3600943088531494, 0.3601214587688446, 0.36014363169670105, 0.36016684770584106, 0.3601875305175781, 0.3602028489112854, 0.3602265417575836, 0.3602505624294281, 0.3602614402770996, 0.36026832461357117, 0.360279381275177, 0.3602898418903351, 0.36029982566833496, 0.36031320691108704, 0.36032411456108093, 0.3603307902812958, 0.36033210158348083, 0.3603250980377197, 0.3603232800960541, 0.36032038927078247, 0.36031028628349304, 0.3603016436100006, 0.3602953851222992] validation total loss: [1.5412721633911133, 1.4667561054229736, 1.3394170999526978, 1.2360351085662842, 1.1587527990341187, 1.09333074092865, 1.0161350965499878, 0.9000077247619629, 0.8047032356262207, 0.7127290964126587, 0.6518145203590393, 0.6040796041488647, 0.5902199149131775, 0.590648353099823, 0.6006495356559753, 0.6089069247245789, 0.6373052597045898, 0.6468262672424316, 0.6385576128959656, 0.6163405179977417, 0.5792340040206909, 0.5382834672927856, 0.5272355079650879, 0.5248340964317322, 0.5641741156578064, 0.586487889289856, 0.5869775414466858, 0.581443190574646, 0.5758748054504395, 0.5692419409751892, 0.5623034834861755, 0.5590431094169617, 0.5586281418800354, 0.5600477457046509, 0.5626587271690369, 0.5666452646255493, 0.5719130039215088, 0.5771123766899109, 0.5833350419998169, 0.5909456014633179, 0.5993968844413757, 0.6077905893325806, 0.6156812310218811, 0.6221365928649902, 0.6276837587356567, 0.6322786211967468, 0.6358963251113892, 0.6388067007064819, 0.6412992477416992, 0.643487274646759, 0.6452122926712036, 0.6469372510910034, 0.6492186188697815, 0.6512917876243591, 0.6526352167129517, 0.6533894538879395, 0.653349757194519, 0.6528539657592773, 0.6515329480171204, 0.6498615145683289, 0.6479213237762451, 0.646171510219574, 0.6447184681892395, 0.6437435746192932, 0.6432400941848755, 0.6430083513259888, 0.6428540349006653, 0.6424860954284668, 0.6423289775848389, 0.6419084668159485, 0.6412031650543213, 0.6402565240859985, 0.639541745185852, 0.6388223171234131, 0.6381367444992065, 0.6375331878662109, 0.6372088193893433, 0.6370828151702881, 0.6371136903762817, 0.6372964382171631, 0.6375394463539124, 0.6378920078277588, 0.6380611658096313, 0.6382458209991455, 0.6383271217346191, 0.638330340385437, 0.6383222341537476, 0.6383893489837646, 0.6386520862579346, 0.6389684677124023, 0.6393365859985352, 0.6397024393081665, 0.6400930285453796, 0.6404611468315125, 0.6408944129943848, 0.6411542296409607, 0.6414071917533875, 0.6417412161827087, 0.642103910446167, 0.6425315141677856] validation accuracy: [0.25, 0.25, 0.4, 0.45, 0.55, 0.6, 0.65, 0.7, 0.65, 0.65, 0.65, 0.65, 0.75, 0.9, 0.9, 0.9, 0.85, 0.85, 0.85, 0.9, 0.9, 0.9, 0.9, 0.9, 0.9, 0.9, 0.9, 0.9, 0.95, 0.95, 0.95, 0.95, 0.95, 0.95, 0.95, 0.95, 0.95, 0.95, 0.95, 0.95, 0.95, 0.9, 0.9, 0.9, 0.9, 0.9, 0.9, 0.9, 0.9, 0.9, 0.9, 0.9, 0.9, 0.9, 0.9, 0.9, 0.9, 0.9, 0.9, 0.9, 0.9, 0.9, 0.9, 0.9, 0.9, 0.9, 0.9, 0.9, 0.95, 0.95, 0.95, 0.95, 0.95, 0.95, 0.95, 0.95, 0.95, 0.95, 0.95, 0.95, 0.95, 0.95, 0.95, 0.95, 0.95, 0.95, 0.95, 0.95, 0.95, 0.95, 0.95, 0.95, 0.95, 0.95, 0.95, 0.95, 0.95, 0.95, 0.95, 0.95]\n"
     ]
    },
    {
     "data": {
      "text/html": [
       "Finishing last run (ID:gqw5laai) before initializing another..."
      ],
      "text/plain": [
       "<IPython.core.display.HTML object>"
      ]
     },
     "metadata": {},
     "output_type": "display_data"
    },
    {
     "data": {
      "text/html": [
       "Waiting for W&B process to finish... <strong style=\"color:green\">(success).</strong>"
      ],
      "text/plain": [
       "<IPython.core.display.HTML object>"
      ]
     },
     "metadata": {},
     "output_type": "display_data"
    }
   ],
   "source": [
    "wandb.finish()\n",
    "\n",
    "num_classes = 4 # Number of unique class labels in the dataset\n",
    "latent_dims = 64\n",
    "epochs = 1000\n",
    "lr = 0.005\n",
    "num_models = 1\n",
    "batch_size = 256\n",
    "save_dir = save_dir\n",
    "main_code(save_dir, num_models, epochs, num_classes, batch_size,\n",
    "             lr, latent_dims)\n",
    "wandb.finish()"
   ]
  },
  {
   "cell_type": "code",
   "execution_count": null,
   "metadata": {},
   "outputs": [],
   "source": []
  }
 ],
 "metadata": {
  "kernelspec": {
   "display_name": "vision",
   "language": "python",
   "name": "python3"
  },
  "language_info": {
   "codemirror_mode": {
    "name": "ipython",
    "version": 3
   },
   "file_extension": ".py",
   "mimetype": "text/x-python",
   "name": "python",
   "nbconvert_exporter": "python",
   "pygments_lexer": "ipython3",
   "version": "3.8.13"
  },
  "orig_nbformat": 4,
  "vscode": {
   "interpreter": {
    "hash": "c5ec221b8ce1ddc6eafacfbc77a75e3f09c9fea6e76ac8503f9810425480e77e"
   }
  }
 },
 "nbformat": 4,
 "nbformat_minor": 2
}
